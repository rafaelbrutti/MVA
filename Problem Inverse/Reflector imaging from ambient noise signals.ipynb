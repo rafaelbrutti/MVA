{
 "cells": [
  {
   "cell_type": "markdown",
   "id": "3f081aa1",
   "metadata": {},
   "source": [
    "# Projet : Reflector imaging from ambient noise signals"
   ]
  },
  {
   "cell_type": "code",
   "execution_count": 1,
   "id": "6992c743",
   "metadata": {},
   "outputs": [],
   "source": [
    "import numpy as np\n",
    "\n",
    "import matplotlib.pyplot as plt\n",
    "from scipy.integrate import quad"
   ]
  },
  {
   "cell_type": "code",
   "execution_count": 2,
   "id": "c4d4be25",
   "metadata": {},
   "outputs": [],
   "source": [
    "def simulated_sampling(N = 200):\n",
    "    ys = np.vstack((np.random.uniform(-50,50, N),np.random.uniform(-10,10, N),np.random.uniform(185,200, N)))\n",
    "    return ys.T\n",
    "\n",
    "def receivers_sampling(n = 5):\n",
    "    x = np.zeros((n,3))\n",
    "    x[:,0] = np.arange(n)* 7.5 - 30\n",
    "    x[:,2] = 100 * np.ones(n)\n",
    "    return x"
   ]
  },
  {
   "cell_type": "markdown",
   "id": "33df3a20",
   "metadata": {},
   "source": [
    "### 2) Preliminaries "
   ]
  },
  {
   "cell_type": "code",
   "execution_count": 3,
   "id": "153632ad",
   "metadata": {},
   "outputs": [],
   "source": [
    "c0 = 1 \n",
    "xr = -5 \n",
    "yr = 0\n",
    "zr = np.array([-5,0,65])\n",
    "sigmar = 1e-3"
   ]
  },
  {
   "cell_type": "code",
   "execution_count": 4,
   "id": "ec586797",
   "metadata": {},
   "outputs": [],
   "source": [
    "y = simulated_sampling()\n",
    "x = receivers_sampling()"
   ]
  },
  {
   "cell_type": "code",
   "execution_count": 5,
   "id": "d8170517",
   "metadata": {},
   "outputs": [
    {
     "data": {
      "image/png": "[encoded data removed]",
      "text/plain": [
       "<Figure size 432x288 with 1 Axes>"
      ]
     },
     "metadata": {
      "needs_background": "light"
     },
     "output_type": "display_data"
    }
   ],
   "source": [
    "plt.scatter(y[:,2], y[:,0], marker ='o', color = 'white', edgecolors = 'black', label = 'y')\n",
    "plt.scatter(x[:,2], x[:,0], marker = '^', color ='black', label ='x')\n",
    "plt.scatter(zr[2], zr[0], marker = 'd', color = 'b', label = r'$z_r$')\n",
    "plt.xlabel(\"z\")\n",
    "plt.xlim(0,200)\n",
    "plt.ylim(-50,50)\n",
    "plt.ylabel(\"x\")\n",
    "plt.legend()\n",
    "plt.show()"
   ]
  },
  {
   "cell_type": "markdown",
   "id": "eecbde8f",
   "metadata": {},
   "source": [
    "### 4) Questions "
   ]
  },
  {
   "cell_type": "code",
   "execution_count": 6,
   "id": "f04b6962",
   "metadata": {},
   "outputs": [],
   "source": [
    "def power_spectral_density(omega):\n",
    "    return np.exp(-np.power(omega,2))\n",
    "\n",
    "def homogeneous_green_function(omega,x,y):\n",
    "    if len(x.shape)==1 and len(y.shape)==1 :\n",
    "        z = np.linalg.norm(x-y)\n",
    "    else : \n",
    "        z = np.linalg.norm(x-y, axis = 1)\n",
    "    return 1/(4*np.pi*z)*np.exp(1j * omega * z /c0)\n",
    "\n",
    "def green_function(omega, x, y):\n",
    "    G = homogeneous_green_function\n",
    "    return G(omega,x,y) + sigmar * np.power(omega,2)*G(omega,x,zr)*G(omega,zr,y)\n",
    "\n",
    "\n",
    "def expectation_cross_correlation(tau, x1, x2,y, a = -10, b = 10, n = 1000):    \n",
    "    omega = np.linspace(a, b, n).reshape(-1,1)\n",
    "    G_hat_G = np.conj(green_function(omega, x1, y)) * green_function(omega, x2, y)\n",
    "    C_N = np.dot(power_spectral_density(omega).T,G_hat_G.mean(1))*np.exp(-1j*omega*tau)\n",
    "    \n",
    "    # Intégrale de Riemann\n",
    "    C_N = (b-a)*C_N.mean(0)\n",
    "    return C_N/(2*np.pi)"
   ]
  },
  {
   "cell_type": "code",
   "execution_count": 7,
   "id": "a45a7f99",
   "metadata": {},
   "outputs": [
    {
     "name": "stderr",
     "output_type": "stream",
     "text": [
      "/Users/macrafa/opt/anaconda3/lib/python3.8/site-packages/matplotlib/cbook/__init__.py:1289: ComplexWarning: Casting complex values to real discards the imaginary part\n",
      "  return np.asarray(x, float)\n"
     ]
    },
    {
     "data": {
      "image/png": "[encoded data removed]",
      "text/plain": [
       "<Figure size 432x288 with 1 Axes>"
      ]
     },
     "metadata": {
      "needs_background": "light"
     },
     "output_type": "display_data"
    }
   ],
   "source": [
    "tau = np.linspace(-200,200,1000)\n",
    "\n",
    "f = expectation_cross_correlation(tau,x[4],x[0],y)\n",
    "plt.plot(tau, f)\n",
    "plt.show()"
   ]
  },
  {
   "cell_type": "code",
   "execution_count": 8,
   "id": "52485e68",
   "metadata": {},
   "outputs": [],
   "source": [
    "window_size = 20\n",
    "line = np.arange(-window_size//2,window_size//2)\n",
    "y_S = zr + [0, 0, 1] * line.reshape(-1,1) + [1, 0, 0] * line.reshape(-1,1,1)"
   ]
  },
  {
   "cell_type": "code",
   "execution_count": 9,
   "id": "b7686445",
   "metadata": {},
   "outputs": [],
   "source": [
    "def KM_images(y_S, x, y):\n",
    "    L = x.shape[0]\n",
    "    a = y_S.shape[0]\n",
    "    \n",
    "    image = np.zeros((a,a))\n",
    "    for s in range(a):\n",
    "        I_N = 0\n",
    "        for j in range(L):\n",
    "            for l in range(L):\n",
    "                tau1 = np.linalg.norm(x[j]-y_S[s,:], axis = 1)\n",
    "                tau2 = np.linalg.norm(x[l]-y_S[s,:], axis = 1)\n",
    "                \n",
    "                I_N += expectation_cross_correlation(tau1 + tau2, x[j],x[l],y)\n",
    "        image[s,:] = I_N.real\n",
    "\n",
    "    return image"
   ]
  },
  {
   "cell_type": "code",
   "execution_count": 10,
   "id": "f88af790",
   "metadata": {},
   "outputs": [
    {
     "data": {
      "image/png": "[encoded data removed]",
      "text/plain": [
       "<Figure size 432x288 with 1 Axes>"
      ]
     },
     "metadata": {
      "needs_background": "light"
     },
     "output_type": "display_data"
    }
   ],
   "source": [
    "Image = KM_images(y_S, x, y)\n",
    "plt.imshow(Image)\n",
    "plt.show()"
   ]
  },
  {
   "cell_type": "markdown",
   "id": "a0927f77",
   "metadata": {},
   "source": [
    "#### Resolution "
   ]
  },
  {
   "cell_type": "code",
   "execution_count": 11,
   "id": "76ac8627",
   "metadata": {},
   "outputs": [],
   "source": [
    "def resolution(img):\n",
    "    img = np.power(img, 2)\n",
    "    R = np.max(img)/np.mean(img)\n",
    "    return R"
   ]
  },
  {
   "cell_type": "code",
   "execution_count": 12,
   "id": "f25deb7c",
   "metadata": {},
   "outputs": [
    {
     "name": "stdout",
     "output_type": "stream",
     "text": [
      "Resolution de l'image KM de I_N : 13.767530087818454\n"
     ]
    }
   ],
   "source": [
    "R = resolution(Image)\n",
    "print(\"Resolution de l'image KM de I_N : \" + str(R))"
   ]
  },
  {
   "cell_type": "markdown",
   "id": "a6cecd71",
   "metadata": {},
   "source": [
    "#### 2.a"
   ]
  },
  {
   "cell_type": "code",
   "execution_count": 13,
   "id": "50f16421",
   "metadata": {},
   "outputs": [],
   "source": [
    "tau = np.linspace(-150,150,1000)\n",
    "\n"
   ]
  },
  {
   "cell_type": "code",
   "execution_count": null,
   "id": "f6f2af50",
   "metadata": {},
   "outputs": [],
   "source": [
    "def empirical_cross_correlation(tau, T, x1, x2, y, a = -10, b = 10, n = 1000): \n",
    "    "
   ]
  },
  {
   "cell_type": "code",
   "execution_count": 14,
   "id": "f643d786",
   "metadata": {},
   "outputs": [],
   "source": [
    "def C_TNM(M, tau, x_1, x_2, T, y, c_0, z_r, sigma_r, non_direct=False):\n",
    "\t\"\"\"\n",
    "\tThis function computes an average empirical cross correlation of the signals recorded at two\n",
    "\tdistinct locations up to time T\n",
    "\tArgs:\n",
    "\t\tM (int): number of realizations to use for the average\n",
    "\t\ttau (float): temporal lag\n",
    "\t\tx_1 (np.array): position of the first recepter\n",
    "\t\tx_2 (np.array): position of the second recepter\n",
    "\t\tT (float): time maximum\n",
    "\t\ty (np.array): position of noise sources\n",
    "\t\tc_0 (float): celerity\n",
    "\t\tz_r (np.array): reflector position\n",
    "\t\tsigma_r (float): multiplicative constant of Taylors second order term\n",
    "\t\tnon_direct (bool, optional): if true return the correlation between a direct wave and a reflected \n",
    "\t\t\t\t\t\tone without taking into account the correlation between the direct waves\n",
    "\tOutput:\n",
    "\t\tC_TNM (np.array): same shape as tau. Correlation\n",
    "\t\"\"\"\n",
    "\t# Complexité O(T * M * (N + log T + n_tau))\n",
    "\toutput = np.zeros(tau.shape, float)\n",
    "\tmi_tau = min(0, tau.min()-1)\n",
    "\tomega, dt = get_omega(T, mi_tau)\n",
    "\tnt = len(omega)\n",
    "\tt0 = int(-mi_tau/dt)\n",
    "\tl0 = -mi_tau/dt - t0\n",
    "\tif non_direct:\n",
    "\t\tG1_r = sigma_r * omega[:,None]**2 * hat_G0(omega[:,None],x_1,z_r,c_0) * hat_G0(omega[:,None],z_r,y,c_0)\n",
    "\t\tG2_r = sigma_r * omega[:,None]**2 * hat_G0(omega[:,None],x_2,z_r,c_0) * hat_G0(omega[:,None],z_r,y,c_0)\n",
    "\t\tG1_d = hat_G0(omega[:,None],x_1,y,c_0)\n",
    "\t\tG2_d = hat_G0(omega[:,None],x_2,y,c_0)\n",
    "\t\tG1s, G2s = [G1_r, G1_d], [G2_d, G2_r]\n",
    "\telse:\n",
    "\t\tG1s = [hat_G(omega[:,None], x_1, y, c_0, z_r, sigma_r)]\n",
    "\t\tG2s = [hat_G(omega[:,None], x_2, y, c_0, z_r, sigma_r)]\n",
    "\tfor m in range(M):\n",
    "\t\tprint(f'\\rRealization: {m+1}/{M}', end='')\n",
    "\t\tn = hat_n(omega, len(y)) * (omega[1] - omega[0])\n",
    "\t\tfor G1, G2 in zip(G1s, G2s):\n",
    "\t\t\tGn1 = (G1 * n).sum(1) / (2*np.pi*np.sqrt(len(y)))\t# sum over y\n",
    "\t\t\tGn2 = (G2 * n).sum(1) / (2*np.pi*np.sqrt(len(y)))\t# sum over y\n",
    "\t\t\tu1 = np.fft.fft(np.fft.ifftshift(Gn1)).real\n",
    "\t\t\tu2 = np.fft.fft(np.fft.ifftshift(Gn2)).real\n",
    "\t\t\tfor i in range(len(tau)):\n",
    "\t\t\t\tt1 = int(abs(tau[i])/dt)\n",
    "\t\t\t\tl1 = abs(tau[i])/dt - t1\n",
    "\t\t\t\tt1 += 1\n",
    "\t\t\t\tu1t = u1[t0:nt-t1]\n",
    "\t\t\t\tnum_t = nt-t0-t1\n",
    "\t\t\t\tt2 = t0 + int(nt+tau[i]/dt) - nt\n",
    "\t\t\t\tl2 = t0 + tau[i]/dt - t2\n",
    "\t\t\t\tu2t = (1-l2) * u2[t2:t2+num_t] + l2 * u2[t2+1:t2+1+num_t]\n",
    "\t\t\t\toutput[i] += ((u1t * u2t).sum() - l0*u1t[0]*u2t[0] - l1*u1t[-1]*u2t[-1]) / (num_t-l0-l1)\n",
    "\n",
    "\tprint('', end='\\r')\n",
    "\treturn output / M"
   ]
  }
 ],
 "metadata": {
  "kernelspec": {
   "display_name": "Python 3",
   "language": "python",
   "name": "python3"
  },
  "language_info": {
   "codemirror_mode": {
    "name": "ipython",
    "version": 3
   },
   "file_extension": ".py",
   "mimetype": "text/x-python",
   "name": "python",
   "nbconvert_exporter": "python",
   "pygments_lexer": "ipython3",
   "version": "3.8.8"
  }
 },
 "nbformat": 4,
 "nbformat_minor": 5
}
