{
 "cells": [
  {
   "cell_type": "markdown",
   "id": "3f081aa1",
   "metadata": {},
   "source": [
    "# Projet : Reflector imaging from ambient noise signals"
   ]
  },
  {
   "cell_type": "code",
   "execution_count": 26,
   "id": "6992c743",
   "metadata": {},
   "outputs": [],
   "source": [
    "import numpy as np\n",
    "\n",
    "import matplotlib.pyplot as plt\n",
    "from scipy.integrate import quad"
   ]
  },
  {
   "cell_type": "code",
   "execution_count": 27,
   "id": "c4d4be25",
   "metadata": {},
   "outputs": [],
   "source": [
    "def simulated_sampling(N = 200):\n",
    "    ys = np.vstack((np.random.uniform(-50,50, N),np.random.uniform(-10,10, N),np.random.uniform(185,200, N)))\n",
    "    return ys.T\n",
    "\n",
    "def receivers_sampling(n = 5):\n",
    "    x = np.zeros((n,3))\n",
    "    x[:,0] = np.arange(n)* 7.5 - 30\n",
    "    x[:,2] = 100 * np.ones(n)\n",
    "    return x"
   ]
  },
  {
   "cell_type": "markdown",
   "id": "33df3a20",
   "metadata": {},
   "source": [
    "### 2) Preliminaries "
   ]
  },
  {
   "cell_type": "code",
   "execution_count": 28,
   "id": "153632ad",
   "metadata": {},
   "outputs": [],
   "source": [
    "c0 = 1 \n",
    "xr = -5 \n",
    "yr = 0\n",
    "zr = np.array([-5,0,65])\n",
    "sigmar = 1e-3"
   ]
  },
  {
   "cell_type": "code",
   "execution_count": 29,
   "id": "ec586797",
   "metadata": {},
   "outputs": [],
   "source": [
    "y = simulated_sampling()\n",
    "x = receivers_sampling()"
   ]
  },
  {
   "cell_type": "code",
   "execution_count": 30,
   "id": "d8170517",
   "metadata": {},
   "outputs": [
    {
     "data": {
      "image/png": "[encoded data removed]",
      "text/plain": [
       "<Figure size 432x288 with 1 Axes>"
      ]
     },
     "metadata": {
      "needs_background": "light"
     },
     "output_type": "display_data"
    }
   ],
   "source": [
    "plt.scatter(y[:,2], y[:,0], marker ='o', color = 'white', edgecolors = 'black', label = 'y')\n",
    "plt.scatter(x[:,2], x[:,0], marker = '^', color ='black', label ='x')\n",
    "plt.scatter(zr[2], zr[0], marker = 'd', color = 'b', label = r'$z_r$')\n",
    "plt.xlabel(\"z\")\n",
    "plt.xlim(0,200)\n",
    "plt.ylim(-50,50)\n",
    "plt.ylabel(\"x\")\n",
    "plt.legend()\n",
    "plt.show()"
   ]
  },
  {
   "cell_type": "markdown",
   "id": "eecbde8f",
   "metadata": {},
   "source": [
    "### 4) Questions "
   ]
  },
  {
   "cell_type": "code",
   "execution_count": 43,
   "id": "f04b6962",
   "metadata": {},
   "outputs": [],
   "source": [
    "def power_spectral_density(omega):\n",
    "    return np.exp(-np.power(omega,2))\n",
    "\n",
    "def homogeneous_green_function(omega,x,y):\n",
    "    if len(x.shape)==1 and len(y.shape)==1 :\n",
    "        z = np.linalg.norm(x-y)\n",
    "    else : \n",
    "        z = np.linalg.norm(x-y, axis = 1)\n",
    "    return 1/(4*np.pi*z)*np.exp(1j * omega * z /c0)\n",
    "\n",
    "def green_function(omega, x, y):\n",
    "    G = homogeneous_green_function\n",
    "    return G(omega,x,y) + sigmar * np.power(omega,2)*G(omega,x,zr)*G(omega,zr,y)\n",
    "\n",
    "\n",
    "def expectation_cross_correlation(tau, x1, x2,y, a = -10, b = 10, n = 1000):    \n",
    "    omega = np.linspace(a, b, n).reshape(-1,1)\n",
    "    G_hat_G = np.conj(green_function(omega, x1, y)) * green_function(omega, x2, y)\n",
    "    C_N = np.dot(power_spectral_density(omega).T,G_hat_G.mean(1))*np.exp(-1j*omega*tau)\n",
    "    \n",
    "    # Intégrale de Riemann\n",
    "    C_N = (b-a)*C_N.mean(0)\n",
    "    return C_N/(2*np.pi)"
   ]
  },
  {
   "cell_type": "code",
   "execution_count": 44,
   "id": "a45a7f99",
   "metadata": {},
   "outputs": [
    {
     "name": "stderr",
     "output_type": "stream",
     "text": [
      "/Users/macrafa/opt/anaconda3/lib/python3.8/site-packages/matplotlib/cbook/__init__.py:1289: ComplexWarning: Casting complex values to real discards the imaginary part\n",
      "  return np.asarray(x, float)\n"
     ]
    },
    {
     "data": {
      "image/png": "[encoded data removed]",
      "text/plain": [
       "<Figure size 432x288 with 1 Axes>"
      ]
     },
     "metadata": {
      "needs_background": "light"
     },
     "output_type": "display_data"
    }
   ],
   "source": [
    "tau = np.linspace(-200,200,1000)\n",
    "\n",
    "f = expectation_cross_correlation(tau,x[4],x[0],y)\n",
    "plt.plot(tau, f)\n",
    "plt.show()"
   ]
  },
  {
   "cell_type": "code",
   "execution_count": 45,
   "id": "52485e68",
   "metadata": {},
   "outputs": [],
   "source": [
    "window_size = 20\n",
    "line = np.arange(-window_size//2,window_size//2)\n",
    "y_S = zr + [0, 0, 1] * line.reshape(-1,1) + [1, 0, 0] * line.reshape(-1,1,1)"
   ]
  },
  {
   "cell_type": "code",
   "execution_count": 46,
   "id": "0b1d73de",
   "metadata": {},
   "outputs": [
    {
     "data": {
      "text/plain": [
       "(20, 20, 3)"
      ]
     },
     "execution_count": 46,
     "metadata": {},
     "output_type": "execute_result"
    }
   ],
   "source": [
    "y_S.shape"
   ]
  },
  {
   "cell_type": "code",
   "execution_count": 97,
   "id": "b7686445",
   "metadata": {},
   "outputs": [],
   "source": [
    "def KM_images(y_S, x, y):\n",
    "    L = x.shape[0]\n",
    "    a = y_S.shape[0]\n",
    "    \n",
    "    image = np.zeros((a,a))\n",
    "    for s in range(a):\n",
    "        I_N = 0\n",
    "        for j in range(L):\n",
    "            for l in range(L):\n",
    "                tau1 = np.linalg.norm(x[j]-y_S[s,:], axis = 1)\n",
    "                tau2 = np.linalg.norm(x[l]-y_S[s,:], axis = 1)\n",
    "                I_N += expectation_cross_correlation(tau1 + tau2, x[j],x[l],y)\n",
    "                #I_N += C_N(tau1 + tau2, x[j], x[l], y, c0, zr, sigmar).real\n",
    "        image[s,:] = I_N\n",
    "    return image"
   ]
  },
  {
   "cell_type": "code",
   "execution_count": 98,
   "id": "f88af790",
   "metadata": {},
   "outputs": [
    {
     "name": "stderr",
     "output_type": "stream",
     "text": [
      "<ipython-input-97-6c1baabe23b8>:14: ComplexWarning: Casting complex values to real discards the imaginary part\n",
      "  image[s,:] = I_N\n"
     ]
    },
    {
     "data": {
      "image/png": "[encoded data removed]",
      "text/plain": [
       "<Figure size 432x288 with 1 Axes>"
      ]
     },
     "metadata": {
      "needs_background": "light"
     },
     "output_type": "display_data"
    }
   ],
   "source": [
    "Image = KM_images(y_S, x, y)\n",
    "plt.imshow(Image)\n",
    "plt.show()"
   ]
  },
  {
   "cell_type": "markdown",
   "id": "a0927f77",
   "metadata": {},
   "source": [
    "#### Resolution "
   ]
  },
  {
   "cell_type": "code",
   "execution_count": 11,
   "id": "76ac8627",
   "metadata": {},
   "outputs": [],
   "source": [
    "def resolution(img):\n",
    "    img = np.power(img, 2)\n",
    "    R = np.max(img)/np.mean(img)\n",
    "    return R"
   ]
  },
  {
   "cell_type": "code",
   "execution_count": 12,
   "id": "f25deb7c",
   "metadata": {},
   "outputs": [
    {
     "name": "stdout",
     "output_type": "stream",
     "text": [
      "Resolution de l'image KM de I_N : 13.07191402640781\n"
     ]
    }
   ],
   "source": [
    "R = resolution(Image)\n",
    "print(\"Resolution de l'image KM de I_N : \" + str(R))"
   ]
  },
  {
   "cell_type": "markdown",
   "id": "a6cecd71",
   "metadata": {},
   "source": [
    "#### 2.a"
   ]
  },
  {
   "cell_type": "code",
   "execution_count": 13,
   "id": "50f16421",
   "metadata": {},
   "outputs": [],
   "source": [
    "tau = np.linspace(-150,150,1000)\n",
    "\n"
   ]
  },
  {
   "cell_type": "code",
   "execution_count": 16,
   "id": "f6f2af50",
   "metadata": {},
   "outputs": [],
   "source": [
    "def empirical_cross_correlation(tau, T, x1, x2, y, a = -10, b = 10, n = 1000): \n",
    "    return 0"
   ]
  },
  {
   "cell_type": "code",
   "execution_count": null,
   "id": "38c8e95b",
   "metadata": {},
   "outputs": [],
   "source": []
  }
 ],
 "metadata": {
  "kernelspec": {
   "display_name": "Python 3",
   "language": "python",
   "name": "python3"
  },
  "language_info": {
   "codemirror_mode": {
    "name": "ipython",
    "version": 3
   },
   "file_extension": ".py",
   "mimetype": "text/x-python",
   "name": "python",
   "nbconvert_exporter": "python",
   "pygments_lexer": "ipython3",
   "version": "3.8.8"
  }
 },
 "nbformat": 4,
 "nbformat_minor": 5
}
