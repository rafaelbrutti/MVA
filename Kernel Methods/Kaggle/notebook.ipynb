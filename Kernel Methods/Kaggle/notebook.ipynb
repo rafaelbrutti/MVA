{
 "cells": [
  {
   "cell_type": "code",
   "execution_count": 1,
   "id": "59a74173",
   "metadata": {
    "ExecuteTime": {
     "end_time": "2022-04-07T13:54:09.433983Z",
     "start_time": "2022-04-07T13:54:09.420012Z"
    }
   },
   "outputs": [],
   "source": [
    "import numpy as np\n",
    "import pickle as pkl\n",
    "import matplotlib.pyplot as plt\n",
    "\n",
    "from scipy import optimize\n",
    "from scipy.linalg import cho_factor, cho_solve, eigh\n",
    "\n",
    "from sklearn.model_selection import train_test_split\n",
    "\n",
    "import copy "
   ]
  },
  {
   "cell_type": "markdown",
   "id": "6ee12363",
   "metadata": {},
   "source": [
    "# Utility functions"
   ]
  },
  {
   "cell_type": "code",
   "execution_count": 2,
   "id": "c6b9c242",
   "metadata": {
    "ExecuteTime": {
     "end_time": "2022-04-07T13:49:04.196214Z",
     "start_time": "2022-04-07T13:49:04.174900Z"
    }
   },
   "outputs": [],
   "source": [
    "def reconstructImage(data):\n",
    "\n",
    "    rows = data.values\n",
    "    \n",
    "    nb, N = rows.shape\n",
    "    red_channel = rows[:,:N//3]\n",
    "    min_red = red_channel.min(1).reshape(-1,1)\n",
    "    max_red = red_channel.max(1).reshape(-1,1)\n",
    "    red_channel = (red_channel-min_red)/(max_red-min_red)\n",
    "\n",
    "    green_channel = rows[:,N//3:2*N//3]\n",
    "    min_green = green_channel.min(1).reshape(-1,1)\n",
    "    max_green = green_channel.max(1).reshape(-1,1)\n",
    "    green_channel = (green_channel-min_green)/(max_green-min_green)\n",
    "\n",
    "    blue_channel = rows[:,2*N//3:]\n",
    "    min_blue = blue_channel.min(1).reshape(-1,1)\n",
    "    max_blue = blue_channel.max(1).reshape(-1,1)\n",
    "    blue_channel = (blue_channel-min_blue)/(max_blue-min_blue)\n",
    "\n",
    "    newdata = np.hstack((red_channel,green_channel,blue_channel))\n",
    "    newdata = newdata.reshape(nb,3,32,32).transpose(0,2,3,1)\n",
    "    return newdata\n",
    "\n",
    "def plot_image(data, index):\n",
    "\n",
    "    row = data.iloc[index].values\n",
    "    N = row.shape[0]\n",
    "    red_channel = row[:N//3].reshape(-1,1)\n",
    "    min_value = red_channel.min()\n",
    "    max_value = red_channel.max()\n",
    "    red_channel = np.array(1*(red_channel - min_value)/(max_value-min_value))\n",
    "    \n",
    "    green_channel = row[N//3:2*N//3].reshape(-1,1)\n",
    "    min_value = green_channel.min()\n",
    "    max_value = green_channel.max()\n",
    "\n",
    "    \n",
    "    green_channel = np.array(1*(green_channel - min_value)/(max_value-min_value))\n",
    "\n",
    "\n",
    "    blue_channel = row[2*N//3:].reshape(-1,1)\n",
    "    min_value = blue_channel.min()\n",
    "    max_value = blue_channel.max()\n",
    "    blue_channel = np.array(1*(blue_channel - min_value)/(max_value-min_value))\n",
    "    \n",
    "\n",
    "    image = np.hstack((red_channel,green_channel,blue_channel))\n",
    "    image = image.reshape(32,32,3)\n",
    "    plt.figure(figsize=(8,8))\n",
    "    plt.imshow(image)\n",
    "    \n",
    "def rgb2gray(rgb):\n",
    "\n",
    "    r, g, b = rgb[:,:,0], rgb[:,:,1], rgb[:,:,2]\n",
    "    gray = 0.2989 * r + 0.5870 * g + 0.1140 * b\n",
    "\n",
    "    return gray\n",
    "    \n",
    "def create_Submissioncsv(y_test):\n",
    "\n",
    "    f = open(\"result/Yte.csv\", \"w\")\n",
    "    f.write(\"Id,Prediction\\n\")\n",
    "    for n in range(len(y_test)):\n",
    "        f.write(\"{},{}\\n\".format(int(n+1),y_test[n]))\n",
    "    f.close()\n",
    "    \n",
    "def scaler(X_train, X_val = None, X_test = None):\n",
    "    \n",
    "    mu_X = X_train.mean()\n",
    "    sigma_X = X_train.std()\n",
    "        \n",
    "    return (X_train - mu_X)/sigma_X, (X_val - mu_X)/sigma_X, (X_test - mu_X)/sigma_X "
   ]
  },
  {
   "cell_type": "markdown",
   "id": "d8076b2a",
   "metadata": {},
   "source": [
    "# Load the data"
   ]
  },
  {
   "cell_type": "code",
   "execution_count": 3,
   "id": "92b7fd96",
   "metadata": {
    "ExecuteTime": {
     "end_time": "2022-04-07T13:49:13.037450Z",
     "start_time": "2022-04-07T13:49:04.202062Z"
    }
   },
   "outputs": [],
   "source": [
    "import pandas as pd"
   ]
  },
  {
   "cell_type": "code",
   "execution_count": 4,
   "id": "9d688a1c",
   "metadata": {
    "ExecuteTime": {
     "end_time": "2022-04-07T13:51:27.144574Z",
     "start_time": "2022-04-07T13:51:20.879465Z"
    }
   },
   "outputs": [],
   "source": [
    "X_train = pd.read_csv('dataset/Xtr.csv', header = None, sep=',', usecols = range(3072))\n",
    "X_test = pd.read_csv('dataset/Xte.csv', header = None, sep=',', usecols = range(3072))\n",
    "Y_train = pd.read_csv('dataset/Ytr.csv')"
   ]
  },
  {
   "cell_type": "code",
   "execution_count": 5,
   "id": "5ec1d368",
   "metadata": {
    "ExecuteTime": {
     "end_time": "2022-04-07T13:51:27.157120Z",
     "start_time": "2022-04-07T13:51:27.147802Z"
    }
   },
   "outputs": [
    {
     "data": {
      "text/plain": [
       "(5000, 3072)"
      ]
     },
     "execution_count": 5,
     "metadata": {},
     "output_type": "execute_result"
    }
   ],
   "source": [
    "X_train.shape"
   ]
  },
  {
   "cell_type": "code",
   "execution_count": 6,
   "id": "8550c5b2",
   "metadata": {
    "ExecuteTime": {
     "end_time": "2022-04-07T13:51:27.988718Z",
     "start_time": "2022-04-07T13:51:27.162120Z"
    }
   },
   "outputs": [
    {
     "data": {
      "image/png": "[encoded data removed]",
      "text/plain": [
       "<Figure size 432x288 with 1 Axes>"
      ]
     },
     "metadata": {
      "needs_background": "light"
     },
     "output_type": "display_data"
    }
   ],
   "source": [
    "Y_train.groupby('Prediction').count().plot(title = 'Number of images per class',kind='bar', xlabel = 'Class', rot = 0)\n",
    "plt.show()"
   ]
  },
  {
   "cell_type": "markdown",
   "id": "7ec15309",
   "metadata": {},
   "source": [
    "# Split the data"
   ]
  },
  {
   "cell_type": "code",
   "execution_count": 7,
   "id": "e29797b5",
   "metadata": {
    "ExecuteTime": {
     "end_time": "2022-04-07T13:51:28.265168Z",
     "start_time": "2022-04-07T13:51:27.995310Z"
    }
   },
   "outputs": [],
   "source": [
    "X_train, X_val, y_train, y_val = train_test_split(X_train, Y_train, test_size=0.15)"
   ]
  },
  {
   "cell_type": "code",
   "execution_count": 8,
   "id": "2fd18147",
   "metadata": {
    "ExecuteTime": {
     "end_time": "2022-04-07T13:51:28.755232Z",
     "start_time": "2022-04-07T13:51:28.267806Z"
    }
   },
   "outputs": [],
   "source": [
    "X_train_scaled, X_val_scaled, X_test_scaled = scaler(X_train, X_val, X_test)"
   ]
  },
  {
   "cell_type": "markdown",
   "id": "d4f356f5",
   "metadata": {},
   "source": [
    "# Visualize the data"
   ]
  },
  {
   "cell_type": "code",
   "execution_count": 9,
   "id": "81bdef41",
   "metadata": {
    "ExecuteTime": {
     "end_time": "2022-04-07T13:51:29.421313Z",
     "start_time": "2022-04-07T13:51:28.760243Z"
    }
   },
   "outputs": [
    {
     "data": {
      "image/png": "[encoded data removed]",
      "text/plain": [
       "<Figure size 576x576 with 1 Axes>"
      ]
     },
     "metadata": {
      "needs_background": "light"
     },
     "output_type": "display_data"
    }
   ],
   "source": [
    "newdata_train = reconstructImage(X_train)\n",
    "newdata_val = reconstructImage(X_val)\n",
    "newdata_test = reconstructImage(X_test)\n",
    "\n",
    "plt.figure(figsize=(8,8))\n",
    "plt.imshow(newdata_train[0])\n",
    "plt.show()"
   ]
  },
  {
   "cell_type": "code",
   "execution_count": 10,
   "id": "32db926f",
   "metadata": {
    "ExecuteTime": {
     "end_time": "2022-04-07T13:51:29.666162Z",
     "start_time": "2022-04-07T13:51:29.428468Z"
    }
   },
   "outputs": [
    {
     "data": {
      "image/png": "[encoded data removed]",
      "text/plain": [
       "<Figure size 576x576 with 1 Axes>"
      ]
     },
     "metadata": {
      "needs_background": "light"
     },
     "output_type": "display_data"
    }
   ],
   "source": [
    "plt.figure(figsize=(8,8))\n",
    "plt.imshow(rgb2gray(newdata_train[0]))\n",
    "plt.show()"
   ]
  },
  {
   "cell_type": "markdown",
   "id": "e675bfd1",
   "metadata": {},
   "source": [
    "# Kernel"
   ]
  },
  {
   "cell_type": "code",
   "execution_count": 11,
   "id": "4afe650f",
   "metadata": {},
   "outputs": [],
   "source": [
    "class RBF:\n",
    "    def __init__(self, sigma=1.):\n",
    "        self.sigma = sigma  ## the variance of the kernel\n",
    "    def kernel(self,X,Y):\n",
    "        ## Input vectors X and Y of shape Nxd and Mxd\n",
    "        N, d = X.shape \n",
    "        M, _ = Y.shape\n",
    "        X = X.reshape(N,1,d,1)\n",
    "        Y = Y.reshape(1,M,d,1)\n",
    "        G = ((X-Y).transpose((0, 1, 3, 2))@(X-Y)).reshape(N,M)\n",
    "        return np.exp(-G/(2*self.sigma**2))\n",
    "    \n",
    "class Linear:\n",
    "    def __init__(self): \n",
    "        self = self\n",
    "    def kernel(self,X,Y):\n",
    "        ## Input vectors X and Y of shape Nxd and Mxd\n",
    "        return X @ Y.T\n",
    "    \n",
    "class Polynomial:\n",
    "    def __init__(self, d = 3, cst = 0):\n",
    "        self.d = d  ## the degree of the polynomial\n",
    "        self.cst = cst  ## trading parameter\n",
    "    def kernel(self,X,Y):\n",
    "        ## Input vectors X and Y of shape Nxd and Mxd\n",
    "        return np.power(X @ Y.T + self.cst,self.d)"
   ]
  },
  {
   "cell_type": "code",
   "execution_count": 12,
   "id": "54675090",
   "metadata": {},
   "outputs": [],
   "source": [
    "class KernelPCA:\n",
    "    def __init__(self, kernel, n_components = 10):\n",
    "        self.kernel = kernel\n",
    "        self.n_components = n_components\n",
    "        \n",
    "    def fit(self, X_train):\n",
    "        \n",
    "       #### You might define here any variable needed for the rest of the code  \n",
    "        \n",
    "        K = self.kernel(X_train,X_train)\n",
    "        N = K.shape[0]\n",
    "        \n",
    "        # Center the gram matrix\n",
    "        U = np.ones((N,N))/N\n",
    "        Kc = (np.eye(N) - U)@K@(np.eye(N) - U)\n",
    "        \n",
    "        # Eigenvectors computations\n",
    "        eigenvals, eigenvects = eigh(Kc)\n",
    "        eigenvects = eigenvects.T\n",
    "        \n",
    "        eigenvals = eigenvals[::-1]   # sorting in descending order\n",
    "        eigenvects = eigenvects[::-1]\n",
    "        \n",
    "        index = np.where(eigenvals>0) # keep only eigenvectors related to positive eigenvalues\n",
    "        eigenvals = eigenvals[index]\n",
    "        eigenvects = eigenvects[:,index].squeeze()\n",
    "        \n",
    "        # Normalization\n",
    "        eigenvects = eigenvects / np.sqrt(eigenvals)\n",
    "        \n",
    "        # Projection \n",
    "        return np.dot(Kc,eigenvects)[:,:self.n_components]"
   ]
  },
  {
   "cell_type": "code",
   "execution_count": 13,
   "id": "4ebe4a91",
   "metadata": {},
   "outputs": [],
   "source": [
    "class KernelSVC:\n",
    "    \n",
    "    def __init__(self, C, kernel, epsilon = 1e-3):\n",
    "        self.type = 'non-linear'\n",
    "        self.C = C                               \n",
    "        self.kernel = kernel        \n",
    "        self.alpha = None\n",
    "        self.support = None\n",
    "        self.epsilon = epsilon\n",
    "        self.norm_f = None\n",
    "        self.diag = None\n",
    "\n",
    "    \n",
    "    def fit(self, X, y):\n",
    "       #### You might define here any variable needed for the rest of the code\n",
    "        N = len(y)\n",
    "        K = self.kernel(X,X)\n",
    "        y_diag = np.diag(y)\n",
    "        \n",
    "        # Lagrange dual problem\n",
    "        def loss(alpha):\n",
    "            #'''--------------dual loss ------------------ '''\n",
    "            return - alpha.sum() + 0.5 * alpha.T @ y_diag @ K @ y_diag @ alpha\n",
    "\n",
    "        # Partial derivate of Ld on alpha\n",
    "        def grad_loss(alpha):\n",
    "            # '''----------------partial derivative of the dual loss wrt alpha-----------------'''\n",
    "            return - np.ones(N) + y_diag @ K @ y_diag @ alpha\n",
    "\n",
    "\n",
    "        # Constraints on alpha of the shape :\n",
    "        # -  d - C*alpha  = 0\n",
    "        # -  b - A*alpha >= 0\n",
    "\n",
    "        fun_eq = lambda alpha: (0 - y.T @ alpha).reshape(1,1) # '''----------------function defining the equality constraint------------------'''        \n",
    "        jac_eq = lambda alpha:  - y #'''----------------jacobian wrt alpha of the  equality constraint------------------'''\n",
    "    \n",
    "        fun_ineq = lambda alpha:  self.C*np.vstack((np.ones((N,1)),np.zeros((N,1)))) - (np.vstack((np.eye(N),-np.eye(N)))@alpha).reshape(2*N,1) # '''---------------function defining the ineequality constraint-------------------'''     \n",
    "        jac_ineq = lambda alpha:   - np.vstack((np.eye(N),-np.eye(N))) # '''---------------jacobian wrt alpha of the  inequality constraint-------------------'''\n",
    "            \n",
    "        constraints = ({'type': 'eq',  'fun': fun_eq, 'jac': jac_eq},\n",
    "                       {'type': 'ineq', \n",
    "                        'fun': fun_ineq , \n",
    "                        'jac': jac_ineq})\n",
    "        \n",
    "        optRes = optimize.minimize(fun=lambda alpha: loss(alpha),\n",
    "                                   x0=np.ones(N), \n",
    "                                   method='SLSQP', \n",
    "                                   jac=lambda alpha: grad_loss(alpha), \n",
    "                                   constraints=constraints)\n",
    "\n",
    "        self.alpha = optRes.x \n",
    "        ## Assign the required attributes\n",
    "        \n",
    "        # Support vectors on the margin\n",
    "        supportIndices = np.logical_and(self.alpha>self.epsilon, self.alpha<self.C-self.epsilon)\n",
    "        self.support = X[supportIndices] #'''------------------- A matrix with each row corresponding to a support vector ------------------'''\n",
    "        \n",
    "        self.b = (y - y_diag @ self.alpha @ K)[supportIndices].mean() #''' -----------------offset of the classifier------------------ '''\n",
    "        self.norm_f = np.sqrt(self.alpha.T @ y_diag @ K @ y_diag @ self.alpha) # '''------------------------RKHS norm of the function f ------------------------------'''\n",
    "        \n",
    "        # Support vectors & intermediate variable \n",
    "        # for computing the separating function\n",
    "        self.X_sp = X[np.where(self.alpha>self.epsilon)]\n",
    "        self.diag = np.diag(y[np.where(self.alpha>self.epsilon)])@ self.alpha[np.where(self.alpha>self.epsilon)]\n",
    "\n",
    "    ### Implementation of the separating function $f$\n",
    "    def separating_function(self,x):\n",
    "        # Input : matrix x of shape N data points times d dimension\n",
    "        # Output: vector of size N\n",
    "        return self.diag.T @ self.kernel(self.X_sp,x)\n",
    "    \n",
    "    \n",
    "    def predict(self, X):\n",
    "        \"\"\" Predict y values in {label1, label2} \"\"\"\n",
    "        d = self.separating_function(X)\n",
    "        return 2*(d+self.b > 0) - 1\n",
    " \n",
    "\n",
    "\n",
    "class KernelCCA:\n",
    "    \n",
    "    def __init__(self, kernel_a, kernel_b, tau_a = 0.5, tau_b = 0.5):\n",
    "        self.type = 'non-linear'\n",
    "        self.kernel_a = kernel_a  \n",
    "        self.kernel_b = kernel_b    \n",
    "        self.tau_a = tau_a  \n",
    "        self.tau_b = tau_b   \n",
    "        self.alpha = None\n",
    "        self.beta = None\n",
    "        self.support = None\n",
    "        self.norm_f = None\n",
    "        self.diag = None\n",
    "\n",
    "    def fit(self, X, y):\n",
    "            \n",
    "        #### You might define here any variable needed for the rest of the code\n",
    "        N = len(y)\n",
    "        Ka = self.kernel_a(X,X)\n",
    "        Kb = self.kernel_b(X,X)\n",
    "        tau_a = self.tau_a\n",
    "        tau_b = self.tau_b\n",
    "        y_diag = np.diag(y)\n",
    "            \n",
    "        # Lagrange dual problem\n",
    "        def loss(params):        #'''--------------dual loss ------------------ '''\n",
    "            alpha, beta = params\n",
    "            return - alpha.T @ Ka @ Kb @ beta\n",
    "\n",
    "        fun_eq = lambda params: (1-(1-tau_a)*params[0].T@Ka@Ka@params[0] - tau_a*params[0].T@Ka@params[0],1-(1-tau_b)*params[1].T@Kb@Kb@params[1] - tau_b*params[1].T@Kb@params[1]) # '''----------------function defining the equality constraint------------------'''        \n",
    "        jac_eq = lambda params:  (-  2*(1-tau_a)*Ka@Ka@params[0] - 2*tau_a*Ka@params[0], -  2*(1-tau_b)*Kb@Kb@params[1] - 2*tau_b*Ka@params[1]) #'''----------------jacobian wrt alpha of the  equality constraint------------------'''\n",
    "\n",
    "\n",
    "        constraints = ({'type': 'eq',  'fun': fun_eq, 'jac': jac_eq})\n",
    "\n",
    "        optRes = optimize.minimize(fun=lambda params: loss(params),\n",
    "                                   x0= [np.ones(N),np.ones(N)], \n",
    "                                   method='SLSQP', \n",
    "                                       #jac=lambda alpha: grad_loss(alpha), \n",
    "                                   constraints=constraints)\n",
    "\n",
    "        self.alpha, self.beta = optRes.x "
   ]
  },
  {
   "cell_type": "code",
   "execution_count": 14,
   "id": "c7730098",
   "metadata": {},
   "outputs": [],
   "source": [
    "########### ONE versus ONE #############\n",
    "\n",
    "class MultClassSVMClassifier_OvO(object):\n",
    "    \n",
    "    def __init__(self, C, kernel):\n",
    "        self.C = C\n",
    "        self.kernel = kernel\n",
    "        self.classifiers = []\n",
    "    \n",
    "    def fit(self, X_train, y_train):\n",
    "\n",
    "        self.nclasses = np.unique(y_train).size\n",
    "        labels = np.unique(y_train)\n",
    "        \n",
    "        # creation of n(n-1)/2 classifiers\n",
    "        for i in range(self.nclasses):\n",
    "            for j in range(i+1, self.nclasses):\n",
    "                \n",
    "                svm = KernelSVC(C = self.C, kernel = self.kernel)\n",
    "                \n",
    "                # keep only labels i and j for binary classification\n",
    "                indexes = np.logical_or(y_train == labels[i],y_train == labels[j])\n",
    "                y_tr = np.where(y_train[indexes] == labels[i],1,-1)\n",
    "                \n",
    "                svm.fit(X_train[indexes], y_tr)\n",
    "                self.classifiers.append([svm,labels[i],labels[j]])\n",
    "                \n",
    "    def predict(self, X_test):\n",
    "        predicts = np.zeros((X_test.shape[0], self.nclasses))\n",
    "\n",
    "        for [classifier,label1, label2] in self.classifiers:\n",
    "            \n",
    "            pred = classifier.predict(X_test)\n",
    "            predicts[np.where(pred == 1),label1] +=1\n",
    "            predicts[np.where(pred == -1),label2] +=1\n",
    "            \n",
    "        return np.argmax(predicts, axis = 1)\n",
    "    \n",
    "########### ONE versus ALL #############\n",
    "    \n",
    "class MultClassSVMClassifier_OvA(object):\n",
    "     \n",
    "    def __init__(self, C, kernel):\n",
    "        self.C = C\n",
    "        self.kernel = kernel\n",
    "        self.classifiers = []\n",
    "    \n",
    "    def fit(self, X_train, y_train):\n",
    "\n",
    "        self.nclasses = np.unique(y_train).size\n",
    "        labels = np.unique(y_train)\n",
    "        \n",
    "        # creation of n classifiers\n",
    "        for i in range(self.nclasses):\n",
    "            \n",
    "            svm = KernelSVC(C = self.C, kernel = self.kernel)\n",
    "            y_tr = np.where(y_train == labels[i], 1, -1)\n",
    "            svm.fit(X_train, y_tr)\n",
    "            self.classifiers.append(svm)\n",
    "            \n",
    "    def predict(self, X_test):\n",
    "        predicts = np.zeros((X_test.shape[0], self.nclasses))\n",
    "        \n",
    "        for count, classifier in enumerate(self.classifiers):\n",
    "\n",
    "            # compute the score for each classifier\n",
    "            predicts[:,count] = classifier.separating_function(X_test) + classifier.b\n",
    "            \n",
    "        return np.argmax(predicts, axis = 1)"
   ]
  },
  {
   "cell_type": "markdown",
   "id": "2745c39a",
   "metadata": {},
   "source": [
    "# Hog features"
   ]
  },
  {
   "cell_type": "code",
   "execution_count": 15,
   "id": "f0e15ce7",
   "metadata": {
    "ExecuteTime": {
     "end_time": "2022-04-07T13:51:31.901869Z",
     "start_time": "2022-04-07T13:51:31.890402Z"
    }
   },
   "outputs": [],
   "source": [
    "def grad_image(image):\n",
    "    ### compute the discrete derivative gradient of an image\n",
    "    ### image supposed of size (32,32,3) \n",
    "    ### 3 = number of channels \n",
    "    H = 32\n",
    "    W = 32\n",
    "    grad_x = np.zeros((H,W,3))\n",
    "    grad_y = np.zeros((H,W,3))\n",
    "    #Contour\n",
    "    #col = x, row = y\n",
    "    grad_x[:,0,:] = 0\n",
    "    grad_x[:,-1,:] = 0\n",
    "    grad_y[0,:,:] = 0\n",
    "    grad_y[-1,:,:] = 0\n",
    "    \n",
    "    #true image, discrete derivative \n",
    "    grad_x[:,1:-1,:] = image[:,2:,:] - image[:,:-2,:]\n",
    "    grad_y[1:-1,:,:] = image[2:,:,:] - image[:-2,:,:]\n",
    "    \n",
    "    return grad_x, grad_y"
   ]
  },
  {
   "cell_type": "code",
   "execution_count": 16,
   "id": "b2db8912",
   "metadata": {
    "ExecuteTime": {
     "end_time": "2022-04-07T13:51:32.134546Z",
     "start_time": "2022-04-07T13:51:32.125883Z"
    }
   },
   "outputs": [],
   "source": [
    "def update_cell_hog(magnitude, orientation, orientation_start, orientation_end):\n",
    "    ### compute magnitude of a cell \n",
    "    tot = 0\n",
    "    for i in range(8):\n",
    "        for j in range(8):\n",
    "            if (orientation[i, j] >= orientation_start) or (orientation[i, j] < orientation_end):\n",
    "                continue\n",
    "            tot += magnitude[i, j]\n",
    "    return tot / (8 * 8)"
   ]
  },
  {
   "cell_type": "code",
   "execution_count": 17,
   "id": "222add54",
   "metadata": {
    "ExecuteTime": {
     "end_time": "2022-04-07T13:51:32.309658Z",
     "start_time": "2022-04-07T13:51:32.293454Z"
    }
   },
   "outputs": [],
   "source": [
    "def orient_hist(magnitude,orient_hist, c_col, c_row, n_cells_row,n_cells_col,orientations):\n",
    "    hist = np.zeros((n_cells_row, n_cells_col, orientations))\n",
    "    r_0 = c_row / 2\n",
    "    c_0 = c_col / 2\n",
    "    cc = c_row * n_cells_row\n",
    "    cr = c_col * n_cells_col\n",
    "    range_rows_stop = (c_row + 1) / 2\n",
    "    range_rows_start = -(c_row / 2)\n",
    "    range_columns_stop = (c_col + 1) / 2\n",
    "    range_columns_start = -(c_col / 2)\n",
    "    \n",
    "    #### much inspired by skimage library source\n",
    "    for i in range(orientations):\n",
    "            orientation_start = 180 * (i + 1) / orientations\n",
    "            orientation_end = 180 * i / orientations\n",
    "            c = c_0\n",
    "            r = r_0\n",
    "            r_i = 0\n",
    "            c_i = 0\n",
    "\n",
    "            while r < cc:\n",
    "                c_i = 0\n",
    "                c = c_0\n",
    "\n",
    "                while c < cr:\n",
    "                    block_magnitude = magnitude[int(r+range_rows_start):int(r+range_rows_stop), int(c+range_columns_start):int(c+range_columns_stop)]\n",
    "                    block_orientation =  orient_hist[int(r+range_rows_start):int(r+range_rows_stop), int(c+range_columns_start):int(c+range_columns_stop)]\n",
    "                    hist[r_i, c_i, i] = update_cell_hog(block_magnitude, block_orientation, orientation_start, orientation_end)\n",
    "                    \n",
    "                    c_i += 1\n",
    "                    c += c_col\n",
    "\n",
    "                r_i += 1\n",
    "                r += c_row\n",
    "    return hist"
   ]
  },
  {
   "cell_type": "code",
   "execution_count": 18,
   "id": "50b29896",
   "metadata": {
    "ExecuteTime": {
     "end_time": "2022-04-07T13:54:15.417144Z",
     "start_time": "2022-04-07T13:54:15.401309Z"
    }
   },
   "outputs": [],
   "source": [
    "def hog(image):\n",
    "    ### image of size 32x32x3 \n",
    "    ### return the hog features of the image as a vector\n",
    "    ### much inspired by skimage library source code with modifications\n",
    "    \n",
    "    #Supposed image is size 32x32\n",
    "    H = 32\n",
    "    W = 32\n",
    "    grad_x, grad_y = grad_image(image)\n",
    "    magn = np.zeros(grad_x.shape)\n",
    "    for pix in range(3):\n",
    "        magn[:,:,pix] = np.sqrt(grad_x[:,:,pix]**2 + grad_y[:,:,pix]**2)\n",
    "    \n",
    "    #We take those with highest magnitude\n",
    "    idcs_max = magn.argmax(axis=2)\n",
    "    rr, cc = np.meshgrid(np.arange(H),np.arange(W),indexing='ij',sparse=True)\n",
    "    g_row = grad_y[rr, cc, idcs_max]\n",
    "    g_col = grad_x[rr, cc, idcs_max]\n",
    "    \n",
    "    c_row, c_col = (8, 8) #pixels_per_cell\n",
    "    \n",
    "    n_cells_row = int(H // c_row) \n",
    "    n_cells_col = int(W // c_col)  \n",
    "    \n",
    "    #Compute orientation histogram\n",
    "    orientations=9\n",
    "    orientation_histogram = np.zeros((n_cells_row, n_cells_col, orientations))\n",
    "    angle = np.arctan2(grad_y , grad_x)\n",
    "    orientation_histogram = np.rad2deg(angle) % 180\n",
    "    #take those with highest magnitude\n",
    "    new_magn = magn[rr, cc, idcs_max]\n",
    "    new_orient  = orientation_histogram[rr, cc, idcs_max]\n",
    "    \n",
    "    hist = orient_hist(new_magn, new_orient, c_col, c_row, n_cells_row,n_cells_col,orientations)\n",
    "    \n",
    "    return hist.ravel()"
   ]
  },
  {
   "cell_type": "code",
   "execution_count": 19,
   "id": "21ea6dcb",
   "metadata": {},
   "outputs": [],
   "source": [
    "# hog features of train set \n",
    "n_sample = len(newdata_train)\n",
    "hog_train = np.zeros((n_sample,144))\n",
    "for i in range(n_sample):\n",
    "    hog_train[i,:] = hog(newdata_train[i])\n",
    "\n",
    "# hog features of validation set     \n",
    "n_sample = len(newdata_val)\n",
    "hog_val = np.zeros((n_sample,144))\n",
    "for i in range(n_sample):\n",
    "    hog_val[i,:] = hog(newdata_val[i])\n",
    "\n",
    "# hog features of test set     \n",
    "n_sample = len(newdata_test)\n",
    "hog_test = np.zeros((n_sample,144))\n",
    "for i in range(n_sample):\n",
    "    hog_test[i,:] = hog(newdata_test[i])"
   ]
  },
  {
   "cell_type": "markdown",
   "id": "8532cf89",
   "metadata": {},
   "source": [
    "# Prediction"
   ]
  },
  {
   "cell_type": "code",
   "execution_count": 20,
   "id": "a1fc035a",
   "metadata": {},
   "outputs": [],
   "source": [
    "sigma = np.sqrt(1/(2*17))\n",
    "C= 5.\n",
    "kernel = RBF(sigma).kernel\n",
    "model = MultClassSVMClassifier_OvO(C=C, kernel=kernel)\n",
    "\n",
    "model.fit(hog_train, y_train.Prediction.values)\n",
    "Y_val_pred = model.predict(hog_val)"
   ]
  },
  {
   "cell_type": "code",
   "execution_count": 21,
   "id": "9b520198",
   "metadata": {},
   "outputs": [
    {
     "name": "stdout",
     "output_type": "stream",
     "text": [
      "Validation score :  0.5466666666666666\n"
     ]
    }
   ],
   "source": [
    "score = (y_val.Prediction == Y_val_pred).sum()/y_val.shape[0]\n",
    "print(\"Validation score : \", score)"
   ]
  },
  {
   "cell_type": "code",
   "execution_count": 22,
   "id": "10224eef",
   "metadata": {},
   "outputs": [],
   "source": [
    "# Create submission file\n",
    "\n",
    "Y_pred = model.predict(hog_test)\n",
    "create_Submissioncsv(Y_pred)"
   ]
  },
  {
   "cell_type": "markdown",
   "id": "efb48463",
   "metadata": {},
   "source": [
    "# REFERENCES\n",
    "\n",
    "[1] Foody, G. M. and Mathur, A., 2004. **A relative evaluation of multi-class image classification by support vector machines**, IEEE Transactions on Geoscience and Remote Sensing, 42, 1335-1343.\n",
    "\n",
    "[2] Xi, Pengcheng & Xu, Tao. (2004). **De-noising and Recovering Images Based on Kernel PCA Theory..** 197-200. \n",
    "\n",
    "[3] Alhindi, Taha & Kalra, Shivam & Ng, Ka & Afrin, Anika & Tizhoosh, Hamid. (2018). **Comparing LBP, HOG and Deep Features for Classification of Histopathology Images.** 1-7. 10.1109/IJCNN.2018.8489329. "
   ]
  }
 ],
 "metadata": {
  "kernelspec": {
   "display_name": "Python 3",
   "language": "python",
   "name": "python3"
  },
  "language_info": {
   "codemirror_mode": {
    "name": "ipython",
    "version": 3
   },
   "file_extension": ".py",
   "mimetype": "text/x-python",
   "name": "python",
   "nbconvert_exporter": "python",
   "pygments_lexer": "ipython3",
   "version": "3.8.8"
  },
  "toc": {
   "base_numbering": 1,
   "nav_menu": {},
   "number_sections": true,
   "sideBar": true,
   "skip_h1_title": false,
   "title_cell": "Table of Contents",
   "title_sidebar": "Contents",
   "toc_cell": false,
   "toc_position": {},
   "toc_section_display": true,
   "toc_window_display": false
  }
 },
 "nbformat": 4,
 "nbformat_minor": 5
}
