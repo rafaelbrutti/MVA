{
 "cells": [
  {
   "cell_type": "markdown",
   "id": "afb72815-74ef-4b27-b413-26c1c4f20652",
   "metadata": {
    "tags": []
   },
   "source": [
    "# Setup"
   ]
  },
  {
   "cell_type": "markdown",
   "id": "77573173-e7b9-46b4-ae78-a0f9b0d87351",
   "metadata": {},
   "source": [
    "**Imports**"
   ]
  },
  {
   "cell_type": "code",
   "execution_count": 125,
   "id": "263236fe-6d00-45aa-80f1-e36765758e9a",
   "metadata": {},
   "outputs": [],
   "source": [
    "import numpy as np\n",
    "import matplotlib.pyplot as plt\n",
    "import ruptures as rpt"
   ]
  },
  {
   "cell_type": "markdown",
   "id": "02ce9a17-6c03-4343-b2d4-c5dc94eac178",
   "metadata": {},
   "source": [
    "**Utility functions**"
   ]
  },
  {
   "cell_type": "code",
   "execution_count": 126,
   "id": "53469a53-92a0-403d-9bb4-544cd0e7a1db",
   "metadata": {},
   "outputs": [],
   "source": [
    "def fig_ax(figsize=(15, 5)):\n",
    "    fig, ax = plt.subplots(figsize=figsize)\n",
    "    ax.margins(x=0)\n",
    "    return fig, ax"
   ]
  },
  {
   "cell_type": "markdown",
   "id": "fd93f734-c888-44e7-beb1-54de8c3f19f2",
   "metadata": {},
   "source": [
    "# Question 2"
   ]
  },
  {
   "cell_type": "code",
   "execution_count": null,
   "id": "d329e5e9-f877-440d-a353-891f6626290f",
   "metadata": {},
   "outputs": [],
   "source": [
    "# to detect mean shift, use the faster dynamic programming algorithm in rpt.KernelCPD(kernel=\"linear\")\n",
    "\n",
    "# generate signal\n",
    "for bk in [2, 4, 6, 8, 10]:\n",
    "    for T in [100, 200, 500, 1000]:\n",
    "        for sigma in [1, 2, 5, 7]:\n",
    "            \n",
    "            n_samples = T\n",
    "            n_bkps = bk\n",
    "            n_dims = 2\n",
    "            sigma_noise = sigma\n",
    "            signal, bkps = rpt.pw_constant(\n",
    "                n_samples=n_samples, n_features=n_dims, n_bkps=n_bkps, noise_std=0\n",
    "            )\n",
    "            signal_with_noise = signal + np.random.normal(\n",
    "                scale=sigma_noise, size=signal.shape\n",
    "            )\n",
    "\n",
    "\n",
    "\n",
    "            algo = rpt.KernelCPD(kernel=\"linear\").fit(signal_with_noise)\n",
    "\n",
    "            #result = algo.predict(n_bkps=10)  # detects 10 change-points\n",
    "            \n",
    "            # Mallow's Cp\n",
    "            signal_10percent = np.array_split(signal_with_noise,10)[0]\n",
    "            mean = signal_10percent.mean(0)\n",
    "            sigma_emp = ((signal_10percent - mean)**2).sum(1).mean()\n",
    "            print(sigma_emp)\n",
    "            #RSS = np.linalg.norm(signal_with_noise - linearProjection(signal_with_noise, breakpoints))\n",
    "            penality = 2*sigma_emp*n_dims/T\n",
    "            result = algo.predict(pen=penality)  # minimizes the linearly penalized sum of costs (with beta=10)\n",
    "            \n",
    "            # display\n",
    "            rpt.display(signal_with_noise, bkps, result)\n",
    "            plt.show()"
   ]
  },
  {
   "cell_type": "code",
   "execution_count": null,
   "id": "6bb45ded",
   "metadata": {},
   "outputs": [],
   "source": [
    "from ruptures.metrics import hamming\n",
    "\n",
    "hammingList = []\n",
    "for T in [100, 200, 500, 1000]:    \n",
    "            \n",
    "    n_samples = T\n",
    "    n_bkps = bk\n",
    "    n_dims = 2\n",
    "    sigma_noise = 2\n",
    "    signal, bkps = rpt.pw_constant(\n",
    "        n_samples=n_samples, n_features=n_dims, n_bkps=n_bkps, noise_std=0\n",
    "    )\n",
    "    signal_with_noise = signal + np.random.normal(\n",
    "        scale=sigma_noise, size=signal.shape\n",
    "    )\n",
    "\n",
    "\n",
    "\n",
    "    algo = rpt.KernelCPD(kernel=\"linear\").fit(signal_with_noise)\n",
    "    algo.predict(n_bkps=10)  # detects 10 change-points\n",
    "    \n",
    "    # Mallow's Cp\n",
    "    signal_10percent = np.array_split(signal_with_noise,10)[0]\n",
    "    mean = signal_10percent.mean(0)\n",
    "    sigma_emp = ((signal_10percent - mean)**2).sum(1).mean()\n",
    "    penality = 2*sigma_emp*n_dims\n",
    "    result = algo.predict(pen=penality)  # minimizes the linearly penalized sum of costs (with beta=10)\n",
    "\n",
    "    hammingList.append(hamming(bkps,result)) \n",
    "\n",
    "plt.plot([100, 200, 500, 1000],hammingList)\n",
    "plt.show()"
   ]
  },
  {
   "cell_type": "code",
   "execution_count": null,
   "id": "16d7bded",
   "metadata": {},
   "outputs": [],
   "source": [
    "hammingList = []\n",
    "\n",
    "for sigma in [1, 2, 5, 7]:  \n",
    "            \n",
    "    n_samples = 500\n",
    "    n_bkps = bk\n",
    "    n_dims = 2\n",
    "    sigma_noise = sigma\n",
    "    signal, bkps = rpt.pw_constant(\n",
    "        n_samples=n_samples, n_features=n_dims, n_bkps=n_bkps, noise_std=0\n",
    "    )\n",
    "    signal_with_noise = signal + np.random.normal(\n",
    "        scale=sigma_noise, size=signal.shape\n",
    "    )\n",
    "\n",
    "\n",
    "\n",
    "    algo = rpt.KernelCPD(kernel=\"linear\").fit(signal_with_noise)\n",
    "    algo.predict(n_bkps=10)  # detects 10 change-points\n",
    "    \n",
    "    \n",
    "    # Mallow's Cp\n",
    "    signal_10percent = np.array_split(signal_with_noise,10)[0]\n",
    "    mean = signal_10percent.mean(0)\n",
    "    sigma_emp = ((signal_10percent - mean)**2).sum(1).mean()\n",
    "    penality = 2*sigma_emp*n_dims\n",
    "    result = algo.predict(pen=penality)  # minimizes the linearly penalized sum of costs (with beta=10)\n",
    "\n",
    "    hammingList.append(hamming(bkps,result))  \n",
    "    \n",
    "plt.plot([1, 2, 5, 7],hammingList)\n",
    "plt.show()"
   ]
  },
  {
   "cell_type": "markdown",
   "id": "67e7aa7d-86a0-4230-9587-ff6286db6b01",
   "metadata": {},
   "source": [
    "# Question 3"
   ]
  },
  {
   "cell_type": "code",
   "execution_count": null,
   "id": "8c5b4cf4",
   "metadata": {},
   "outputs": [],
   "source": [
    "# generate signal\n",
    "\n",
    "simulations = {}\n",
    "\n",
    "for breakpoint in [2, 4, 6, 8, 10]:\n",
    "    for T in [100, 200, 500, 1000]:\n",
    "        for sigma in [1, 2, 5, 7]:\n",
    "            \n",
    "            n_samples = T\n",
    "            n_bkps = breakpoint\n",
    "            n_dims = 2\n",
    "            sigma_noise = sigma\n",
    "            signal, bkps = rpt.pw_constant(\n",
    "                n_samples=n_samples, n_features=n_dims, n_bkps=n_bkps, noise_std=0\n",
    "            )\n",
    "            signal_with_noise = signal + np.random.normal(\n",
    "                scale=sigma_noise, size=signal.shape\n",
    "            )\n",
    "\n",
    "            #algo = rpt.KernelCPD(kernel=\"linear\").fit(signal_with_noise)\n",
    "            "
   ]
  },
  {
   "cell_type": "code",
   "execution_count": null,
   "id": "785f9df5",
   "metadata": {},
   "outputs": [],
   "source": [
    "signal[0:20].mean(0)"
   ]
  },
  {
   "cell_type": "code",
   "execution_count": null,
   "id": "a40bbbe4",
   "metadata": {},
   "outputs": [],
   "source": [
    "np.linalg.norm(10*np.ones(10))**2"
   ]
  },
  {
   "cell_type": "code",
   "execution_count": null,
   "id": "703b15c6",
   "metadata": {},
   "outputs": [],
   "source": [
    "def linearProjection(signal, breakpoints):\n",
    "    T, d = signal.shape\n",
    "    tau = len(breakpoints)\n",
    "    proj = np.zeros((T,d))\n",
    "    for k in range(tau-1):\n",
    "        if k == 0 :\n",
    "            proj[0:breakpoints[0]-1] = list(signal[0:breakpoints[0]-1].mean(0))\n",
    "        proj[breakpoints[k]:breakpoints[k+1]-1] = list(signal[breakpoints[k]:breakpoints[k+1]-1].mean(0))\n",
    "    return proj"
   ]
  },
  {
   "cell_type": "code",
   "execution_count": null,
   "id": "7c42bc9a",
   "metadata": {},
   "outputs": [],
   "source": [
    "mse = []\n",
    "for T in [100, 200, 500, 1000]:           \n",
    "    n_samples = T\n",
    "    n_bkps = 3\n",
    "    n_dims = 2\n",
    "    sigma_noise = 2\n",
    "    signal, bkps = rpt.pw_constant(\n",
    "        n_samples=n_samples, n_features=n_dims, n_bkps=n_bkps, noise_std=0\n",
    "    )\n",
    "    signal_with_noise = signal + np.random.normal(\n",
    "        scale=sigma_noise, size=signal.shape\n",
    "    )\n",
    "\n",
    "\n",
    "\n",
    "    algo = rpt.KernelCPD(kernel=\"linear\").fit(signal_with_noise)\n",
    "    \n",
    "    \n",
    "\n",
    "    mini = linearProjection(signal_with_noise, algo.predict(n_bkps=15))\n",
    "    mini = np.linalg.norm(mini-signal_with_noise)**2\n",
    "    maxi =  linearProjection(signal_with_noise, algo.predict(n_bkps=int(0.4*T)))\n",
    "    maxi = np.linalg.norm(maxi-signal_with_noise)**2\n",
    "    \n",
    "    slope = (maxi - mini)/(int(0.4*T)-15)\n",
    "    Cslope = T*slope\n",
    "    penality = Cslope*n_dims/T\n",
    "    result = algo.predict(pen=penality)  # minimizes the linearly penalized sum of costs (with beta=10)\n",
    "\n",
    "    rpt.display(signal_with_noise, bkps, result)\n",
    "    plt.show()"
   ]
  },
  {
   "cell_type": "code",
   "execution_count": null,
   "id": "def01b32",
   "metadata": {},
   "outputs": [],
   "source": [
    "hammingList = []\n",
    "\n",
    "for sigma in [1, 2, 5, 7]:  \n",
    "            \n",
    "    n_samples = 500\n",
    "    n_bkps = bk\n",
    "    n_dims = 2\n",
    "    sigma_noise = sigma\n",
    "    signal, bkps = rpt.pw_constant(\n",
    "        n_samples=n_samples, n_features=n_dims, n_bkps=n_bkps, noise_std=0\n",
    "    )\n",
    "    signal_with_noise = signal + np.random.normal(\n",
    "        scale=sigma_noise, size=signal.shape\n",
    "    )\n",
    "\n",
    "\n",
    "\n",
    "    algo = rpt.KernelCPD(kernel=\"linear\").fit(signal_with_noise)\n",
    "    algo.predict(n_bkps=10)  # detects 10 change-points\n",
    "    \n",
    "    \n",
    "    # Mallow's Cp\n",
    "    signal_10percent = np.array_split(signal_with_noise,10)[0]\n",
    "    mean = signal_10percent.mean(0)\n",
    "    sigma_emp = ((signal_10percent - mean)**2).sum(1).mean()\n",
    "    penality = 2*sigma_emp*n_dims\n",
    "    result = algo.predict(pen=penality)  # minimizes the linearly penalized sum of costs (with beta=10)\n",
    "\n",
    "    hammingList.append(hamming(bkps,result))  \n",
    "    \n",
    "plt.plot([1, 2, 5, 7],hammingList)\n",
    "plt.show()"
   ]
  },
  {
   "cell_type": "markdown",
   "id": "3da71dd7-46ec-4db4-8cac-284f0fecf044",
   "metadata": {},
   "source": [
    "# Question 4"
   ]
  },
  {
   "cell_type": "code",
   "execution_count": null,
   "id": "3708b7c5-e937-41cd-bc1b-ac2f7f71e192",
   "metadata": {},
   "outputs": [],
   "source": [
    "lambda_n = 12 \n",
    "M = 9\n",
    "def gm_hat(lambd, m, R):\n",
    "    a = lambda_n/(M+1-R)\n",
    "    return 0.5*(1+np.cos(2*np.pi*((lambd-a*m)/(a*R)+0.5)))*np.logical_and(-R*a<= lambd, lambd < 0)\n",
    "    "
   ]
  },
  {
   "cell_type": "code",
   "execution_count": null,
   "id": "07b6f26d",
   "metadata": {},
   "outputs": [],
   "source": [
    "for R in [1,2,3]:\n",
    "    for m in range(1,M+1):\n",
    "        lambd = np.linspace(-5,10,1000)\n",
    "        y = [gm_hat(x, m,R) for x in lambd]\n",
    "        plt.plot(lambd,y)\n",
    "    plt.show()"
   ]
  },
  {
   "cell_type": "markdown",
   "id": "db9c9e0f-c32c-48da-86f8-944fbc4a0806",
   "metadata": {},
   "source": [
    "# Question 5"
   ]
  },
  {
   "cell_type": "code",
   "execution_count": 168,
   "id": "f89913e0",
   "metadata": {},
   "outputs": [],
   "source": [
    "from loadmydata.load_molene_meteo import load_molene_meteo_dataset\n",
    "from scipy.spatial.distance import pdist, squareform\n",
    "from math import asin, cos, radians, sin, sqrt\n",
    "from pygsp import graphs\n",
    "from matplotlib.dates import DateFormatter\n",
    "\n"
   ]
  },
  {
   "cell_type": "code",
   "execution_count": 169,
   "id": "2af63ffe",
   "metadata": {},
   "outputs": [],
   "source": [
    "data_df, stations_df, description = load_molene_meteo_dataset()"
   ]
  },
  {
   "cell_type": "code",
   "execution_count": 170,
   "id": "e94984e7",
   "metadata": {},
   "outputs": [],
   "source": [
    "def get_geodesic_distance(point_1, point_2) -> float:\n",
    "    \"\"\"\n",
    "    Calculate the great circle distance (in km) between two points\n",
    "    on the earth (specified in decimal degrees)\n",
    "\n",
    "    https://stackoverflow.com/a/4913653\n",
    "    \"\"\"\n",
    "\n",
    "    lon1, lat1 = point_1\n",
    "    lon2, lat2 = point_2\n",
    "\n",
    "    # convert decimal degrees to radians\n",
    "    lon1, lat1, lon2, lat2 = map(radians, [lon1, lat1, lon2, lat2])\n",
    "\n",
    "    # haversine formula\n",
    "    dlon = lon2 - lon1\n",
    "    dlat = lat2 - lat1\n",
    "    a = sin(dlat / 2) ** 2 + cos(lat1) * cos(lat2) * sin(dlon / 2) ** 2\n",
    "    c = 2 * asin(sqrt(a))\n",
    "    r = 6371  # Radius of earth in kilometers. Use 3956 for miles\n",
    "    return c * r\n",
    "\n",
    "def get_exponential_similarity(\n",
    "    condensed_distance_matrix, bandwidth, threshold\n",
    "):\n",
    "    exp_similarity = np.exp(\n",
    "        -(condensed_distance_matrix ** 2) / bandwidth / bandwidth\n",
    "    )\n",
    "    res_arr = np.where(exp_similarity > threshold, exp_similarity, 0.0)\n",
    "    return res_arr"
   ]
  },
  {
   "cell_type": "code",
   "execution_count": 171,
   "id": "7a9a3492",
   "metadata": {},
   "outputs": [],
   "source": [
    "# convert temperature from Kelvin to Celsius\n",
    "data_df[\"temp\"] = data_df.t - 273.15  # temperature in Celsius\n",
    "\n",
    "temperature_df = data_df.pivot(\n",
    "    index=\"date\", values=\"temp\", columns=\"station_name\"\n",
    ")\n",
    "\n",
    "# only keep a subset of stations with no missing values\n",
    "\n",
    "STATION_LIST = list(temperature_df.columns[temperature_df.isna().sum()==0].values)\n",
    "STATION_with_missing_values = list(temperature_df.columns[temperature_df.isna().sum()>0].values)\n",
    "\n",
    "\n",
    "keep_cond = stations_df.Nom.isin(STATION_LIST)\n",
    "stations_df = stations_df[keep_cond]\n",
    "keep_cond = data_df.station_name.isin(STATION_LIST)\n",
    "data_df = data_df[keep_cond].reset_index().drop(\"index\", axis=\"columns\")"
   ]
  },
  {
   "cell_type": "code",
   "execution_count": 172,
   "id": "44c358fd",
   "metadata": {},
   "outputs": [],
   "source": [
    "stations_np = stations_df[[\"Longitude\", \"Latitude\"]].to_numpy()\n",
    "dist_mat_condensed = pdist(stations_np, metric=get_geodesic_distance)\n",
    "dist_mat_square = squareform(dist_mat_condensed)"
   ]
  },
  {
   "cell_type": "code",
   "execution_count": 173,
   "id": "187100c5",
   "metadata": {},
   "outputs": [
    {
     "name": "stdout",
     "output_type": "stream",
     "text": [
      "The stations with missing values are : \n",
      " ['ARZAL', 'BATZ', 'BEG_MEIL', 'BREST-GUIPAVAS', 'BRIGNOGAN', 'CAMARET', 'LANDIVISIAU', 'LANNAERO', 'LANVEOC', 'OUESSANT-STIFF', 'PLOUAY-SA', 'PLOUDALMEZEAU', 'PLOUGONVELIN', 'QUIMPER', 'RIEC SUR BELON', 'SIZUN', 'ST NAZAIRE-MONTOIR', 'VANNES-MEUCON']\n"
     ]
    }
   ],
   "source": [
    "print(\"The stations with missing values are : \\n\",STATION_with_missing_values)"
   ]
  },
  {
   "cell_type": "code",
   "execution_count": 174,
   "id": "63bfc74d-7072-40a2-be7d-7c402f9b66c9",
   "metadata": {},
   "outputs": [
    {
     "name": "stdout",
     "output_type": "stream",
     "text": [
      "The graph is not connected, with 37 nodes, 72 edges\n"
     ]
    }
   ],
   "source": [
    "sigma = np.median(dist_mat_condensed)  # median heuristic\n",
    "threshold = 0.84\n",
    "adjacency_matrix_gaussian = squareform(\n",
    "    get_exponential_similarity(dist_mat_condensed, sigma, threshold)\n",
    ")\n",
    "G_gaussian = graphs.Graph(adjacency_matrix_gaussian)\n",
    "print(\n",
    "    f\"The graph is {'not ' if not G_gaussian.is_connected(recompute=True) else ''}connected, with {G_gaussian.N} nodes, {G_gaussian.Ne} edges\"\n",
    ")"
   ]
  },
  {
   "cell_type": "code",
   "execution_count": 175,
   "id": "6a81a852",
   "metadata": {},
   "outputs": [
    {
     "name": "stdout",
     "output_type": "stream",
     "text": [
      "40\n"
     ]
    },
    {
     "data": {
      "image/png": "[encoded data removed]",
      "text/plain": [
       "<Figure size 432x288 with 1 Axes>"
      ]
     },
     "metadata": {
      "needs_background": "light"
     },
     "output_type": "display_data"
    }
   ],
   "source": [
    "thresholds = list(range(100))\n",
    "connected = []\n",
    "edges = []\n",
    "\n",
    "for threshold in thresholds:\n",
    "    adjacency_matrix = squareform((dist_mat_condensed < threshold).astype(int))\n",
    "    G = graphs.Graph(adjacency_matrix)\n",
    "    connected.append(G.is_connected())\n",
    "    edges.append(G.Ne)\n",
    "    \n",
    "i = connected.index(True)\n",
    "print(i)\n",
    "\n",
    "plt.plot(thresholds, edges)\n",
    "plt.ylabel(\"# edges\")\n",
    "plt.xlabel(\"threshold\")\n",
    "plt.scatter([thresholds[i]], [edges[i]])\n",
    "plt.show()"
   ]
  },
  {
   "cell_type": "code",
   "execution_count": 176,
   "id": "2a4623ed",
   "metadata": {},
   "outputs": [
    {
     "name": "stdout",
     "output_type": "stream",
     "text": [
      "832\n"
     ]
    },
    {
     "data": {
      "image/png": "[encoded data removed]",
      "text/plain": [
       "<Figure size 432x288 with 1 Axes>"
      ]
     },
     "metadata": {
      "needs_background": "light"
     },
     "output_type": "display_data"
    }
   ],
   "source": [
    "thresholds = np.linspace(0, 1, 1001)\n",
    "connected = []\n",
    "edges = []\n",
    "\n",
    "for threshold in thresholds:\n",
    "    adjacency_matrix = squareform(\n",
    "        get_exponential_similarity(dist_mat_condensed, sigma, threshold)\n",
    "    )\n",
    "    G = graphs.Graph(adjacency_matrix)\n",
    "    connected.append(G.is_connected())\n",
    "    edges.append(G.Ne)\n",
    "    \n",
    "i = connected.index(False) - 1\n",
    "\n",
    "print(i)\n",
    "\n",
    "plt.plot(thresholds, edges)\n",
    "plt.ylabel(\"# edges\")\n",
    "plt.xlabel(\"threshold\")\n",
    "plt.scatter([thresholds[i]], [edges[i]])\n",
    "plt.show()"
   ]
  },
  {
   "cell_type": "code",
   "execution_count": 177,
   "id": "d8c96acf",
   "metadata": {},
   "outputs": [],
   "source": [
    "# drop the NaNs\n",
    "temperature_df_no_nan = temperature_df = data_df.pivot(\n",
    "    index=\"date\", values=\"temp\", columns=\"station_name\"\n",
    ")\n",
    "\n",
    "\n",
    "\n",
    "laplacian_matrix = G_gaussian.L.todense()\n",
    "\n",
    "\n",
    "#smoothness = float(signal.T.dot(laplacian_matrix).dot(signal))\n",
    "#print(f\"Smoothness is {smoothness:.2f} ({choosen_hour})\")\n",
    "\n"
   ]
  },
  {
   "cell_type": "code",
   "execution_count": 178,
   "id": "ab10fac6",
   "metadata": {},
   "outputs": [],
   "source": [
    "signals = temperature_df_no_nan.to_numpy()\n",
    "smoothness_arr = np.array(\n",
    "    [float(signal.T.dot(laplacian_matrix).dot(signal)) for signal in signals]\n",
    ")\n",
    "smoothness_df = pd.Series(\n",
    "    data=smoothness_arr, index=temperature_df_no_nan.index\n",
    ")"
   ]
  },
  {
   "cell_type": "code",
   "execution_count": 179,
   "id": "dd75ce69",
   "metadata": {},
   "outputs": [
    {
     "data": {
      "image/png": "[encoded data removed]",
      "text/plain": [
       "<Figure size 1080x360 with 1 Axes>"
      ]
     },
     "metadata": {
      "needs_background": "light"
     },
     "output_type": "display_data"
    }
   ],
   "source": [
    "fig, ax = fig_ax()\n",
    "smoothness_df.plot(ax=ax)\n",
    "myFmt = DateFormatter(\"%d-%m\")\n",
    "ax.xaxis.set_major_formatter(myFmt)\n",
    "ax.set_title(\"Smoothness\")\n",
    "plt.grid(axis=\"x\", color=\"0.95\")"
   ]
  },
  {
   "cell_type": "code",
   "execution_count": 183,
   "id": "0b92e13f",
   "metadata": {},
   "outputs": [
    {
     "data": {
      "text/plain": [
       "date\n",
       "2014-01-24 19:00:00      23.587428\n",
       "2014-01-24 18:00:00      27.610905\n",
       "2014-01-24 23:00:00      31.351669\n",
       "2014-01-24 17:00:00      32.256844\n",
       "2014-01-24 22:00:00      34.067871\n",
       "                          ...     \n",
       "2014-01-21 04:00:00    1281.000127\n",
       "2014-01-10 10:00:00    1325.207930\n",
       "2014-01-21 05:00:00    1369.835589\n",
       "2014-01-21 06:00:00    1422.865498\n",
       "2014-01-10 09:00:00    1476.560094\n",
       "Length: 744, dtype: float64"
      ]
     },
     "execution_count": 183,
     "metadata": {},
     "output_type": "execute_result"
    }
   ],
   "source": [
    "smoothness_df.sort_values()"
   ]
  },
  {
   "cell_type": "markdown",
   "id": "2cbd2c7d-32dd-4843-bed5-8f4e0afeb30c",
   "metadata": {},
   "source": [
    "# Question 6"
   ]
  },
  {
   "cell_type": "code",
   "execution_count": null,
   "id": "d1fba90b-33cf-4e2b-b96b-7683626b6eb0",
   "metadata": {},
   "outputs": [],
   "source": []
  },
  {
   "cell_type": "markdown",
   "id": "2a1a9fb4-e354-4d20-9095-39e158c8d896",
   "metadata": {},
   "source": [
    "# Question 7"
   ]
  },
  {
   "cell_type": "code",
   "execution_count": null,
   "id": "8a4c0acc-3d7f-477d-8ba3-b807ba64a47c",
   "metadata": {},
   "outputs": [],
   "source": [
    "y = np.random.normal(size=600)  # dummy signal\n",
    "x = np.arange(y.shape[0])\n",
    "class_array = np.random.binomial(n=2, p=0.5, size=y.shape[0])  # dummy classes (0, 1, 2)\n",
    "\n",
    "\n",
    "colors = [\"b\", \"m\", \"r\"]  # three colours=three classes\n",
    "color_array = np.take(colors, class_array)\n",
    "fig, ax = fig_ax()\n",
    "ax.plot(x, y, alpha=0.5)\n",
    "ax.scatter(x, y, c=color_array)\n",
    "\n",
    "# do not forget to explain the colours in the reportc"
   ]
  },
  {
   "cell_type": "markdown",
   "id": "2f6e3814-a986-439f-98da-7a53011916f2",
   "metadata": {},
   "source": [
    "# Question 8"
   ]
  },
  {
   "cell_type": "code",
   "execution_count": null,
   "id": "90d92cc5-136d-4757-848d-f7a898e58497",
   "metadata": {},
   "outputs": [],
   "source": []
  }
 ],
 "metadata": {
  "kernelspec": {
   "display_name": "Python 3",
   "language": "python",
   "name": "python3"
  },
  "language_info": {
   "codemirror_mode": {
    "name": "ipython",
    "version": 3
   },
   "file_extension": ".py",
   "mimetype": "text/x-python",
   "name": "python",
   "nbconvert_exporter": "python",
   "pygments_lexer": "ipython3",
   "version": "3.8.8"
  },
  "toc-autonumbering": true
 },
 "nbformat": 4,
 "nbformat_minor": 5
}
