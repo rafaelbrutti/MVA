{
 "cells": [
  {
   "cell_type": "code",
   "execution_count": 1,
   "id": "7faa0b92",
   "metadata": {},
   "outputs": [],
   "source": [
    "import pandas as pd\n",
    "import numpy as np\n",
    "import matplotlib.pyplot as plt\n",
    "from datetime import datetime"
   ]
  },
  {
   "cell_type": "code",
   "execution_count": 2,
   "id": "95226711",
   "metadata": {
    "scrolled": true
   },
   "outputs": [
    {
     "name": "stdout",
     "output_type": "stream",
     "text": [
      "Requirement already satisfied: Quandl in /Users/macrafa/opt/anaconda3/lib/python3.8/site-packages (3.7.0)\n",
      "Requirement already satisfied: six in /Users/macrafa/opt/anaconda3/lib/python3.8/site-packages (from Quandl) (1.15.0)\n",
      "Requirement already satisfied: inflection>=0.3.1 in /Users/macrafa/opt/anaconda3/lib/python3.8/site-packages (from Quandl) (0.5.1)\n",
      "Requirement already satisfied: numpy>=1.8 in /Users/macrafa/opt/anaconda3/lib/python3.8/site-packages (from Quandl) (1.22.1)\n",
      "Requirement already satisfied: requests>=2.7.0 in /Users/macrafa/opt/anaconda3/lib/python3.8/site-packages (from Quandl) (2.25.1)\n",
      "Requirement already satisfied: python-dateutil in /Users/macrafa/opt/anaconda3/lib/python3.8/site-packages (from Quandl) (2.8.1)\n",
      "Requirement already satisfied: more-itertools in /Users/macrafa/opt/anaconda3/lib/python3.8/site-packages (from Quandl) (8.7.0)\n",
      "Requirement already satisfied: pandas>=0.14 in /Users/macrafa/opt/anaconda3/lib/python3.8/site-packages (from Quandl) (1.2.4)\n",
      "Requirement already satisfied: pytz>=2017.3 in /Users/macrafa/opt/anaconda3/lib/python3.8/site-packages (from pandas>=0.14->Quandl) (2021.1)\n",
      "Requirement already satisfied: urllib3<1.27,>=1.21.1 in /Users/macrafa/opt/anaconda3/lib/python3.8/site-packages (from requests>=2.7.0->Quandl) (1.26.4)\n",
      "Requirement already satisfied: idna<3,>=2.5 in /Users/macrafa/opt/anaconda3/lib/python3.8/site-packages (from requests>=2.7.0->Quandl) (2.10)\n",
      "Requirement already satisfied: certifi>=2017.4.17 in /Users/macrafa/opt/anaconda3/lib/python3.8/site-packages (from requests>=2.7.0->Quandl) (2021.10.8)\n",
      "Requirement already satisfied: chardet<5,>=3.0.2 in /Users/macrafa/opt/anaconda3/lib/python3.8/site-packages (from requests>=2.7.0->Quandl) (4.0.0)\n",
      "Requirement already satisfied: investpy in /Users/macrafa/opt/anaconda3/lib/python3.8/site-packages (1.0.8)\n",
      "Requirement already satisfied: requests>=2.22.0 in /Users/macrafa/opt/anaconda3/lib/python3.8/site-packages (from investpy) (2.25.1)\n",
      "Requirement already satisfied: numpy>=1.17.2 in /Users/macrafa/opt/anaconda3/lib/python3.8/site-packages (from investpy) (1.22.1)\n",
      "Requirement already satisfied: pytz>=2019.3 in /Users/macrafa/opt/anaconda3/lib/python3.8/site-packages (from investpy) (2021.1)\n",
      "Requirement already satisfied: setuptools>=41.2.0 in /Users/macrafa/opt/anaconda3/lib/python3.8/site-packages (from investpy) (52.0.0.post20210125)\n",
      "Requirement already satisfied: lxml>=4.4.1 in /Users/macrafa/opt/anaconda3/lib/python3.8/site-packages (from investpy) (4.6.3)\n",
      "Requirement already satisfied: Unidecode>=1.1.1 in /Users/macrafa/opt/anaconda3/lib/python3.8/site-packages (from investpy) (1.3.4)\n",
      "Requirement already satisfied: pandas>=0.25.1 in /Users/macrafa/opt/anaconda3/lib/python3.8/site-packages (from investpy) (1.2.4)\n",
      "Requirement already satisfied: python-dateutil>=2.7.3 in /Users/macrafa/opt/anaconda3/lib/python3.8/site-packages (from pandas>=0.25.1->investpy) (2.8.1)\n",
      "Requirement already satisfied: six>=1.5 in /Users/macrafa/opt/anaconda3/lib/python3.8/site-packages (from python-dateutil>=2.7.3->pandas>=0.25.1->investpy) (1.15.0)\n",
      "Requirement already satisfied: idna<3,>=2.5 in /Users/macrafa/opt/anaconda3/lib/python3.8/site-packages (from requests>=2.22.0->investpy) (2.10)\n",
      "Requirement already satisfied: certifi>=2017.4.17 in /Users/macrafa/opt/anaconda3/lib/python3.8/site-packages (from requests>=2.22.0->investpy) (2021.10.8)\n",
      "Requirement already satisfied: chardet<5,>=3.0.2 in /Users/macrafa/opt/anaconda3/lib/python3.8/site-packages (from requests>=2.22.0->investpy) (4.0.0)\n",
      "Requirement already satisfied: urllib3<1.27,>=1.21.1 in /Users/macrafa/opt/anaconda3/lib/python3.8/site-packages (from requests>=2.22.0->investpy) (1.26.4)\n",
      "Requirement already satisfied: missingno in /Users/macrafa/opt/anaconda3/lib/python3.8/site-packages (0.5.1)\n",
      "Requirement already satisfied: scipy in /Users/macrafa/opt/anaconda3/lib/python3.8/site-packages (from missingno) (1.6.2)\n",
      "Requirement already satisfied: numpy in /Users/macrafa/opt/anaconda3/lib/python3.8/site-packages (from missingno) (1.22.1)\n",
      "Requirement already satisfied: matplotlib in /Users/macrafa/opt/anaconda3/lib/python3.8/site-packages (from missingno) (3.3.4)\n",
      "Requirement already satisfied: seaborn in /Users/macrafa/opt/anaconda3/lib/python3.8/site-packages (from missingno) (0.11.1)\n",
      "Requirement already satisfied: pyparsing!=2.0.4,!=2.1.2,!=2.1.6,>=2.0.3 in /Users/macrafa/opt/anaconda3/lib/python3.8/site-packages (from matplotlib->missingno) (2.4.7)\n",
      "Requirement already satisfied: python-dateutil>=2.1 in /Users/macrafa/opt/anaconda3/lib/python3.8/site-packages (from matplotlib->missingno) (2.8.1)\n",
      "Requirement already satisfied: kiwisolver>=1.0.1 in /Users/macrafa/opt/anaconda3/lib/python3.8/site-packages (from matplotlib->missingno) (1.3.1)\n",
      "Requirement already satisfied: pillow>=6.2.0 in /Users/macrafa/opt/anaconda3/lib/python3.8/site-packages (from matplotlib->missingno) (8.2.0)\n",
      "Requirement already satisfied: cycler>=0.10 in /Users/macrafa/opt/anaconda3/lib/python3.8/site-packages (from matplotlib->missingno) (0.10.0)\n",
      "Requirement already satisfied: six in /Users/macrafa/opt/anaconda3/lib/python3.8/site-packages (from cycler>=0.10->matplotlib->missingno) (1.15.0)\n",
      "Requirement already satisfied: pandas>=0.23 in /Users/macrafa/opt/anaconda3/lib/python3.8/site-packages (from seaborn->missingno) (1.2.4)\n",
      "Requirement already satisfied: pytz>=2017.3 in /Users/macrafa/opt/anaconda3/lib/python3.8/site-packages (from pandas>=0.23->seaborn->missingno) (2021.1)\n"
     ]
    }
   ],
   "source": [
    "!pip install Quandl\n",
    "!pip install investpy\n",
    "!pip install missingno"
   ]
  },
  {
   "cell_type": "code",
   "execution_count": 3,
   "id": "733f12ff",
   "metadata": {},
   "outputs": [],
   "source": [
    "import requests\n",
    "from bs4 import BeautifulSoup\n",
    "import pandas as pd\n",
    "from tqdm import tqdm\n",
    "import numpy as np\n",
    "import missingno as msno\n",
    "import matplotlib.pyplot as plt\n",
    "import warnings\n",
    "warnings.filterwarnings(\"ignore\")\n",
    "import quandl\n",
    "import investpy"
   ]
  },
  {
   "cell_type": "markdown",
   "id": "7b43c400",
   "metadata": {},
   "source": [
    "# Utils"
   ]
  },
  {
   "cell_type": "code",
   "execution_count": 4,
   "id": "07fe20a4",
   "metadata": {},
   "outputs": [],
   "source": [
    "URL_array  = set()\n",
    "def link2df(URL,col_name,join_df,join=True,check_column=True,check_URL = True,clear_URL_array=False,show_details=False):\n",
    "    '''This function scraps the given link and returns dataframe\n",
    "    __________\n",
    "    Parameters:\n",
    "        URL(string): URL to be scrapped from bitcoin website\n",
    "        col_name(string): column name for dataframe\n",
    "        join_df(variable)= dataframe withwhich output dataframe will be left joined on Date\n",
    "        join(boolean)= iF True,join, else don't join\n",
    "        check_column(boolean)= check if column name already exists\n",
    "        check_URL(boolean)= check if URL is already processed\n",
    "        clear_URL_array(boolean)= if true URL_processed array will be cleared\n",
    "        show_details(boolean)= various details wil be printed such as scrapping first and last details, df head & df tail     \n",
    "        '''\n",
    "        \n",
    "    print(f'processing {col_name}')\n",
    "\n",
    "    #clear URL append array\n",
    "    if clear_URL_array==True:\n",
    "        URL_array.clear()\n",
    "\n",
    "    #set join parameters if false\n",
    "    if join == False:\n",
    "        join_df = None\n",
    "        check_column=False\n",
    "\n",
    "    #process column name by making it lowercase and replacing spaces,commas, full stops\n",
    "    col_name = col_name.lower().replace(',','').replace(\" \", \"_\").replace(\".\", \"_\")\n",
    "\n",
    "    #col_name validation if exists already\n",
    "    if check_column==True and col_name in list(join_df.columns):\n",
    "        print(f'column {col_name} already esists in dataframe, stopped here')\n",
    "        return join_df\n",
    "\n",
    "    #URL validation if processes already\n",
    "    elif check_URL==True and URL in list(URL_array):\n",
    "        print(f'{URL} is already processed, stopped here')\n",
    "        return join_df \n",
    "\n",
    "    #web scrapping\n",
    "    page = requests.get(URL)\n",
    "    soup = page.content\n",
    "    soup = str(soup)\n",
    "    scraped_output = (soup.split('[[')[1]).split('{labels')[0][0:-2]\n",
    "    if show_details == True:\n",
    "        print('head')\n",
    "        print({scraped_output[0:30]})\n",
    "        print('tail')\n",
    "        print({scraped_output[-30:]})\n",
    "\n",
    "    processed_str = scraped_output.replace('new Date(','')\n",
    "    processed_str = processed_str.replace(')','')\n",
    "    processed_str = processed_str.replace('[','')\n",
    "    processed_str = processed_str.replace(']','')\n",
    "    processed_str = processed_str.replace('\"','')\n",
    "\n",
    "    processed_str_list = processed_str.split(',')\n",
    "    date_list,data_list = processed_str_list[::2],processed_str_list[1::2]\n",
    "\n",
    "    #validate column lengths\n",
    "    if len(date_list)!=len(data_list):\n",
    "        print(f'date & data length:{len(date_list),len(data_list),len(date_list)==len(data_list)}')\n",
    "\n",
    "    #convert list data to a dataframe\n",
    "    if join == False:\n",
    "        df = pd.DataFrame()\n",
    "        df['Date'] = pd.to_datetime(date_list)\n",
    "        df[col_name] = data_list\n",
    "        URL_array.add(URL)\n",
    "        if show_details == True:\n",
    "            print('*'*100)\n",
    "            print('df head')\n",
    "            print(df.head(1))\n",
    "            print('*'*100)\n",
    "            print('df tail')\n",
    "            print(df.tail(1))\n",
    "            print('*'*100)\n",
    "            print(f'df shape{df.shape}')\n",
    "            print('='*100)\n",
    "            \n",
    "        return df\n",
    "\n",
    "    elif col_name not in list(join_df.columns) and join == True:\n",
    "        df = pd.DataFrame()\n",
    "        df['Date'] = pd.to_datetime(date_list)\n",
    "        df[col_name] = data_list\n",
    "        join_df = pd.merge(join_df,df,on=['Date'],how='left')\n",
    "        URL_array.add(URL)\n",
    "        if show_details == True:\n",
    "            print('*'*100)\n",
    "            print('df head')\n",
    "            print(df.head(1))\n",
    "            print('*'*100)\n",
    "            print('df tail')\n",
    "            print(df.tail(1))\n",
    "            print('*'*100)\n",
    "            print(f'output df shape= {df.shape},joined_df shape = {join_df.shape}')\n",
    "            print('='*100)\n",
    "            print(f'Number of duplicate columns in dataframe {df.columns.duplicated().sum()}')\n",
    "            print('='*100)\n",
    "    \n",
    "        return join_df"
   ]
  },
  {
   "cell_type": "markdown",
   "id": "3182213a",
   "metadata": {},
   "source": [
    "# DATA "
   ]
  },
  {
   "cell_type": "code",
   "execution_count": 5,
   "id": "68a63b54",
   "metadata": {},
   "outputs": [],
   "source": [
    "#bitcoin_prices = pd.read_csv(\"bitstampUSD_1-min_data_2012-01-01_to_2021-03-31.csv\",\n",
    "#                       parse_dates=[\"Timestamp\"], \n",
    "#                       index_col=[\"Timestamp\"]) "
   ]
  },
  {
   "cell_type": "code",
   "execution_count": 6,
   "id": "59002102",
   "metadata": {},
   "outputs": [],
   "source": [
    "#bitcoin_prices.index = [datetime.fromtimestamp(x) for x in bitcoin_prices.index]"
   ]
  },
  {
   "cell_type": "code",
   "execution_count": 7,
   "id": "cd83e026",
   "metadata": {},
   "outputs": [],
   "source": [
    "#bitcoin_prices"
   ]
  },
  {
   "cell_type": "code",
   "execution_count": 8,
   "id": "c3ec9c2c",
   "metadata": {},
   "outputs": [],
   "source": [
    "#bitcoin_prices[\"Close\"].plot()\n",
    "#plt.title(\"Bitcoin (BTC) prices from January 2012 to March 2021\")\n",
    "#plt.xlabel(\"Date\")\n",
    "#plt.ylabel(\"BTC price in USD\")\n",
    "#plt.show()"
   ]
  },
  {
   "cell_type": "code",
   "execution_count": 9,
   "id": "25cf4602",
   "metadata": {},
   "outputs": [
    {
     "data": {
      "text/plain": [
       "'bitcoin_prices = bitcoin_prices.iloc[np.logical_and(bitcoin_prices.index >= \"2013-04-01\",\\n                                   bitcoin_prices.index <= \"2020-04-20\")]'"
      ]
     },
     "execution_count": 9,
     "metadata": {},
     "output_type": "execute_result"
    }
   ],
   "source": [
    "\"\"\"bitcoin_prices = bitcoin_prices.iloc[np.logical_and(bitcoin_prices.index >= \"2013-04-01\",\n",
    "                                   bitcoin_prices.index <= \"2020-04-20\")]\"\"\""
   ]
  },
  {
   "cell_type": "code",
   "execution_count": 10,
   "id": "4fcdb876",
   "metadata": {},
   "outputs": [
    {
     "data": {
      "text/plain": [
       "'bitcoin_prices[\"Close\"].plot()\\nplt.title(\"Bitcoin (BTC) prices from April 2013 to April 2020\")\\nplt.xlabel(\"Date\")\\nplt.ylabel(\"BTC price in USD\")\\nplt.show()'"
      ]
     },
     "execution_count": 10,
     "metadata": {},
     "output_type": "execute_result"
    }
   ],
   "source": [
    "\"\"\"bitcoin_prices[\"Close\"].plot()\n",
    "plt.title(\"Bitcoin (BTC) prices from April 2013 to April 2020\")\n",
    "plt.xlabel(\"Date\")\n",
    "plt.ylabel(\"BTC price in USD\")\n",
    "plt.show()\"\"\""
   ]
  },
  {
   "cell_type": "markdown",
   "id": "afa14563",
   "metadata": {},
   "source": [
    "# Web scrapping "
   ]
  },
  {
   "cell_type": "markdown",
   "id": "42e4a344",
   "metadata": {},
   "source": [
    "### Price"
   ]
  },
  {
   "cell_type": "code",
   "execution_count": 11,
   "id": "467b36d9",
   "metadata": {},
   "outputs": [
    {
     "data": {
      "text/html": [
       "<div>\n",
       "<style scoped>\n",
       "    .dataframe tbody tr th:only-of-type {\n",
       "        vertical-align: middle;\n",
       "    }\n",
       "\n",
       "    .dataframe tbody tr th {\n",
       "        vertical-align: top;\n",
       "    }\n",
       "\n",
       "    .dataframe thead th {\n",
       "        text-align: right;\n",
       "    }\n",
       "</style>\n",
       "<table border=\"1\" class=\"dataframe\">\n",
       "  <thead>\n",
       "    <tr style=\"text-align: right;\">\n",
       "      <th></th>\n",
       "      <th>Date</th>\n",
       "      <th>opening_price</th>\n",
       "      <th>highest_price</th>\n",
       "      <th>lowest_price</th>\n",
       "      <th>closing_price</th>\n",
       "    </tr>\n",
       "  </thead>\n",
       "  <tbody>\n",
       "    <tr>\n",
       "      <th>0</th>\n",
       "      <td>2013-04-01</td>\n",
       "      <td>93.0</td>\n",
       "      <td>106.0</td>\n",
       "      <td>92.2</td>\n",
       "      <td>104.0</td>\n",
       "    </tr>\n",
       "    <tr>\n",
       "      <th>1</th>\n",
       "      <td>2013-04-02</td>\n",
       "      <td>104.0</td>\n",
       "      <td>118.4</td>\n",
       "      <td>99.0</td>\n",
       "      <td>118.0</td>\n",
       "    </tr>\n",
       "    <tr>\n",
       "      <th>2</th>\n",
       "      <td>2013-04-03</td>\n",
       "      <td>118.0</td>\n",
       "      <td>147.0</td>\n",
       "      <td>110.0</td>\n",
       "      <td>135.0</td>\n",
       "    </tr>\n",
       "    <tr>\n",
       "      <th>3</th>\n",
       "      <td>2013-04-04</td>\n",
       "      <td>135.0</td>\n",
       "      <td>142.1</td>\n",
       "      <td>116.4</td>\n",
       "      <td>132.1</td>\n",
       "    </tr>\n",
       "    <tr>\n",
       "      <th>4</th>\n",
       "      <td>2013-04-05</td>\n",
       "      <td>132.1</td>\n",
       "      <td>144.9</td>\n",
       "      <td>130.2</td>\n",
       "      <td>142.3</td>\n",
       "    </tr>\n",
       "    <tr>\n",
       "      <th>...</th>\n",
       "      <td>...</td>\n",
       "      <td>...</td>\n",
       "      <td>...</td>\n",
       "      <td>...</td>\n",
       "      <td>...</td>\n",
       "    </tr>\n",
       "    <tr>\n",
       "      <th>2936</th>\n",
       "      <td>2021-04-15</td>\n",
       "      <td>62978.6</td>\n",
       "      <td>63729.1</td>\n",
       "      <td>62067.5</td>\n",
       "      <td>63216.0</td>\n",
       "    </tr>\n",
       "    <tr>\n",
       "      <th>2937</th>\n",
       "      <td>2021-04-16</td>\n",
       "      <td>63211.6</td>\n",
       "      <td>63518.5</td>\n",
       "      <td>60027.3</td>\n",
       "      <td>61379.7</td>\n",
       "    </tr>\n",
       "    <tr>\n",
       "      <th>2938</th>\n",
       "      <td>2021-04-17</td>\n",
       "      <td>61358.3</td>\n",
       "      <td>62509.1</td>\n",
       "      <td>59672.1</td>\n",
       "      <td>60041.9</td>\n",
       "    </tr>\n",
       "    <tr>\n",
       "      <th>2939</th>\n",
       "      <td>2021-04-18</td>\n",
       "      <td>60043.2</td>\n",
       "      <td>60362.1</td>\n",
       "      <td>51817.6</td>\n",
       "      <td>56207.1</td>\n",
       "    </tr>\n",
       "    <tr>\n",
       "      <th>2940</th>\n",
       "      <td>2021-04-19</td>\n",
       "      <td>56208.1</td>\n",
       "      <td>57517.0</td>\n",
       "      <td>54272.3</td>\n",
       "      <td>55646.1</td>\n",
       "    </tr>\n",
       "  </tbody>\n",
       "</table>\n",
       "<p>2941 rows × 5 columns</p>\n",
       "</div>"
      ],
      "text/plain": [
       "           Date  opening_price  highest_price  lowest_price  closing_price\n",
       "0    2013-04-01           93.0          106.0          92.2          104.0\n",
       "1    2013-04-02          104.0          118.4          99.0          118.0\n",
       "2    2013-04-03          118.0          147.0         110.0          135.0\n",
       "3    2013-04-04          135.0          142.1         116.4          132.1\n",
       "4    2013-04-05          132.1          144.9         130.2          142.3\n",
       "...         ...            ...            ...           ...            ...\n",
       "2936 2021-04-15        62978.6        63729.1       62067.5        63216.0\n",
       "2937 2021-04-16        63211.6        63518.5       60027.3        61379.7\n",
       "2938 2021-04-17        61358.3        62509.1       59672.1        60041.9\n",
       "2939 2021-04-18        60043.2        60362.1       51817.6        56207.1\n",
       "2940 2021-04-19        56208.1        57517.0       54272.3        55646.1\n",
       "\n",
       "[2941 rows x 5 columns]"
      ]
     },
     "execution_count": 11,
     "metadata": {},
     "output_type": "execute_result"
    }
   ],
   "source": [
    "final_df = investpy.get_crypto_historical_data(crypto='bitcoin',from_date='01/04/2013',to_date='19/04/2021')\n",
    "final_df = final_df.reset_index()\n",
    "final_df.drop(['Currency','Volume'],inplace=True,axis=1)\n",
    "final_df.columns = ['Date','opening_price','highest_price','lowest_price','closing_price']\n",
    "final_df"
   ]
  },
  {
   "cell_type": "markdown",
   "id": "fe653ed1",
   "metadata": {},
   "source": [
    "### Number of transactions in blockchain per day "
   ]
  },
  {
   "cell_type": "code",
   "execution_count": 12,
   "id": "61899a10",
   "metadata": {},
   "outputs": [
    {
     "name": "stdout",
     "output_type": "stream",
     "text": [
      "processing transactions in blockchain\n"
     ]
    }
   ],
   "source": [
    "final_df = link2df('https://bitinfocharts.com/comparison/bitcoin-transactions.html',\n",
    "                   'transactions in blockchain',join_df=final_df,join=True)"
   ]
  },
  {
   "cell_type": "markdown",
   "id": "b885ef58",
   "metadata": {},
   "source": [
    "### Average block size"
   ]
  },
  {
   "cell_type": "code",
   "execution_count": 13,
   "id": "75878380",
   "metadata": {},
   "outputs": [
    {
     "name": "stdout",
     "output_type": "stream",
     "text": [
      "processing avg block size\n"
     ]
    }
   ],
   "source": [
    "final_df = link2df('https://bitinfocharts.com/comparison/size-btc.html',\n",
    "                   'avg block size',join_df=final_df,join=True)"
   ]
  },
  {
   "cell_type": "markdown",
   "id": "9f7b4a51",
   "metadata": {},
   "source": [
    "### Number of unique (from) adresses per day"
   ]
  },
  {
   "cell_type": "code",
   "execution_count": 14,
   "id": "03549a35",
   "metadata": {},
   "outputs": [
    {
     "name": "stdout",
     "output_type": "stream",
     "text": [
      "processing sent by adress\n"
     ]
    }
   ],
   "source": [
    "final_df = link2df('https://bitinfocharts.com/comparison/sentbyaddress-btc.html',\n",
    "                   'sent by adress',join_df=final_df,join=True)"
   ]
  },
  {
   "cell_type": "markdown",
   "id": "09388e1e",
   "metadata": {},
   "source": [
    "### Average mining difficulty per day"
   ]
  },
  {
   "cell_type": "code",
   "execution_count": 15,
   "id": "f7d6a00a",
   "metadata": {},
   "outputs": [
    {
     "name": "stdout",
     "output_type": "stream",
     "text": [
      "processing avg mining difficulty\n"
     ]
    }
   ],
   "source": [
    "final_df = link2df('https://bitinfocharts.com/comparison/bitcoin-difficulty.html',\n",
    "                   'avg mining difficulty',join_df=final_df,join=True)"
   ]
  },
  {
   "cell_type": "markdown",
   "id": "c275b63e",
   "metadata": {},
   "source": [
    "### Average hashrate (hash/s) per day"
   ]
  },
  {
   "cell_type": "code",
   "execution_count": 16,
   "id": "ba59a313",
   "metadata": {},
   "outputs": [
    {
     "name": "stdout",
     "output_type": "stream",
     "text": [
      "processing avg hashrate\n"
     ]
    }
   ],
   "source": [
    "final_df = link2df('https://bitinfocharts.com/comparison/bitcoin-hashrate.html',\n",
    "                   'avg hashrate',join_df=final_df,join=True)"
   ]
  },
  {
   "cell_type": "markdown",
   "id": "e90f469b",
   "metadata": {},
   "source": [
    "### Mining Profitability USD/Day for 1 Hash/s"
   ]
  },
  {
   "cell_type": "code",
   "execution_count": 17,
   "id": "862da1fc",
   "metadata": {},
   "outputs": [
    {
     "name": "stdout",
     "output_type": "stream",
     "text": [
      "processing mining profitability\n"
     ]
    }
   ],
   "source": [
    "final_df = link2df('https://bitinfocharts.com/comparison/bitcoin-mining_profitability.html',\n",
    "                   'mining profitability',join_df=final_df,join=True)"
   ]
  },
  {
   "cell_type": "markdown",
   "id": "9c00ae4a",
   "metadata": {},
   "source": [
    "### Sent coins in USD per day"
   ]
  },
  {
   "cell_type": "code",
   "execution_count": 18,
   "id": "519e8d63",
   "metadata": {},
   "outputs": [
    {
     "name": "stdout",
     "output_type": "stream",
     "text": [
      "processing Sent coins in USD\n"
     ]
    }
   ],
   "source": [
    "final_df = link2df('https://bitinfocharts.com/comparison/sentinusd-btc.html',\n",
    "                   'Sent coins in USD',join_df=final_df,join=True)"
   ]
  },
  {
   "cell_type": "markdown",
   "id": "69dc80d2",
   "metadata": {},
   "source": [
    "### Average transaction fee, USD"
   ]
  },
  {
   "cell_type": "code",
   "execution_count": 19,
   "id": "a3e0b65a",
   "metadata": {},
   "outputs": [
    {
     "name": "stdout",
     "output_type": "stream",
     "text": [
      "processing avg transaction fees\n"
     ]
    }
   ],
   "source": [
    "final_df = link2df('https://bitinfocharts.com/comparison/bitcoin-transactionfees.html',\n",
    "                   'avg transaction fees',join_df=final_df,join=True)"
   ]
  },
  {
   "cell_type": "markdown",
   "id": "e9cdb17d",
   "metadata": {},
   "source": [
    "### Median transaction fee, USD"
   ]
  },
  {
   "cell_type": "code",
   "execution_count": 20,
   "id": "40fef717",
   "metadata": {},
   "outputs": [
    {
     "name": "stdout",
     "output_type": "stream",
     "text": [
      "processing median transaction fees\n"
     ]
    }
   ],
   "source": [
    "final_df = link2df('https://bitinfocharts.com/comparison/bitcoin-median_transaction_fee.html',\n",
    "                   'median transaction fees',join_df=final_df,join=True)"
   ]
  },
  {
   "cell_type": "markdown",
   "id": "d29a8141",
   "metadata": {},
   "source": [
    "### Average block time (minutes)"
   ]
  },
  {
   "cell_type": "code",
   "execution_count": 21,
   "id": "a2a71a2c",
   "metadata": {},
   "outputs": [
    {
     "name": "stdout",
     "output_type": "stream",
     "text": [
      "processing avg block time\n"
     ]
    }
   ],
   "source": [
    "final_df = link2df('https://bitinfocharts.com/comparison/bitcoin-confirmationtime.html',\n",
    "                   'avg block time',join_df=final_df,join=True)"
   ]
  },
  {
   "cell_type": "markdown",
   "id": "1dfd7aa6",
   "metadata": {},
   "source": [
    "### Avg. Transaction Value, USD"
   ]
  },
  {
   "cell_type": "code",
   "execution_count": 22,
   "id": "0ccc347a",
   "metadata": {},
   "outputs": [
    {
     "name": "stdout",
     "output_type": "stream",
     "text": [
      "processing avg transaction value\n"
     ]
    }
   ],
   "source": [
    "final_df = link2df('https://bitinfocharts.com/comparison/transactionvalue-btc.html',\n",
    "                   'avg transaction value',join_df=final_df,join=True)"
   ]
  },
  {
   "cell_type": "markdown",
   "id": "e7ac11a2",
   "metadata": {},
   "source": [
    "### Median Transaction Value, USD"
   ]
  },
  {
   "cell_type": "code",
   "execution_count": 23,
   "id": "1f87862c",
   "metadata": {},
   "outputs": [
    {
     "name": "stdout",
     "output_type": "stream",
     "text": [
      "processing median transaction value\n"
     ]
    }
   ],
   "source": [
    "final_df = link2df('https://bitinfocharts.com/comparison/mediantransactionvalue-btc.html',\n",
    "                   'median transaction value',join_df=final_df,join=True)"
   ]
  },
  {
   "cell_type": "markdown",
   "id": "3d55bf62",
   "metadata": {},
   "source": [
    "### Tweets per day"
   ]
  },
  {
   "cell_type": "code",
   "execution_count": 24,
   "id": "5a62e599",
   "metadata": {},
   "outputs": [
    {
     "name": "stdout",
     "output_type": "stream",
     "text": [
      "processing tweets\n"
     ]
    }
   ],
   "source": [
    "final_df = link2df('https://bitinfocharts.com/comparison/tweets-btc.html',\n",
    "                   'tweets',join_df=final_df,join=True)"
   ]
  },
  {
   "cell_type": "markdown",
   "id": "89aafd67",
   "metadata": {},
   "source": [
    "### Google Trends to \"Bitcoin\" @ 2012-01-01"
   ]
  },
  {
   "cell_type": "code",
   "execution_count": 25,
   "id": "455826aa",
   "metadata": {},
   "outputs": [
    {
     "name": "stdout",
     "output_type": "stream",
     "text": [
      "processing google trends\n"
     ]
    }
   ],
   "source": [
    "final_df = link2df('https://bitinfocharts.com/comparison/google_trends-btc.html',\n",
    "                   'google trends',join_df=final_df,join=True)"
   ]
  },
  {
   "cell_type": "markdown",
   "id": "845af969",
   "metadata": {},
   "source": [
    "### Number of unique (from or to) addresses per day"
   ]
  },
  {
   "cell_type": "code",
   "execution_count": 26,
   "id": "5cb560d6",
   "metadata": {},
   "outputs": [
    {
     "name": "stdout",
     "output_type": "stream",
     "text": [
      "processing active addresses\n"
     ]
    }
   ],
   "source": [
    "final_df = link2df('https://bitinfocharts.com/comparison/activeaddresses-btc.html',\n",
    "                   'active addresses',join_df=final_df,join=True)"
   ]
  },
  {
   "cell_type": "markdown",
   "id": "0484b6c7",
   "metadata": {},
   "source": [
    "### Top 100 Richest Addresses to Total coins %"
   ]
  },
  {
   "cell_type": "code",
   "execution_count": 27,
   "id": "9b3e23ca",
   "metadata": {},
   "outputs": [
    {
     "name": "stdout",
     "output_type": "stream",
     "text": [
      "processing top100 to total percentage\n"
     ]
    }
   ],
   "source": [
    "final_df = link2df('https://bitinfocharts.com/comparison/top100cap-btc.html',\n",
    "                   'top100 to total percentage',join_df=final_df,join=True)"
   ]
  },
  {
   "cell_type": "markdown",
   "id": "3b6c6e55",
   "metadata": {},
   "source": [
    "### Average Fee Percentage in Total Block Reward"
   ]
  },
  {
   "cell_type": "code",
   "execution_count": 28,
   "id": "582328ab",
   "metadata": {},
   "outputs": [
    {
     "name": "stdout",
     "output_type": "stream",
     "text": [
      "processing avg fee to reward\n"
     ]
    }
   ],
   "source": [
    "final_df = link2df('https://bitinfocharts.com/comparison/fee_to_reward-btc.html',\n",
    "                   'avg fee to reward',join_df=final_df,join=True)"
   ]
  },
  {
   "cell_type": "markdown",
   "id": "4759fd79",
   "metadata": {},
   "source": [
    "### Total number of bitcoins in circulation"
   ]
  },
  {
   "cell_type": "code",
   "execution_count": 29,
   "id": "854c2b56",
   "metadata": {},
   "outputs": [],
   "source": [
    "btc_in_circulation_df = quandl.get(\"BCHAIN/TOTBC\",authtoken='9ztFCcK4_e1xGo_gjzK7')\n",
    "btc_in_circulation_df = btc_in_circulation_df.rename(columns={'Value': 'number_of_coins_in_circulation'})"
   ]
  },
  {
   "cell_type": "markdown",
   "id": "dcc7f59b",
   "metadata": {},
   "source": [
    "### Bitcoin Miners Revenue"
   ]
  },
  {
   "cell_type": "code",
   "execution_count": 30,
   "id": "d46cad53",
   "metadata": {},
   "outputs": [],
   "source": [
    "miners_revenue_df = quandl.get(\"BCHAIN/MIREV\",authtoken='9ztFCcK4_e1xGo_gjzK7')\n",
    "miners_revenue_df = miners_revenue_df.rename(columns={'Value': 'miner_revenue'})"
   ]
  },
  {
   "cell_type": "code",
   "execution_count": null,
   "id": "02d3b5bc",
   "metadata": {},
   "outputs": [],
   "source": []
  },
  {
   "cell_type": "code",
   "execution_count": null,
   "id": "38441092",
   "metadata": {},
   "outputs": [],
   "source": []
  },
  {
   "cell_type": "code",
   "execution_count": null,
   "id": "1b723f4f",
   "metadata": {},
   "outputs": [],
   "source": []
  },
  {
   "cell_type": "code",
   "execution_count": 31,
   "id": "69484e20",
   "metadata": {},
   "outputs": [],
   "source": [
    "#Filtering data as we are considering this peiod only\n",
    "final_df = final_df[(final_df['Date'] >= '01/04/2013')].reset_index(drop=True)\n",
    "\n",
    "final_df = pd.merge(final_df,btc_in_circulation_df,on=['Date'],how='left')\n",
    "final_df = pd.merge(final_df,miners_revenue_df,on=['Date'],how='left')\n",
    "\n",
    "# Change the index to Date\n",
    "#final_df = final_df.set_index(\"Date\")"
   ]
  },
  {
   "cell_type": "code",
   "execution_count": 32,
   "id": "879d1498",
   "metadata": {},
   "outputs": [],
   "source": [
    "# "
   ]
  },
  {
   "cell_type": "code",
   "execution_count": 33,
   "id": "02762a5a",
   "metadata": {},
   "outputs": [
    {
     "data": {
      "text/html": [
       "<div>\n",
       "<style scoped>\n",
       "    .dataframe tbody tr th:only-of-type {\n",
       "        vertical-align: middle;\n",
       "    }\n",
       "\n",
       "    .dataframe tbody tr th {\n",
       "        vertical-align: top;\n",
       "    }\n",
       "\n",
       "    .dataframe thead th {\n",
       "        text-align: right;\n",
       "    }\n",
       "</style>\n",
       "<table border=\"1\" class=\"dataframe\">\n",
       "  <thead>\n",
       "    <tr style=\"text-align: right;\">\n",
       "      <th></th>\n",
       "      <th>Date</th>\n",
       "      <th>opening_price</th>\n",
       "      <th>highest_price</th>\n",
       "      <th>lowest_price</th>\n",
       "      <th>closing_price</th>\n",
       "      <th>transactions_in_blockchain</th>\n",
       "      <th>avg_block_size</th>\n",
       "      <th>sent_by_adress</th>\n",
       "      <th>avg_mining_difficulty</th>\n",
       "      <th>avg_hashrate</th>\n",
       "      <th>...</th>\n",
       "      <th>avg_block_time</th>\n",
       "      <th>avg_transaction_value</th>\n",
       "      <th>median_transaction_value</th>\n",
       "      <th>tweets</th>\n",
       "      <th>google_trends</th>\n",
       "      <th>active_addresses</th>\n",
       "      <th>top100_to_total_percentage</th>\n",
       "      <th>avg_fee_to_reward</th>\n",
       "      <th>number_of_coins_in_circulation</th>\n",
       "      <th>miner_revenue</th>\n",
       "    </tr>\n",
       "  </thead>\n",
       "  <tbody>\n",
       "    <tr>\n",
       "      <th>0</th>\n",
       "      <td>2013-04-01</td>\n",
       "      <td>93.0</td>\n",
       "      <td>106.0</td>\n",
       "      <td>92.2</td>\n",
       "      <td>104.0</td>\n",
       "      <td>52572</td>\n",
       "      <td>139256</td>\n",
       "      <td>48809</td>\n",
       "      <td>6695826</td>\n",
       "      <td>65502112131790</td>\n",
       "      <td>...</td>\n",
       "      <td>7.273</td>\n",
       "      <td>2592</td>\n",
       "      <td>64.987</td>\n",
       "      <td>NaN</td>\n",
       "      <td>15.248</td>\n",
       "      <td>75756</td>\n",
       "      <td>19.962</td>\n",
       "      <td>0.867</td>\n",
       "      <td>10975275.0</td>\n",
       "      <td>481891.360000</td>\n",
       "    </tr>\n",
       "    <tr>\n",
       "      <th>1</th>\n",
       "      <td>2013-04-02</td>\n",
       "      <td>104.0</td>\n",
       "      <td>118.4</td>\n",
       "      <td>99.0</td>\n",
       "      <td>118.0</td>\n",
       "      <td>63095</td>\n",
       "      <td>175443</td>\n",
       "      <td>62276</td>\n",
       "      <td>6695826</td>\n",
       "      <td>61845596902013</td>\n",
       "      <td>...</td>\n",
       "      <td>7.956</td>\n",
       "      <td>4400</td>\n",
       "      <td>94.955</td>\n",
       "      <td>NaN</td>\n",
       "      <td>17.192</td>\n",
       "      <td>91875</td>\n",
       "      <td>20.024</td>\n",
       "      <td>1.338</td>\n",
       "      <td>10988125.0</td>\n",
       "      <td>531299.503749</td>\n",
       "    </tr>\n",
       "    <tr>\n",
       "      <th>2</th>\n",
       "      <td>2013-04-03</td>\n",
       "      <td>118.0</td>\n",
       "      <td>147.0</td>\n",
       "      <td>110.0</td>\n",
       "      <td>135.0</td>\n",
       "      <td>63766</td>\n",
       "      <td>184209</td>\n",
       "      <td>69174</td>\n",
       "      <td>6695826</td>\n",
       "      <td>60270367548897</td>\n",
       "      <td>...</td>\n",
       "      <td>8.229</td>\n",
       "      <td>4478</td>\n",
       "      <td>102.533</td>\n",
       "      <td>NaN</td>\n",
       "      <td>26.608</td>\n",
       "      <td>107142</td>\n",
       "      <td>19.987</td>\n",
       "      <td>1.596</td>\n",
       "      <td>10986575.0</td>\n",
       "      <td>538423.880210</td>\n",
       "    </tr>\n",
       "    <tr>\n",
       "      <th>3</th>\n",
       "      <td>2013-04-04</td>\n",
       "      <td>135.0</td>\n",
       "      <td>142.1</td>\n",
       "      <td>116.4</td>\n",
       "      <td>132.1</td>\n",
       "      <td>66738</td>\n",
       "      <td>221568</td>\n",
       "      <td>71753</td>\n",
       "      <td>6695826</td>\n",
       "      <td>55272455140085</td>\n",
       "      <td>...</td>\n",
       "      <td>9.351</td>\n",
       "      <td>4249</td>\n",
       "      <td>123.314</td>\n",
       "      <td>NaN</td>\n",
       "      <td>24.681</td>\n",
       "      <td>108890</td>\n",
       "      <td>19.99</td>\n",
       "      <td>1.948</td>\n",
       "      <td>10995725.0</td>\n",
       "      <td>525157.600000</td>\n",
       "    </tr>\n",
       "    <tr>\n",
       "      <th>4</th>\n",
       "      <td>2013-04-05</td>\n",
       "      <td>132.1</td>\n",
       "      <td>144.9</td>\n",
       "      <td>130.2</td>\n",
       "      <td>142.3</td>\n",
       "      <td>61215</td>\n",
       "      <td>190067</td>\n",
       "      <td>69310</td>\n",
       "      <td>7005058</td>\n",
       "      <td>51815454745655</td>\n",
       "      <td>...</td>\n",
       "      <td>9.114</td>\n",
       "      <td>4348</td>\n",
       "      <td>125.183</td>\n",
       "      <td>NaN</td>\n",
       "      <td>20.514</td>\n",
       "      <td>100034</td>\n",
       "      <td>19.833</td>\n",
       "      <td>1.432</td>\n",
       "      <td>10999925.0</td>\n",
       "      <td>606454.781556</td>\n",
       "    </tr>\n",
       "  </tbody>\n",
       "</table>\n",
       "<p>5 rows × 24 columns</p>\n",
       "</div>"
      ],
      "text/plain": [
       "        Date  opening_price  highest_price  lowest_price  closing_price  \\\n",
       "0 2013-04-01           93.0          106.0          92.2          104.0   \n",
       "1 2013-04-02          104.0          118.4          99.0          118.0   \n",
       "2 2013-04-03          118.0          147.0         110.0          135.0   \n",
       "3 2013-04-04          135.0          142.1         116.4          132.1   \n",
       "4 2013-04-05          132.1          144.9         130.2          142.3   \n",
       "\n",
       "  transactions_in_blockchain avg_block_size sent_by_adress  \\\n",
       "0                      52572         139256          48809   \n",
       "1                      63095         175443          62276   \n",
       "2                      63766         184209          69174   \n",
       "3                      66738         221568          71753   \n",
       "4                      61215         190067          69310   \n",
       "\n",
       "  avg_mining_difficulty    avg_hashrate  ... avg_block_time  \\\n",
       "0               6695826  65502112131790  ...          7.273   \n",
       "1               6695826  61845596902013  ...          7.956   \n",
       "2               6695826  60270367548897  ...          8.229   \n",
       "3               6695826  55272455140085  ...          9.351   \n",
       "4               7005058  51815454745655  ...          9.114   \n",
       "\n",
       "  avg_transaction_value median_transaction_value tweets google_trends  \\\n",
       "0                  2592                   64.987    NaN        15.248   \n",
       "1                  4400                   94.955    NaN        17.192   \n",
       "2                  4478                  102.533    NaN        26.608   \n",
       "3                  4249                  123.314    NaN        24.681   \n",
       "4                  4348                  125.183    NaN        20.514   \n",
       "\n",
       "  active_addresses top100_to_total_percentage avg_fee_to_reward  \\\n",
       "0            75756                     19.962             0.867   \n",
       "1            91875                     20.024             1.338   \n",
       "2           107142                     19.987             1.596   \n",
       "3           108890                      19.99             1.948   \n",
       "4           100034                     19.833             1.432   \n",
       "\n",
       "  number_of_coins_in_circulation  miner_revenue  \n",
       "0                     10975275.0  481891.360000  \n",
       "1                     10988125.0  531299.503749  \n",
       "2                     10986575.0  538423.880210  \n",
       "3                     10995725.0  525157.600000  \n",
       "4                     10999925.0  606454.781556  \n",
       "\n",
       "[5 rows x 24 columns]"
      ]
     },
     "execution_count": 33,
     "metadata": {},
     "output_type": "execute_result"
    }
   ],
   "source": [
    "final_df.head()"
   ]
  },
  {
   "cell_type": "code",
   "execution_count": 34,
   "id": "a13557d8",
   "metadata": {},
   "outputs": [
    {
     "name": "stdout",
     "output_type": "stream",
     "text": [
      "<class 'pandas.core.frame.DataFrame'>\n",
      "Int64Index: 2941 entries, 0 to 2940\n",
      "Data columns (total 24 columns):\n",
      " #   Column                          Non-Null Count  Dtype         \n",
      "---  ------                          --------------  -----         \n",
      " 0   Date                            2941 non-null   datetime64[ns]\n",
      " 1   opening_price                   2941 non-null   float64       \n",
      " 2   highest_price                   2941 non-null   float64       \n",
      " 3   lowest_price                    2941 non-null   float64       \n",
      " 4   closing_price                   2941 non-null   float64       \n",
      " 5   transactions_in_blockchain      2941 non-null   object        \n",
      " 6   avg_block_size                  2941 non-null   object        \n",
      " 7   sent_by_adress                  2941 non-null   object        \n",
      " 8   avg_mining_difficulty           2941 non-null   object        \n",
      " 9   avg_hashrate                    2941 non-null   object        \n",
      " 10  mining_profitability            2941 non-null   object        \n",
      " 11  sent_coins_in_usd               2941 non-null   object        \n",
      " 12  avg_transaction_fees            2941 non-null   object        \n",
      " 13  median_transaction_fees         2941 non-null   object        \n",
      " 14  avg_block_time                  2941 non-null   object        \n",
      " 15  avg_transaction_value           2941 non-null   object        \n",
      " 16  median_transaction_value        2941 non-null   object        \n",
      " 17  tweets                          2568 non-null   object        \n",
      " 18  google_trends                   2941 non-null   object        \n",
      " 19  active_addresses                2941 non-null   object        \n",
      " 20  top100_to_total_percentage      2941 non-null   object        \n",
      " 21  avg_fee_to_reward               2941 non-null   object        \n",
      " 22  number_of_coins_in_circulation  2941 non-null   float64       \n",
      " 23  miner_revenue                   2941 non-null   float64       \n",
      "dtypes: datetime64[ns](1), float64(6), object(17)\n",
      "memory usage: 574.4+ KB\n"
     ]
    }
   ],
   "source": [
    "final_df.info()"
   ]
  },
  {
   "cell_type": "markdown",
   "id": "7d30c174",
   "metadata": {},
   "source": [
    "# Preprocessing"
   ]
  },
  {
   "cell_type": "code",
   "execution_count": 35,
   "id": "76b306af",
   "metadata": {},
   "outputs": [
    {
     "data": {
      "text/html": [
       "<div>\n",
       "<style scoped>\n",
       "    .dataframe tbody tr th:only-of-type {\n",
       "        vertical-align: middle;\n",
       "    }\n",
       "\n",
       "    .dataframe tbody tr th {\n",
       "        vertical-align: top;\n",
       "    }\n",
       "\n",
       "    .dataframe thead th {\n",
       "        text-align: right;\n",
       "    }\n",
       "</style>\n",
       "<table border=\"1\" class=\"dataframe\">\n",
       "  <thead>\n",
       "    <tr style=\"text-align: right;\">\n",
       "      <th></th>\n",
       "      <th>Date</th>\n",
       "      <th>opening_price</th>\n",
       "      <th>highest_price</th>\n",
       "      <th>lowest_price</th>\n",
       "      <th>closing_price</th>\n",
       "      <th>transactions_in_blockchain</th>\n",
       "      <th>avg_block_size</th>\n",
       "      <th>sent_by_adress</th>\n",
       "      <th>avg_mining_difficulty</th>\n",
       "      <th>avg_hashrate</th>\n",
       "      <th>...</th>\n",
       "      <th>avg_block_time</th>\n",
       "      <th>avg_transaction_value</th>\n",
       "      <th>median_transaction_value</th>\n",
       "      <th>tweets</th>\n",
       "      <th>google_trends</th>\n",
       "      <th>active_addresses</th>\n",
       "      <th>top100_to_total_percentage</th>\n",
       "      <th>avg_fee_to_reward</th>\n",
       "      <th>number_of_coins_in_circulation</th>\n",
       "      <th>miner_revenue</th>\n",
       "    </tr>\n",
       "  </thead>\n",
       "  <tbody>\n",
       "    <tr>\n",
       "      <th>0</th>\n",
       "      <td>2013-04-01</td>\n",
       "      <td>93.0</td>\n",
       "      <td>106.0</td>\n",
       "      <td>92.2</td>\n",
       "      <td>104.0</td>\n",
       "      <td>52572</td>\n",
       "      <td>139256</td>\n",
       "      <td>48809</td>\n",
       "      <td>6695826</td>\n",
       "      <td>65502112131790</td>\n",
       "      <td>...</td>\n",
       "      <td>7.273</td>\n",
       "      <td>2592</td>\n",
       "      <td>64.987</td>\n",
       "      <td>NaN</td>\n",
       "      <td>15.248</td>\n",
       "      <td>75756</td>\n",
       "      <td>19.962</td>\n",
       "      <td>0.867</td>\n",
       "      <td>10975275.00</td>\n",
       "      <td>4.818914e+05</td>\n",
       "    </tr>\n",
       "    <tr>\n",
       "      <th>1</th>\n",
       "      <td>2013-04-02</td>\n",
       "      <td>104.0</td>\n",
       "      <td>118.4</td>\n",
       "      <td>99.0</td>\n",
       "      <td>118.0</td>\n",
       "      <td>63095</td>\n",
       "      <td>175443</td>\n",
       "      <td>62276</td>\n",
       "      <td>6695826</td>\n",
       "      <td>61845596902013</td>\n",
       "      <td>...</td>\n",
       "      <td>7.956</td>\n",
       "      <td>4400</td>\n",
       "      <td>94.955</td>\n",
       "      <td>NaN</td>\n",
       "      <td>17.192</td>\n",
       "      <td>91875</td>\n",
       "      <td>20.024</td>\n",
       "      <td>1.338</td>\n",
       "      <td>10988125.00</td>\n",
       "      <td>5.312995e+05</td>\n",
       "    </tr>\n",
       "    <tr>\n",
       "      <th>2</th>\n",
       "      <td>2013-04-03</td>\n",
       "      <td>118.0</td>\n",
       "      <td>147.0</td>\n",
       "      <td>110.0</td>\n",
       "      <td>135.0</td>\n",
       "      <td>63766</td>\n",
       "      <td>184209</td>\n",
       "      <td>69174</td>\n",
       "      <td>6695826</td>\n",
       "      <td>60270367548897</td>\n",
       "      <td>...</td>\n",
       "      <td>8.229</td>\n",
       "      <td>4478</td>\n",
       "      <td>102.533</td>\n",
       "      <td>NaN</td>\n",
       "      <td>26.608</td>\n",
       "      <td>107142</td>\n",
       "      <td>19.987</td>\n",
       "      <td>1.596</td>\n",
       "      <td>10986575.00</td>\n",
       "      <td>5.384239e+05</td>\n",
       "    </tr>\n",
       "    <tr>\n",
       "      <th>3</th>\n",
       "      <td>2013-04-04</td>\n",
       "      <td>135.0</td>\n",
       "      <td>142.1</td>\n",
       "      <td>116.4</td>\n",
       "      <td>132.1</td>\n",
       "      <td>66738</td>\n",
       "      <td>221568</td>\n",
       "      <td>71753</td>\n",
       "      <td>6695826</td>\n",
       "      <td>55272455140085</td>\n",
       "      <td>...</td>\n",
       "      <td>9.351</td>\n",
       "      <td>4249</td>\n",
       "      <td>123.314</td>\n",
       "      <td>NaN</td>\n",
       "      <td>24.681</td>\n",
       "      <td>108890</td>\n",
       "      <td>19.99</td>\n",
       "      <td>1.948</td>\n",
       "      <td>10995725.00</td>\n",
       "      <td>5.251576e+05</td>\n",
       "    </tr>\n",
       "    <tr>\n",
       "      <th>4</th>\n",
       "      <td>2013-04-05</td>\n",
       "      <td>132.1</td>\n",
       "      <td>144.9</td>\n",
       "      <td>130.2</td>\n",
       "      <td>142.3</td>\n",
       "      <td>61215</td>\n",
       "      <td>190067</td>\n",
       "      <td>69310</td>\n",
       "      <td>7005058</td>\n",
       "      <td>51815454745655</td>\n",
       "      <td>...</td>\n",
       "      <td>9.114</td>\n",
       "      <td>4348</td>\n",
       "      <td>125.183</td>\n",
       "      <td>NaN</td>\n",
       "      <td>20.514</td>\n",
       "      <td>100034</td>\n",
       "      <td>19.833</td>\n",
       "      <td>1.432</td>\n",
       "      <td>10999925.00</td>\n",
       "      <td>6.064548e+05</td>\n",
       "    </tr>\n",
       "    <tr>\n",
       "      <th>...</th>\n",
       "      <td>...</td>\n",
       "      <td>...</td>\n",
       "      <td>...</td>\n",
       "      <td>...</td>\n",
       "      <td>...</td>\n",
       "      <td>...</td>\n",
       "      <td>...</td>\n",
       "      <td>...</td>\n",
       "      <td>...</td>\n",
       "      <td>...</td>\n",
       "      <td>...</td>\n",
       "      <td>...</td>\n",
       "      <td>...</td>\n",
       "      <td>...</td>\n",
       "      <td>...</td>\n",
       "      <td>...</td>\n",
       "      <td>...</td>\n",
       "      <td>...</td>\n",
       "      <td>...</td>\n",
       "      <td>...</td>\n",
       "      <td>...</td>\n",
       "    </tr>\n",
       "    <tr>\n",
       "      <th>2935</th>\n",
       "      <td>2021-04-14</td>\n",
       "      <td>63544.2</td>\n",
       "      <td>64778.0</td>\n",
       "      <td>61366.3</td>\n",
       "      <td>62980.4</td>\n",
       "      <td>297359</td>\n",
       "      <td>902130</td>\n",
       "      <td>519415</td>\n",
       "      <td>23137439666472</td>\n",
       "      <td>1.518717730477E+20</td>\n",
       "      <td>...</td>\n",
       "      <td>10.667</td>\n",
       "      <td>389263</td>\n",
       "      <td>1285</td>\n",
       "      <td>161204</td>\n",
       "      <td>193.005</td>\n",
       "      <td>949048</td>\n",
       "      <td>14.464</td>\n",
       "      <td>13.903</td>\n",
       "      <td>18682668.75</td>\n",
       "      <td>6.314133e+07</td>\n",
       "    </tr>\n",
       "    <tr>\n",
       "      <th>2936</th>\n",
       "      <td>2021-04-15</td>\n",
       "      <td>62978.6</td>\n",
       "      <td>63729.1</td>\n",
       "      <td>62067.5</td>\n",
       "      <td>63216.0</td>\n",
       "      <td>359268</td>\n",
       "      <td>892547</td>\n",
       "      <td>554823</td>\n",
       "      <td>23217560568175</td>\n",
       "      <td>1.8167943199849E+20</td>\n",
       "      <td>...</td>\n",
       "      <td>8.372</td>\n",
       "      <td>323211</td>\n",
       "      <td>974.167</td>\n",
       "      <td>110223</td>\n",
       "      <td>164.392</td>\n",
       "      <td>1196069</td>\n",
       "      <td>14.513</td>\n",
       "      <td>12.627</td>\n",
       "      <td>18683856.25</td>\n",
       "      <td>8.017224e+07</td>\n",
       "    </tr>\n",
       "    <tr>\n",
       "      <th>2937</th>\n",
       "      <td>2021-04-16</td>\n",
       "      <td>63211.6</td>\n",
       "      <td>63518.5</td>\n",
       "      <td>60027.3</td>\n",
       "      <td>61379.7</td>\n",
       "      <td>219601</td>\n",
       "      <td>879567</td>\n",
       "      <td>420883</td>\n",
       "      <td>23581981443664</td>\n",
       "      <td>1.6736603940491E+20</td>\n",
       "      <td>...</td>\n",
       "      <td>13.981</td>\n",
       "      <td>516536</td>\n",
       "      <td>1462</td>\n",
       "      <td>113640</td>\n",
       "      <td>177.284</td>\n",
       "      <td>830078</td>\n",
       "      <td>14.58</td>\n",
       "      <td>17.903</td>\n",
       "      <td>18684418.75</td>\n",
       "      <td>4.835681e+07</td>\n",
       "    </tr>\n",
       "    <tr>\n",
       "      <th>2938</th>\n",
       "      <td>2021-04-17</td>\n",
       "      <td>61358.3</td>\n",
       "      <td>62509.1</td>\n",
       "      <td>59672.1</td>\n",
       "      <td>60041.9</td>\n",
       "      <td>194489</td>\n",
       "      <td>879676</td>\n",
       "      <td>353899</td>\n",
       "      <td>23581981443664</td>\n",
       "      <td>1.2155182861954E+20</td>\n",
       "      <td>...</td>\n",
       "      <td>15.824</td>\n",
       "      <td>359703</td>\n",
       "      <td>1459</td>\n",
       "      <td>100583</td>\n",
       "      <td>147.984</td>\n",
       "      <td>773272</td>\n",
       "      <td>14.574</td>\n",
       "      <td>22.344</td>\n",
       "      <td>18684900.00</td>\n",
       "      <td>4.502809e+07</td>\n",
       "    </tr>\n",
       "    <tr>\n",
       "      <th>2939</th>\n",
       "      <td>2021-04-18</td>\n",
       "      <td>60043.2</td>\n",
       "      <td>60362.1</td>\n",
       "      <td>51817.6</td>\n",
       "      <td>56207.1</td>\n",
       "      <td>274611</td>\n",
       "      <td>900314</td>\n",
       "      <td>449307</td>\n",
       "      <td>23581981443664</td>\n",
       "      <td>1.2782218196689E+20</td>\n",
       "      <td>...</td>\n",
       "      <td>11.613</td>\n",
       "      <td>337989</td>\n",
       "      <td>1116</td>\n",
       "      <td>178464</td>\n",
       "      <td>267.181</td>\n",
       "      <td>954286</td>\n",
       "      <td>14.568</td>\n",
       "      <td>21.703</td>\n",
       "      <td>18685731.25</td>\n",
       "      <td>5.772197e+07</td>\n",
       "    </tr>\n",
       "  </tbody>\n",
       "</table>\n",
       "<p>2940 rows × 24 columns</p>\n",
       "</div>"
      ],
      "text/plain": [
       "           Date  opening_price  highest_price  lowest_price  closing_price  \\\n",
       "0    2013-04-01           93.0          106.0          92.2          104.0   \n",
       "1    2013-04-02          104.0          118.4          99.0          118.0   \n",
       "2    2013-04-03          118.0          147.0         110.0          135.0   \n",
       "3    2013-04-04          135.0          142.1         116.4          132.1   \n",
       "4    2013-04-05          132.1          144.9         130.2          142.3   \n",
       "...         ...            ...            ...           ...            ...   \n",
       "2935 2021-04-14        63544.2        64778.0       61366.3        62980.4   \n",
       "2936 2021-04-15        62978.6        63729.1       62067.5        63216.0   \n",
       "2937 2021-04-16        63211.6        63518.5       60027.3        61379.7   \n",
       "2938 2021-04-17        61358.3        62509.1       59672.1        60041.9   \n",
       "2939 2021-04-18        60043.2        60362.1       51817.6        56207.1   \n",
       "\n",
       "     transactions_in_blockchain avg_block_size sent_by_adress  \\\n",
       "0                         52572         139256          48809   \n",
       "1                         63095         175443          62276   \n",
       "2                         63766         184209          69174   \n",
       "3                         66738         221568          71753   \n",
       "4                         61215         190067          69310   \n",
       "...                         ...            ...            ...   \n",
       "2935                     297359         902130         519415   \n",
       "2936                     359268         892547         554823   \n",
       "2937                     219601         879567         420883   \n",
       "2938                     194489         879676         353899   \n",
       "2939                     274611         900314         449307   \n",
       "\n",
       "     avg_mining_difficulty         avg_hashrate  ... avg_block_time  \\\n",
       "0                  6695826       65502112131790  ...          7.273   \n",
       "1                  6695826       61845596902013  ...          7.956   \n",
       "2                  6695826       60270367548897  ...          8.229   \n",
       "3                  6695826       55272455140085  ...          9.351   \n",
       "4                  7005058       51815454745655  ...          9.114   \n",
       "...                    ...                  ...  ...            ...   \n",
       "2935        23137439666472   1.518717730477E+20  ...         10.667   \n",
       "2936        23217560568175  1.8167943199849E+20  ...          8.372   \n",
       "2937        23581981443664  1.6736603940491E+20  ...         13.981   \n",
       "2938        23581981443664  1.2155182861954E+20  ...         15.824   \n",
       "2939        23581981443664  1.2782218196689E+20  ...         11.613   \n",
       "\n",
       "     avg_transaction_value median_transaction_value  tweets google_trends  \\\n",
       "0                     2592                   64.987     NaN        15.248   \n",
       "1                     4400                   94.955     NaN        17.192   \n",
       "2                     4478                  102.533     NaN        26.608   \n",
       "3                     4249                  123.314     NaN        24.681   \n",
       "4                     4348                  125.183     NaN        20.514   \n",
       "...                    ...                      ...     ...           ...   \n",
       "2935                389263                     1285  161204       193.005   \n",
       "2936                323211                  974.167  110223       164.392   \n",
       "2937                516536                     1462  113640       177.284   \n",
       "2938                359703                     1459  100583       147.984   \n",
       "2939                337989                     1116  178464       267.181   \n",
       "\n",
       "     active_addresses top100_to_total_percentage avg_fee_to_reward  \\\n",
       "0               75756                     19.962             0.867   \n",
       "1               91875                     20.024             1.338   \n",
       "2              107142                     19.987             1.596   \n",
       "3              108890                      19.99             1.948   \n",
       "4              100034                     19.833             1.432   \n",
       "...               ...                        ...               ...   \n",
       "2935           949048                     14.464            13.903   \n",
       "2936          1196069                     14.513            12.627   \n",
       "2937           830078                      14.58            17.903   \n",
       "2938           773272                     14.574            22.344   \n",
       "2939           954286                     14.568            21.703   \n",
       "\n",
       "     number_of_coins_in_circulation miner_revenue  \n",
       "0                       10975275.00  4.818914e+05  \n",
       "1                       10988125.00  5.312995e+05  \n",
       "2                       10986575.00  5.384239e+05  \n",
       "3                       10995725.00  5.251576e+05  \n",
       "4                       10999925.00  6.064548e+05  \n",
       "...                             ...           ...  \n",
       "2935                    18682668.75  6.314133e+07  \n",
       "2936                    18683856.25  8.017224e+07  \n",
       "2937                    18684418.75  4.835681e+07  \n",
       "2938                    18684900.00  4.502809e+07  \n",
       "2939                    18685731.25  5.772197e+07  \n",
       "\n",
       "[2940 rows x 24 columns]"
      ]
     },
     "execution_count": 35,
     "metadata": {},
     "output_type": "execute_result"
    }
   ],
   "source": [
    "final_df.replace(to_replace='null', value=np.nan,inplace=True)\n",
    "final_df.drop(final_df.tail(1).index,inplace=True)\n",
    "final_df"
   ]
  },
  {
   "cell_type": "code",
   "execution_count": 36,
   "id": "897cf6d8",
   "metadata": {},
   "outputs": [
    {
     "name": "stdout",
     "output_type": "stream",
     "text": [
      "There is 458 NaN values\n"
     ]
    }
   ],
   "source": [
    "# Check NaN values\n",
    "\n",
    "print(f\"There is {final_df.isnull().values.sum()} NaN values\")"
   ]
  },
  {
   "cell_type": "code",
   "execution_count": 37,
   "id": "8fef745c",
   "metadata": {
    "scrolled": true
   },
   "outputs": [
    {
     "data": {
      "text/html": [
       "<div>\n",
       "<style scoped>\n",
       "    .dataframe tbody tr th:only-of-type {\n",
       "        vertical-align: middle;\n",
       "    }\n",
       "\n",
       "    .dataframe tbody tr th {\n",
       "        vertical-align: top;\n",
       "    }\n",
       "\n",
       "    .dataframe thead th {\n",
       "        text-align: right;\n",
       "    }\n",
       "</style>\n",
       "<table border=\"1\" class=\"dataframe\">\n",
       "  <thead>\n",
       "    <tr style=\"text-align: right;\">\n",
       "      <th></th>\n",
       "      <th>missing_count</th>\n",
       "    </tr>\n",
       "  </thead>\n",
       "  <tbody>\n",
       "    <tr>\n",
       "      <th>tweets</th>\n",
       "      <td>429</td>\n",
       "    </tr>\n",
       "    <tr>\n",
       "      <th>active_addresses</th>\n",
       "      <td>22</td>\n",
       "    </tr>\n",
       "    <tr>\n",
       "      <th>top100_to_total_percentage</th>\n",
       "      <td>6</td>\n",
       "    </tr>\n",
       "    <tr>\n",
       "      <th>avg_block_time</th>\n",
       "      <td>1</td>\n",
       "    </tr>\n",
       "    <tr>\n",
       "      <th>Date</th>\n",
       "      <td>0</td>\n",
       "    </tr>\n",
       "    <tr>\n",
       "      <th>opening_price</th>\n",
       "      <td>0</td>\n",
       "    </tr>\n",
       "    <tr>\n",
       "      <th>number_of_coins_in_circulation</th>\n",
       "      <td>0</td>\n",
       "    </tr>\n",
       "    <tr>\n",
       "      <th>avg_fee_to_reward</th>\n",
       "      <td>0</td>\n",
       "    </tr>\n",
       "    <tr>\n",
       "      <th>google_trends</th>\n",
       "      <td>0</td>\n",
       "    </tr>\n",
       "    <tr>\n",
       "      <th>median_transaction_value</th>\n",
       "      <td>0</td>\n",
       "    </tr>\n",
       "    <tr>\n",
       "      <th>avg_transaction_value</th>\n",
       "      <td>0</td>\n",
       "    </tr>\n",
       "    <tr>\n",
       "      <th>median_transaction_fees</th>\n",
       "      <td>0</td>\n",
       "    </tr>\n",
       "    <tr>\n",
       "      <th>avg_transaction_fees</th>\n",
       "      <td>0</td>\n",
       "    </tr>\n",
       "    <tr>\n",
       "      <th>sent_coins_in_usd</th>\n",
       "      <td>0</td>\n",
       "    </tr>\n",
       "    <tr>\n",
       "      <th>mining_profitability</th>\n",
       "      <td>0</td>\n",
       "    </tr>\n",
       "    <tr>\n",
       "      <th>avg_hashrate</th>\n",
       "      <td>0</td>\n",
       "    </tr>\n",
       "    <tr>\n",
       "      <th>avg_mining_difficulty</th>\n",
       "      <td>0</td>\n",
       "    </tr>\n",
       "    <tr>\n",
       "      <th>sent_by_adress</th>\n",
       "      <td>0</td>\n",
       "    </tr>\n",
       "    <tr>\n",
       "      <th>avg_block_size</th>\n",
       "      <td>0</td>\n",
       "    </tr>\n",
       "    <tr>\n",
       "      <th>transactions_in_blockchain</th>\n",
       "      <td>0</td>\n",
       "    </tr>\n",
       "    <tr>\n",
       "      <th>closing_price</th>\n",
       "      <td>0</td>\n",
       "    </tr>\n",
       "    <tr>\n",
       "      <th>lowest_price</th>\n",
       "      <td>0</td>\n",
       "    </tr>\n",
       "    <tr>\n",
       "      <th>highest_price</th>\n",
       "      <td>0</td>\n",
       "    </tr>\n",
       "    <tr>\n",
       "      <th>miner_revenue</th>\n",
       "      <td>0</td>\n",
       "    </tr>\n",
       "  </tbody>\n",
       "</table>\n",
       "</div>"
      ],
      "text/plain": [
       "                                missing_count\n",
       "tweets                                    429\n",
       "active_addresses                           22\n",
       "top100_to_total_percentage                  6\n",
       "avg_block_time                              1\n",
       "Date                                        0\n",
       "opening_price                               0\n",
       "number_of_coins_in_circulation              0\n",
       "avg_fee_to_reward                           0\n",
       "google_trends                               0\n",
       "median_transaction_value                    0\n",
       "avg_transaction_value                       0\n",
       "median_transaction_fees                     0\n",
       "avg_transaction_fees                        0\n",
       "sent_coins_in_usd                           0\n",
       "mining_profitability                        0\n",
       "avg_hashrate                                0\n",
       "avg_mining_difficulty                       0\n",
       "sent_by_adress                              0\n",
       "avg_block_size                              0\n",
       "transactions_in_blockchain                  0\n",
       "closing_price                               0\n",
       "lowest_price                                0\n",
       "highest_price                               0\n",
       "miner_revenue                               0"
      ]
     },
     "execution_count": 37,
     "metadata": {},
     "output_type": "execute_result"
    }
   ],
   "source": [
    "missing_values = pd.DataFrame(final_df.isna().sum(),columns=['missing_count'])\n",
    "missing_values.sort_values(by='missing_count',ascending=False)"
   ]
  },
  {
   "cell_type": "markdown",
   "id": "4cb47f8b",
   "metadata": {},
   "source": [
    "### Remove Nan values tweets"
   ]
  },
  {
   "cell_type": "code",
   "execution_count": 38,
   "id": "a736a4cb",
   "metadata": {},
   "outputs": [
    {
     "data": {
      "image/png": "[encoded data removed]",
      "text/plain": [
       "<Figure size 1800x360 with 1 Axes>"
      ]
     },
     "metadata": {
      "needs_background": "light"
     },
     "output_type": "display_data"
    }
   ],
   "source": [
    "final_df['tweets'].fillna(final_df['tweets'].rolling(40, min_periods=1).mean()).bfill().astype(float).plot(x=final_df.index,y='tweets',figsize=(25,5),grid=True)\n",
    "for i in list(final_df.loc[pd.isna(final_df['tweets']), :].index):\n",
    "    plt.axvline(x=i,color='r',alpha=0.1)\n",
    "plt.ylabel('n_tweets')\n",
    "plt.title('Date vs n_tweets(with highlighted imputation)')\n",
    "plt.show()\n",
    "final_df['tweets'] = final_df['tweets'].fillna(final_df['tweets'].rolling(40, min_periods=1).mean()).bfill()"
   ]
  },
  {
   "cell_type": "code",
   "execution_count": 39,
   "id": "f32ad3dc",
   "metadata": {},
   "outputs": [
    {
     "data": {
      "text/html": [
       "<div>\n",
       "<style scoped>\n",
       "    .dataframe tbody tr th:only-of-type {\n",
       "        vertical-align: middle;\n",
       "    }\n",
       "\n",
       "    .dataframe tbody tr th {\n",
       "        vertical-align: top;\n",
       "    }\n",
       "\n",
       "    .dataframe thead th {\n",
       "        text-align: right;\n",
       "    }\n",
       "</style>\n",
       "<table border=\"1\" class=\"dataframe\">\n",
       "  <thead>\n",
       "    <tr style=\"text-align: right;\">\n",
       "      <th></th>\n",
       "      <th>missing_count</th>\n",
       "    </tr>\n",
       "  </thead>\n",
       "  <tbody>\n",
       "    <tr>\n",
       "      <th>active_addresses</th>\n",
       "      <td>22</td>\n",
       "    </tr>\n",
       "    <tr>\n",
       "      <th>top100_to_total_percentage</th>\n",
       "      <td>6</td>\n",
       "    </tr>\n",
       "    <tr>\n",
       "      <th>avg_block_time</th>\n",
       "      <td>1</td>\n",
       "    </tr>\n",
       "    <tr>\n",
       "      <th>tweets</th>\n",
       "      <td>0</td>\n",
       "    </tr>\n",
       "  </tbody>\n",
       "</table>\n",
       "</div>"
      ],
      "text/plain": [
       "                            missing_count\n",
       "active_addresses                       22\n",
       "top100_to_total_percentage              6\n",
       "avg_block_time                          1\n",
       "tweets                                  0"
      ]
     },
     "execution_count": 39,
     "metadata": {},
     "output_type": "execute_result"
    }
   ],
   "source": [
    "missing_values = pd.DataFrame(final_df.isna().sum(),columns=['missing_count'])\n",
    "missing_values.sort_values(by='missing_count',ascending=False)[np.logical_or(missing_values[\"missing_count\"]>0,missing_values.index == \"tweets\")]\n"
   ]
  },
  {
   "cell_type": "markdown",
   "id": "c7860b07",
   "metadata": {},
   "source": [
    "# Pre-processing"
   ]
  },
  {
   "cell_type": "code",
   "execution_count": 40,
   "id": "cd7f854f",
   "metadata": {},
   "outputs": [
    {
     "ename": "NameError",
     "evalue": "name 'bitcoin_prices' is not defined",
     "output_type": "error",
     "traceback": [
      "\u001b[0;31m---------------------------------------------------------------------------\u001b[0m",
      "\u001b[0;31mNameError\u001b[0m                                 Traceback (most recent call last)",
      "\u001b[0;32m<ipython-input-40-9fdc3d26cfbf>\u001b[0m in \u001b[0;36m<module>\u001b[0;34m\u001b[0m\n\u001b[1;32m      1\u001b[0m \u001b[0;31m# shuffled dataset\u001b[0m\u001b[0;34m\u001b[0m\u001b[0;34m\u001b[0m\u001b[0;34m\u001b[0m\u001b[0m\n\u001b[0;32m----> 2\u001b[0;31m \u001b[0mdata_shuffle\u001b[0m \u001b[0;34m=\u001b[0m \u001b[0mbitcoin_prices\u001b[0m\u001b[0;34m.\u001b[0m\u001b[0msample\u001b[0m\u001b[0;34m(\u001b[0m\u001b[0mfrac\u001b[0m \u001b[0;34m=\u001b[0m \u001b[0;36m1\u001b[0m\u001b[0;34m)\u001b[0m\u001b[0;34m\u001b[0m\u001b[0;34m\u001b[0m\u001b[0m\n\u001b[0m\u001b[1;32m      3\u001b[0m \u001b[0;34m\u001b[0m\u001b[0m\n\u001b[1;32m      4\u001b[0m \u001b[0;31m# split ratio test set\u001b[0m\u001b[0;34m\u001b[0m\u001b[0;34m\u001b[0m\u001b[0;34m\u001b[0m\u001b[0m\n\u001b[1;32m      5\u001b[0m \u001b[0mratio\u001b[0m \u001b[0;34m=\u001b[0m \u001b[0mdata_shuffle\u001b[0m\u001b[0;34m.\u001b[0m\u001b[0msize\u001b[0m\u001b[0;34m//\u001b[0m\u001b[0;36m5\u001b[0m  \u001b[0;31m#20%\u001b[0m\u001b[0;34m\u001b[0m\u001b[0;34m\u001b[0m\u001b[0m\n",
      "\u001b[0;31mNameError\u001b[0m: name 'bitcoin_prices' is not defined"
     ]
    }
   ],
   "source": [
    "# shuffled dataset\n",
    "data_shuffle = bitcoin_prices.sample(frac = 1)\n",
    "\n",
    "# split ratio test set\n",
    "ratio = data_shuffle.size//5  #20%\n",
    "\n",
    "training_set = data_shuffle[ratio:]\n",
    "test_set = data_shuffle[:ratio]"
   ]
  },
  {
   "cell_type": "code",
   "execution_count": null,
   "id": "13242092",
   "metadata": {},
   "outputs": [],
   "source": []
  },
  {
   "cell_type": "code",
   "execution_count": null,
   "id": "0887f3c2",
   "metadata": {},
   "outputs": [],
   "source": [
    "from sklearn.model_selection import train_test_split"
   ]
  },
  {
   "cell_type": "markdown",
   "id": "5faa212c",
   "metadata": {},
   "source": [
    "# References \n",
    "\n",
    "### Scrapping \n",
    "https://github.com/rohansawant7978/bitcoin-price-forecasting"
   ]
  },
  {
   "cell_type": "markdown",
   "id": "d1129f11",
   "metadata": {},
   "source": [
    "# TO DO \n",
    "\n",
    "### Scrap data used by the article \n",
    "Check if everything is scrapped\n",
    "Remove NaN values\n",
    "### Preprocess data \n",
    "linear interpolation to have missings cases"
   ]
  },
  {
   "cell_type": "markdown",
   "id": "9cab617c",
   "metadata": {},
   "source": [
    "# Remarks "
   ]
  },
  {
   "cell_type": "markdown",
   "id": "bee508cc",
   "metadata": {},
   "source": [
    "Generally, the missing values are the number of tweets --> difficult to approximate"
   ]
  }
 ],
 "metadata": {
  "kernelspec": {
   "display_name": "Python 3",
   "language": "python",
   "name": "python3"
  },
  "language_info": {
   "codemirror_mode": {
    "name": "ipython",
    "version": 3
   },
   "file_extension": ".py",
   "mimetype": "text/x-python",
   "name": "python",
   "nbconvert_exporter": "python",
   "pygments_lexer": "ipython3",
   "version": "3.8.8"
  }
 },
 "nbformat": 4,
 "nbformat_minor": 5
}
