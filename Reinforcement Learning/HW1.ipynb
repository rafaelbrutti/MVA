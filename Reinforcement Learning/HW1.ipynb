{
 "cells": [
  {
   "cell_type": "markdown",
   "metadata": {
    "id": "IAE8kMxe6E6k"
   },
   "source": [
    "# MVA - Homework 1 - Reinforcement Learning (2021/2022)\n",
    "\n",
    "**Name:** BRUTTI Rafaël"
   ]
  },
  {
   "cell_type": "markdown",
   "metadata": {
    "id": "vY4MH0nU637o"
   },
   "source": [
    "## Instructions\n",
    "\n",
    "* The deadline is **November 12 at 11:59 pm (Paris time).**\n",
    "\n",
    "* By doing this homework you agree to the late day policy, collaboration and misconduct rules reported on [Piazza](https://piazza.com/class/ktmvsc4knke4ia?cid=6).\n",
    "\n",
    "* **Mysterious or unsupported answers will not receive full credit**. A correct answer, unsupported by calculations, explanation, or algebraic work will receive no credit; an incorrect answer supported by substantially correct calculations and explanations might still receive partial credit.\n",
    "\n",
    "* Answers should be provided in **English**."
   ]
  },
  {
   "cell_type": "markdown",
   "metadata": {
    "id": "YB__2uUC5U1r"
   },
   "source": [
    "# Colab setup"
   ]
  },
  {
   "cell_type": "code",
   "execution_count": 1,
   "metadata": {
    "colab": {
     "base_uri": "https://localhost:8080/"
    },
    "id": "2XNj1_VZ2FGJ",
    "outputId": "b5cbc63b-6e0c-4d34-bf7c-afd9b8767cfd"
   },
   "outputs": [
    {
     "name": "stdout",
     "output_type": "stream",
     "text": [
      "Libraries installed, please restart the runtime!\n"
     ]
    }
   ],
   "source": [
    "from IPython import get_ipython\n",
    "\n",
    "if 'google.colab' in str(get_ipython()):\n",
    "  # install rlberry library\n",
    "  !pip install git+https://github.com/rlberry-py/rlberry.git@mva2021#egg=rlberry[default] > /dev/null 2>&1\n",
    "\n",
    "  # install ffmpeg-python for saving videos\n",
    "  !pip install ffmpeg-python > /dev/null 2>&1\n",
    "\n",
    "  # packages required to show video\n",
    "  !pip install pyvirtualdisplay > /dev/null 2>&1\n",
    "  !apt-get install -y xvfb python-opengl ffmpeg > /dev/null 2>&1\n",
    "\n",
    "  print(\"Libraries installed, please restart the runtime!\")\n"
   ]
  },
  {
   "cell_type": "code",
   "execution_count": 2,
   "metadata": {
    "id": "s8F7RiPXjutB"
   },
   "outputs": [],
   "source": [
    "# Create directory for saving videos\n",
    "!mkdir videos > /dev/null 2>&1\n",
    "\n",
    "# Initialize display and import function to show videos\n",
    "import rlberry.colab_utils.display_setup\n",
    "from rlberry.colab_utils.display_setup import show_video"
   ]
  },
  {
   "cell_type": "code",
   "execution_count": 3,
   "metadata": {
    "id": "KISV44N_nCNm"
   },
   "outputs": [],
   "source": [
    "# Useful libraries\n",
    "import numpy as np\n",
    "import matplotlib.pyplot as plt"
   ]
  },
  {
   "cell_type": "markdown",
   "metadata": {
    "id": "L4hKBRTCh6Gk"
   },
   "source": [
    "# Preparation\n",
    "\n",
    "In the coding exercises, you will use a *grid-world* MDP, which is represented in Python using the interface provided by the [Gym](https://gym.openai.com/) library. The cells below show how to interact with this MDP and how to visualize it.\n"
   ]
  },
  {
   "cell_type": "code",
   "execution_count": 4,
   "metadata": {
    "colab": {
     "base_uri": "https://localhost:8080/"
    },
    "id": "514mHDeQooKa",
    "outputId": "80bf38e2-c2a8-440d-d9c2-59934607ea6e"
   },
   "outputs": [
    {
     "name": "stderr",
     "output_type": "stream",
     "text": [
      "[INFO] OpenGL_accelerate module loaded \n",
      "[INFO] Using accelerated ArrayDatatype \n",
      "[INFO] Generating grammar tables from /usr/lib/python3.7/lib2to3/Grammar.txt \n",
      "[INFO] Generating grammar tables from /usr/lib/python3.7/lib2to3/PatternGrammar.txt \n"
     ]
    }
   ],
   "source": [
    "from rlberry.envs import GridWorld\n",
    "\n",
    "def get_env():\n",
    "  \"\"\"Creates an instance of a grid-world MDP.\"\"\"\n",
    "  env = GridWorld(\n",
    "      nrows=5,\n",
    "      ncols=7,\n",
    "      reward_at = {(0, 6):1.0},\n",
    "      walls=((0, 4), (1, 4), (2, 4), (3, 4)),\n",
    "      success_probability=0.9,\n",
    "      terminal_states=((0, 6),)\n",
    "  )\n",
    "  return env\n",
    "\n",
    "def render_policy(env, policy=None, horizon=50):\n",
    "  \"\"\"Visualize a policy in an environment\n",
    "\n",
    "  Args:\n",
    "    env: GridWorld\n",
    "        environment where to run the policy\n",
    "    policy: np.array\n",
    "        matrix mapping states to action (Ns).\n",
    "        If None, runs random policy.\n",
    "    horizon: int\n",
    "        maximum number of timesteps in the environment.\n",
    "  \"\"\"\n",
    "  env.enable_rendering()\n",
    "  state = env.reset()                       # get initial state\n",
    "  for timestep in range(horizon):\n",
    "      if policy is None:\n",
    "        action = env.action_space.sample()  # take random actions\n",
    "      else:\n",
    "        action = policy[state]\n",
    "      next_state, reward, is_terminal, info = env.step(action)\n",
    "      state = next_state\n",
    "      if is_terminal:\n",
    "        break\n",
    "  # save video and clear buffer\n",
    "  env.save_video('./videos/gw.mp4', framerate=5)\n",
    "  env.clear_render_buffer()\n",
    "  env.disable_rendering()\n",
    "  # show video\n",
    "  show_video('./videos/gw.mp4')\n"
   ]
  },
  {
   "cell_type": "code",
   "execution_count": 5,
   "metadata": {
    "colab": {
     "base_uri": "https://localhost:8080/",
     "height": 535
    },
    "id": "hQAHUBw_ifMI",
    "outputId": "f05eeb0a-c09f-4db7-bb32-ee9fff582b04"
   },
   "outputs": [
    {
     "data": {
      "text/html": [
       "<video alt=\"videos/gw.mp4\" autoplay\n",
       "                      loop controls style=\"height: 400px;\">\n",
       "                    <source src=\"data:video/mp4;base64,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\" type=\"video/mp4\" />\n",
       "                 </video>"
      ],
      "text/plain": [
       "<IPython.core.display.HTML object>"
      ]
     },
     "metadata": {},
     "output_type": "display_data"
    },
    {
     "name": "stdout",
     "output_type": "stream",
     "text": [
      "Shape of the reward array = (S, A) = (31, 4)\n",
      "Shape of the transition array = (S, A, S) = (31, 4, 31)\n",
      "Reward at (s, a) = (1, 0): 0.0\n",
      "Prob[s'=2 | s=1, a=0]: 0.04999999999999999\n",
      "Number of states and actions: 31, 4\n",
      "Index of state (1, 0): 6\n",
      "Coordinates of state 5: (0, 6)\n"
     ]
    }
   ],
   "source": [
    "# Create an environment and visualize it\n",
    "env = get_env()\n",
    "render_policy(env)  # visualize random policy\n",
    "\n",
    "# The reward function and transition probabilities can be accessed through\n",
    "# the R and P attributes:\n",
    "print(f\"Shape of the reward array = (S, A) = {env.R.shape}\")\n",
    "print(f\"Shape of the transition array = (S, A, S) = {env.P.shape}\")\n",
    "print(f\"Reward at (s, a) = (1, 0): {env.R[1, 0]}\")\n",
    "print(f\"Prob[s\\'=2 | s=1, a=0]: {env.P[1, 0, 2]}\")\n",
    "print(f\"Number of states and actions: {env.Ns}, {env.Na}\")\n",
    "\n",
    "# The states in the griworld correspond to (row, col) coordinates.\n",
    "# The environment provides a mapping between (row, col) and the index of\n",
    "# each state:\n",
    "print(f\"Index of state (1, 0): {env.coord2index[(1, 0)]}\")\n",
    "print(f\"Coordinates of state 5: {env.index2coord[5]}\")"
   ]
  },
  {
   "cell_type": "markdown",
   "metadata": {
    "id": "ibGD_3I89CNu"
   },
   "source": [
    "# Part 1 - Dynamic Programming"
   ]
  },
  {
   "cell_type": "markdown",
   "metadata": {
    "id": "NR7h5won9NQY"
   },
   "source": [
    "## Question 1.1\n",
    "\n",
    "Consider a general MDP with a discount factor of $\\gamma < 1$. Assume that the horizon is infinite (so there is no termination). A policy $\\pi$ in this MDP\n",
    "induces a value function $V^\\pi$. Suppose an affine transformation is applied to the reward, what is\n",
    "the new value function? Is the optimal policy preserved?\n",
    "\n"
   ]
  },
  {
   "cell_type": "markdown",
   "metadata": {
    "id": "313W4K3B_LtN"
   },
   "source": [
    "### **Answer**\n",
    "\n",
    "Let be $\\pi = (d_t)_{t \\geq 0}$ a policy,  and $V^\\pi$ the induced value function. \n",
    "\n",
    "One can write : $V^{\\pi}(s) = \\mathbb{E}[\\sum_{t = 0}^{\\infty} \\gamma^{t}.r(s_t,d_t(s_t)) \\ \\vert s_0=s \\ ; \\pi \\ ]$\n",
    "\n",
    "<br>\n",
    "\n",
    "Suppose an affine transformation is applied to the reward : \n",
    "\n",
    "$\\forall s \\in S$ and $a \\in \\mathcal{A}$\n",
    "\n",
    "$$r_{affine}(s,a) = A * r(s,a) + b$$\n",
    "\n",
    "Then, \n",
    "\n",
    "$V^{\\pi}_{affine}(s) = \\mathbb{E}[\\sum_{t = 0}^{\\infty} \\gamma^{t}.r_{affine}(s_t,d_t(s_t)) \\ \\vert s_0=s \\ ; \\pi \\ ] \n",
    "= \\mathbb{E}[\\sum_{t = 0}^{\\infty} \\gamma^{t}.( A * r(s_t,d_t(s_t))+ b) \\ \\vert s_0=s \\ ; \\pi \\ ]  \n",
    "= A.\\mathbb{E}[\\sum_{t = 0}^{\\infty} \\gamma^{t}.r(s_t,d_t(s_t)) \\ \\vert s_0=s \\ ; \\pi \\ ] + b.\\mathbb{E}[\\sum_{t = 0}^{\\infty} \\gamma^{t} \\ \\vert s_0=s \\ ; \\pi \\ ]  \n",
    "= A.V^{\\pi}(s) + \\frac{b}{1-\\gamma}$\n",
    "\n",
    "<br>\n",
    "\n",
    "Finally, $$\\boxed{V^{\\pi}_{affine}(s) = A.V^{\\pi}(s) + \\frac{b}{1-\\gamma}}$$\n",
    "\n",
    "<br>\n",
    "\n",
    "Regarding the optimal policy $\\pi^{*}$,\n",
    "\n",
    "For all policy $\\pi$,  \n",
    "$$V^{\\pi^*} \\geq V^{\\pi} \\quad \\text{we have} \\quad V^{\\pi^*}_{affine} \\geq V^{\\pi}_{affine} \\iff A.V^{\\pi^*} + \\frac{b}{1-\\gamma} \\geq A.V^{\\pi} + \\frac{b}{1-\\gamma} \\iff A.(V^{\\pi^*}-V^{\\pi}) \\geq 0 \\iff A \\geq 0$$\n",
    "\n",
    "$\\boxed{ \\text{The optimal policy is preserved if and only if } A \\geq 0 \\ \\ }$"
   ]
  },
  {
   "cell_type": "markdown",
   "metadata": {
    "id": "0uCVgkDo9vTM"
   },
   "source": [
    "## Question 1.2\n",
    "\n",
    "Consider an infinite-horizon $\\gamma$-discounted MDP. We denote by $Q^*$ the $Q$-function of the optimal policy $\\pi^*$. Prove that, for any function $Q(s, a)$ (which is **not** necessarily the value function of a policy), the following inequality holds for any state $s$:\n",
    "\n",
    "$$\n",
    "V^{\\pi_Q}(s) \\geq V^*(s) - \\frac{2}{1-\\gamma}||Q^*-Q||_\\infty,\n",
    "$$\n",
    "\n",
    "where $||Q^*-Q||_\\infty = \\max_{s, a} |Q^*(s, a) - Q(s, a)|$ and $\\pi_Q(s) \\in \\arg\\max_a Q(s, a)$. Can you use this result to show that any policy $\\pi$ such that $\\pi(s) \\in \\arg\\max_a Q^*(s, a)$ is optimal?"
   ]
  },
  {
   "cell_type": "markdown",
   "metadata": {
    "id": "8MqGWPPD_OAI"
   },
   "source": [
    "### **Answer**\n",
    "\n",
    "Using the Bellman Operators, we have :\n",
    "$\\boxed{\\mathcal{T}^{\\pi_Q}V(s) = r(s,\\pi_Q(s)) + \\gamma \\sum_{s'} p(s' \\vert s,\\pi_Q(s))V(s') = Q(s,\\pi_Q(s))}$\n",
    "\n",
    "\n",
    "Applying the fixed point proposition of the Bellman Operators, it follows : \n",
    "$\\boxed{V^{\\pi_Q} = \\mathcal{T}^{\\pi_Q}V^{\\pi_Q}}$\n",
    "\n",
    "For all s,a :\n",
    "\n",
    "$\\vert V^{\\pi_Q}(s) - V^*(s) \\vert = \\left| V^{\\pi_Q}(s) - Q(s, a) + Q(s, a) - Q^{*}(s, \\pi_{Q}(s)) + Q^{*}(s, \\pi_{Q}(s)) - V^*(s) \\right|  \n",
    "\\leq \\vert V^{\\pi_Q}(s) - Q^{*}(s, \\pi_{Q}(s)) \\vert  + \\vert Q^{*}(s, \\pi_{Q}(s)) - Q(s, a) \\vert + \\vert Q(s, a)  - V^*(s)\\vert$\n",
    "\n",
    "<br> \n",
    "$\\boxed{Q^{*}(s, \\pi_{Q}(s)) = r(s,\\pi_{Q}(s)) + \\gamma \\sum_{s'} p(s' \\vert s,\\pi_{Q}(s)) V^{*}(s') = \\mathcal{T}^{\\pi_Q}V^{*}(s)}$\n",
    "\n",
    "Then,  \n",
    "\n",
    "$\\bullet \\ \\vert V^{\\pi_Q}(s) - Q^{*}(s, \\pi_{Q}(s)) \\vert = \\vert \\mathcal{T}^{\\pi_Q}V^{\\pi_Q}(s) - \\mathcal{T}^{\\pi_Q}V^{*}(s) \\vert \\leq ||\\mathcal{T}^{\\pi_Q}V^{\\pi_Q} - \\mathcal{T}^{\\pi_Q}V^{*}||_\\infty \\leq \\gamma ||V^{\\pi_Q} - V^{*}||_\\infty$\n",
    "\n",
    "$\\bullet \\ \\vert Q^{*}(s, \\pi_{Q}(s)) - Q(s, a) \\vert \\leq \\max_{s, a} |Q^*(s, a) - Q(s, a)| = ||Q^*-Q||_\\infty$\n",
    "\n",
    "$\\bullet \\ \\vert Q(s, a)  - V^*(s)\\vert = \\vert Q(s, a)  - Q^{*}(s, \\pi^{*}(s))\\vert \\leq ||Q^*-Q||_\\infty$\n",
    "\n",
    "It follows : \n",
    "\n",
    "$$||V^{\\pi_Q} - V^{*}||_\\infty \\leq \\gamma ||V^{\\pi_Q} - V^{*}||_\\infty + 2||Q^*-Q||_\\infty$$\n",
    "\n",
    "$$||V^{\\pi_Q} - V^{*}||_\\infty \\leq  \\frac{2}{1-\\gamma}||Q^*-Q||_\\infty$$\n",
    "\n",
    "and $$V^{\\pi_Q}(s) - V^{*}(s) \\geq \\frac{-2}{1-\\gamma}||Q^*-Q||_\\infty$$\n",
    "\n",
    "Finally, \n",
    "$$\\boxed{V^{\\pi_Q}(s) \\geq V^{*}(s) - \\frac{2}{1-\\gamma}||Q^*-Q||_\\infty}$$"
   ]
  },
  {
   "cell_type": "markdown",
   "metadata": {
    "id": "yIrtb7sihYcM"
   },
   "source": [
    "## Question 1.3\n",
    "\n",
    "In this question, you will implement and compare the policy and value iteration algorithms for a finite MDP. \n",
    "\n",
    "Complete the functions `policy_evaluation`, `policy_iteration` and `value_iteration` below.\n",
    "\n",
    "\n",
    "Compare value iteration and policy iteration. Highlight pros and cons of each method."
   ]
  },
  {
   "cell_type": "markdown",
   "metadata": {
    "id": "GLmQtk-wt0HS"
   },
   "source": [
    "### **Answer**\n",
    "\n",
    "In the course, there is the following summary: \n",
    "\n",
    "## Value Iteration\n",
    "\n",
    "**Pros**: each iteration is very computationally efficient. \n",
    "\n",
    "**Cons**: convergence is only asymptotic.\n",
    "\n",
    "\n",
    "## Policy Iteration\n",
    "**Pros**: converge in a finite number of iterations (often small in practice).\n",
    "\n",
    "**Cons**: each iteration requires a full policy evaluation and it might be expensive.\n",
    "\n",
    "<br>\n",
    "\n",
    "Here, the value iteration method converges in about 1200 iterations while the policy iteration method converges in only 5 iterations. However, in terms of computation time, the policy iteration is only 10 times better than the value iteration. This shows the fact that each step requires a complete evaluation of the policy, which can be costly. Finally, the policy iteration gives an exact result whereas the value iteration does not converge when I set tol to 0.\n"
   ]
  },
  {
   "cell_type": "code",
   "execution_count": 6,
   "metadata": {
    "id": "9yI0YYtMmpDQ"
   },
   "outputs": [],
   "source": [
    "def policy_evaluation(P, R, policy, gamma=0.9, tol=1e-2):\n",
    "    \"\"\"\n",
    "    Args:\n",
    "        P: np.array\n",
    "            transition matrix (NsxNaxNs)\n",
    "        R: np.array\n",
    "            reward matrix (NsxNa)\n",
    "        policy: np.array\n",
    "            matrix mapping states to action (Ns)\n",
    "        gamma: float\n",
    "            discount factor\n",
    "        tol: float\n",
    "            precision of the solution\n",
    "    Return:\n",
    "        value_function: np.array\n",
    "            The value function of the given policy\n",
    "    \"\"\"\n",
    "    Ns, Na = R.shape\n",
    "    value_function = np.zeros(Ns)\n",
    "\n",
    "    # Direct computation (tol = 0)\n",
    "    if(tol == 0):\n",
    "      R_pi =  np.zeros(Ns)\n",
    "      P_pi =  np.zeros((Ns,Ns))\n",
    "      for s in range(Ns):\n",
    "        R_pi[s] = R[s,policy[s]]\n",
    "        P_pi[s,:] = P[s,policy[s],:]\n",
    "      \n",
    "      return np.linalg.inv(np.eye(Ns) - gamma*P_pi) @ R_pi\n",
    "      \n",
    "    # Iterative policy evaluation (tol>0)\n",
    "    while True : \n",
    "      value = value_function.copy()\n",
    "\n",
    "      for s in range(Ns):\n",
    "        value_function[s] = R[s,policy[s]] + gamma*P[s,policy[s],:]@value_function\n",
    "  \n",
    "      # Stopping criterion\n",
    "      if (max(abs(value_function-value))<tol): \n",
    "        break\n",
    "  \n",
    "    return value_function  "
   ]
  },
  {
   "cell_type": "code",
   "execution_count": 7,
   "metadata": {
    "id": "ncqbPx99ncVY"
   },
   "outputs": [],
   "source": [
    "def policy_iteration(P, R, gamma=0.9, tol=1e-3):\n",
    "    \"\"\"\n",
    "    Args:\n",
    "        P: np.array\n",
    "            transition matrix (NsxNaxNs)\n",
    "        R: np.array\n",
    "            reward matrix (NsxNa)\n",
    "        gamma: float\n",
    "            discount factor\n",
    "        tol: float\n",
    "            precision of the solution\n",
    "    Return:\n",
    "        policy: np.array\n",
    "            the final policy\n",
    "        V: np.array\n",
    "            the value function associated to the final policy\n",
    "    \"\"\"\n",
    "    Ns, Na = R.shape\n",
    "    V = np.zeros(Ns)\n",
    "    policy = np.ones(Ns, dtype=np.int)\n",
    "    \n",
    "    # Counting the number of iterations\n",
    "    nb_iter = 0  \n",
    "\n",
    "    while True : \n",
    "      nb_iter += 1\n",
    "      value = V.copy()\n",
    "\n",
    "      # Policy evaluation with direct computation (tol = 0)\n",
    "      # or with iterative policy evaluation (tol>0)\n",
    "      V = policy_evaluation(P, R, policy, gamma, tol)\n",
    "\n",
    "      # Compute the greedy policy\n",
    "      policy = np.argmax(R + gamma*P@V, axis = 1)\n",
    "\n",
    "      # Stopping criterion (convergence is guaranteed)\n",
    "      if ((V==value).all()):\n",
    "        break\n",
    "    \n",
    "    # Used for comparison of methods\n",
    "    print(\"\\n Policy iteration converges in\", nb_iter, \"iterations\")\n",
    "\n",
    "    return policy, V"
   ]
  },
  {
   "cell_type": "code",
   "execution_count": 8,
   "metadata": {
    "id": "3jB7dfA5nRCZ"
   },
   "outputs": [],
   "source": [
    "def value_iteration(P, R, gamma=0.9, tol=1e-3):\n",
    "    \"\"\"\n",
    "    Args:\n",
    "        P: np.array\n",
    "            transition matrix (NsxNaxNs)\n",
    "        R: np.array\n",
    "            reward matrix (NsxNa)\n",
    "        gamma: float\n",
    "            discount factor\n",
    "        tol: float\n",
    "            precision of the solution\n",
    "    Return:\n",
    "        Q: final Q-function (at iteration n)\n",
    "        greedy_policy: greedy policy wrt Qn\n",
    "        Qfs: all Q-functions generated by the algorithm (for visualization)\n",
    "    \"\"\"\n",
    "    Ns, Na = R.shape\n",
    "    Q = np.zeros((Ns, Na))\n",
    "    Qfs = [Q]\n",
    "    V = np.zeros(Ns)\n",
    "    \n",
    "    while True:\n",
    "\n",
    "      Q = R + gamma*P@V\n",
    "      value = V.copy()\n",
    "      V = np.max(Q, axis = 1)\n",
    "      Qfs.append(Q)\n",
    "      \n",
    "      # Stopping criterion (asymptotic convergence)\n",
    "      if (max(abs(V-value)) < tol):\n",
    "        break\n",
    "\n",
    "    greedy_policy = np.argmax(Q, axis=1)\n",
    "    \n",
    "    return Q, greedy_policy, Qfs"
   ]
  },
  {
   "cell_type": "markdown",
   "metadata": {
    "id": "-Fi0IzZJp74Z"
   },
   "source": [
    "### Testing your code"
   ]
  },
  {
   "cell_type": "code",
   "execution_count": 9,
   "metadata": {
    "colab": {
     "base_uri": "https://localhost:8080/",
     "height": 1000
    },
    "id": "P7JKrc1oqFI2",
    "outputId": "9b65f082-99dc-4d86-b5eb-518803cfb29e"
   },
   "outputs": [
    {
     "name": "stdout",
     "output_type": "stream",
     "text": [
      "[VI]Greedy policy: \n"
     ]
    },
    {
     "data": {
      "text/html": [
       "<video alt=\"videos/gw.mp4\" autoplay\n",
       "                      loop controls style=\"height: 400px;\">\n",
       "                    <source src=\"data:video/mp4;base64,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\" type=\"video/mp4\" />\n",
       "                 </video>"
      ],
      "text/plain": [
       "<IPython.core.display.HTML object>"
      ]
     },
     "metadata": {},
     "output_type": "display_data"
    },
    {
     "name": "stdout",
     "output_type": "stream",
     "text": [
      "\n",
      " Policy iteration converges in 5 iterations\n",
      "\n",
      "[PI]final policy: \n"
     ]
    },
    {
     "data": {
      "text/html": [
       "<video alt=\"videos/gw.mp4\" autoplay\n",
       "                      loop controls style=\"height: 400px;\">\n",
       "                    <source src=\"data:video/mp4;base64,AAAAIGZ0eXBpc29tAAACAGlzb21pc28yYXZjMW1wNDEAAAAIZnJlZQAAKndtZGF0AAACrQYF//+p3EXpvebZSLeWLNgg2SPu73gyNjQgLSBjb3JlIDE1MiByMjg1NCBlOWE1OTAzIC0gSC4yNjQvTVBFRy00IEFWQyBjb2RlYyAtIENvcHlsZWZ0IDIwMDMtMjAxNyAtIGh0dHA6Ly93d3cudmlkZW9sYW4ub3JnL3gyNjQuaHRtbCAtIG9wdGlvbnM6IGNhYmFjPTEgcmVmPTMgZGVibG9jaz0xOjA6MCBhbmFseXNlPTB4MzoweDExMyBtZT1oZXggc3VibWU9NyBwc3k9MSBwc3lfcmQ9MS4wMDowLjAwIG1peGVkX3JlZj0xIG1lX3JhbmdlPTE2IGNocm9tYV9tZT0xIHRyZWxsaXM9MSA4eDhkY3Q9MSBjcW09MCBkZWFkem9uZT0yMSwxMSBmYXN0X3Bza2lwPTEgY2hyb21hX3FwX29mZnNldD0tMiB0aHJlYWRzPTMgbG9va2FoZWFkX3RocmVhZHM9MSBzbGljZWRfdGhyZWFkcz0wIG5yPTAgZGVjaW1hdGU9MSBpbnRlcmxhY2VkPTAgYmx1cmF5X2NvbXBhdD0wIGNvbnN0cmFpbmVkX2ludHJhPTAgYmZyYW1lcz0zIGJfcHlyYW1pZD0yIGJfYWRhcHQ9MSBiX2JpYXM9MCBkaXJlY3Q9MSB3ZWlnaHRiPTEgb3Blbl9nb3A9MCB3ZWlnaHRwPTIga2V5aW50PTI1MCBrZXlpbnRfbWluPTUgc2NlbmVjdXQ9NDAgaW50cmFfcmVmcmVzaD0wIHJjX2xvb2thaGVhZD00MCByYz1jcmYgbWJ0cmVlPTEgY3JmPTIzLjAgcWNvbXA9MC42MCBxcG1pbj0wIHFwbWF4PTY5IHFwc3RlcD00IGlwX3JhdGlvPTEuNDAgYXE9MToxLjAwAIAAAAWmZYiEADv//vBuvgU0apUrs/o0E9i+dz9TQG5F3NmgpKyheVSoEmNHtAAAAwAAAwAAAwAAMy8zs8NKhCktnQEG2KD6AAADAAADABNhYsAABmQF0AkoEvt2q3NJKSAae37PS2MXt2yuMZzCfaiAJUAo/mnb60fe5WEUE618ti1b0iO7j/4A7jOz1ys9WHaltMaTbCXlZjW2HHEhtG1AED3CrLq22kc/318u7ztZRFZdrICz2ZaEIgjWYA8SIFcV9AUJyDRXQ9W78Bz4KiEdewXtfQY1fwZBgQaRgwbmngheoAi2ogiwdg+tTBIw/B+6oCbCCER1YFBEMIeIoRMSD+wu/kBuq/mTFs9/E0o2/ifeapvQpDBlh81vxnPXHNgK9CF0iN4IV09IePTAYsTO1p/ie3Rme8DkFL912cuZtOsVR4WxgwbAN7TSKl+J8S+fOWgUKx3PxXm4m5862uUoaHrZ3epkpx8CouTNTCOfyn1VDdqnDXPJdSCkJTUp+yhAEhgIOtWGKgqXr2O4ooXB3mEut4Qbs2fZrzNvl4SK3FaaOxMotL/0hI/8hoXXCDN3Dt45U4myfVEo56aY4M1E+HFyfsbcPA9+aJQqtuf3OMvCHSF5YjZuIroh7sYJrqLTSmsxe939n8M5C4dv8f1/KqQDUIbYpTyTG60dRtdDKJI4W6izNOFRqwXlAdvaMLCSkYfDCn9tYJhMDwZSJY/+vd85xDjHvd1KjtJNF5DQL2UiwqZlBRrvaQtBF/DMgY67oAOLt+sPmnLBUO39+aNRDXOyXwh7AcrmudxQov4f2fDc7Doi9Z5yAKJ3I8XLPvTByAHu2lHGxH7ooAjg02k3ROHCye3Rj08VoxZxcvP69loSAKivHQ/6nCr9BzypKlQTNFraVPEDE3UPEuHFBsuNm9otrveZhzyHgd0sXbaVvF4QGLgTHItyBN1mVl7VIMsTuRLLyi6ACQQA74pReae/i+5iszLt2cCcmaTmNYt7Ht27xOASakddx3Flk7fPtr2VGCor8sR0B1dpSsgvPbLDZieJRP/qF29zK7KjBWazNovU+0jc4kxualnH/hQsFlbO+SZRnpAyvPqtsxnUV5wuVO21CE+Vqsv0VHZqynjUTpVmK74pOJgVCg6DrkK7at07PKQSM+2Qy+vgrWjpN9ArTA0RRC0DdgKgug68uF+m3N64K0e+w8Bzy1BTGUSkMbexFm5kobFYKV/ZM49v5YV8tu5W1uRcHgzYdSNwAJnizSBouql/KavZL9+q7vTNwZrk9ix+9aFqrfeIovB09AzTKbPiR2m67l/ocVci16mgIhWJUnDDZhXfmsdNM4Y+KqbfASMQ1U5HcGClcLdSszTwiwAFB80hmnR3kiQudqGFr0Q8hrYLHKZybBgHdLYB2BOZ+bAYxvyXi0kdRrOTZIuLQwUSMKevk3mmDl+pPhdxzebseLz7l5AtiPluBoVJcMBIm+lQbeyQAiQMYan3poiIYHhDNa5avEc2f/FMBpQb5f3BsMErjJS/nDaa94sQsXHRCBpFXdB2hz4b/Z1w+lcn4d6CIGcUQ8tnrk9JeI6XtUz5cVlC2aAUju9CJQvX0Wq812JzpEC4f/Bctjld0kbFH/Uv7ro17cR87eTFVzN9U5yHisJdCF1Cjff6lirNcN4XzdWKKoPb+GoGgCjF+AYqP/pDrkBzIz2FQ0/5WDV66MQeY25zOv3O0ADgJcqRWYfJaKZy/NAkW7uJdpvyw1mIWzhPUg9e4UhPgRMsMYFTnsCtzzV+8/7kwca3+WQUJWVYTu6TwAT9NDaraOKjYCQKTiQY4zvvRgi2m2FakFV5xZ4gI49N2BXgtOpVjtX4bTq+TEr7UN/7bUag6cZyjOVSPjJYH1K1O/+QZa/w21AoumKfHuTmbGzlBzFbHWAAcqzJ5kZVKlE3hEOXAAACVUGaIWxDv/6plgAAAwAAAwAAmCvygB0rT4Nt17NO1N1aAUvuAaLPZQ1Li+KoNC2ntni75lEcgyk5FaZx17bVgj0fQnV5hXyoe0ZVGOEuUY0Ujpi3idpDH31fjlsbqpEqAffw2dY0brRNQpJtRwiblXG7CzG9mu3n9V2B174oshskCE0hTmyZV40o8Zy+VGTPT5LR9ECJaCjps/2nfdvppiwv/mFCJoHbK6niXumdrMxmEHvDIk4tMRcBY3/Aj4MIshOAQ5wX1btyVEVjCHVyqhl90WHgapAX0d7DFT7k8G+s1tsAkCw+b0wbzckXKjYs0/s9ShDWqNsrA9WcTLtaquKAsnKSGVuy+QKEuYIDeabCEWPPTcQ2e8NZx0oYebF+9Tvy7HBNztA0n9RieWYDZy45gAXo6IzuJd4H1m3M/LrA6gAlPPLC3lMp/T2/m2uLAOnXNMu+XbMt0zyIAtcOLfrJ3iTyvwi4eNe4K53HWlUTFcB8BO8QpKy3MlXMfzXqxrb19RVo1zbghJQ5ney1bk7ZzD4fjqhds1nFU5ADvfy8NxZlNjklmFtn1a142F/dA7VmqC/uT8e+51uexDLASARMLLq3uQTHGGoN+zQF9FfWNuwpDfFlw08WJgPc4y4txFyOx2lUJiBU6xsaGrCGUFmLjheWbn5321EGgYgnWQZEjmmKeyFQ0lWMb39KQJ84Sei6fNti5BOSeQiStYFT9PZPDDihyycsB4DlgjYy7G1bnVD6RhHHeFBdIxgE6jI08L+MX5NIpsm1uOAPOptxCbksr9tQjAAAAkdBmkI8IZMphDv//qmWAAADAAASnlf4OXEnQBEIXqm07Mnht13DXRxuuhHAG9UYMvwmBU90TV4M7Va+K9DnwbknkRgv2oGETVt3OfKD+8f6TObxT+agJLQATaB6AqHP7HEyeHPW2bQDuw1ktGXDlnzQ/VSOV+kkp6jwiA0ZldcHgdUVxn5THZaeNhGtH/RADIVuoxRkPjFsnpFzbEvaAuodR1YZgdh9nscG+MUvbiBepm1/1lNNLF6qn7aKvII2i0rtafJDGExavrn6wJYtnqjAqtOvX1iguJQbh/QaYXIhiaUuRTRFx8TfgUgD3+Y1Jv3A3P9EiIgrwxQFVikX+ewhfvhdBDgwuIzB1vvok78iPXIXnVgeFXDOubXbJufkNzfrSd4ByRKH1lszJ8xPVoaSuZhvTlpoP2HL+/ByVX8v3RqZMWP1keTTcrnptKbIz2ZKIwoDCZvsr2Bdd5sGd8ZAP8sOYX90Vk7E4c/OGbxgkYCeofsB8zilUjH0Sk3LhymyOrNOyVPQt6PzgcUAbl+uBMrA1hfx/tapC1JGjOh3xctHoHjYO1GgqLuksZN/v5qilvnE1t9q89/LVyqUkGOJgOLRqI7kcv6+NojBOLlZ2N5yK3wnLt9kk+ckw2DKrdLLs7H1Bwhvze+9neTQYii4JFLsren/xN1Y9HjfiKHCbf0h6OA2sT6QfPjanEhwPgcjom0WmwfqkKV/FP4S5MVI1EXQ/+xvA+mjoFhMpIKsXrJSvNoVv1/Ax/JdbsriPwGwkSqhjAHXAAACKUGaY0nhDyZTAh3//qmWAAAHzMUUAbZBpXIcgC3t8edbNTitnZwoaH5Nt/4OIVjkCorDFzMQat79Nzr3uiCf+D0P4MfySIN5RXuOzj8dvbxcQROWAifLYSJlY124yfwwVC4ZJcVAwq/M1q51Xy5T2lBMp2m/+WMdLwjm207ZnQ5795dEBi0wDJxWVfUD0n21I7G0+JDnQ1CSVudHc7anxAf4EiiejbdiZLULXPPv/a+xQAvX7RcSbNnvN16aHmfrwzAS+94LkEdz2VL8Ja67SkgAQp5SotaNtTj5l65/eucQN/gKHT/JhCMoxh0Pk5tYst3JXAE+oJO4M6oT412TxGFVD9lBungnsQNXAgfn6r18cPjR0+fhtk7MY6lxZW8seVRzn/cAD0UC/GVjHED+/9ZSqyE82Dod+4w+WQLuUhIRe3ps0SkKcQS5A17am1anQQz8yMwKD/YOQ8uUDVBlSYMJxY6xeg1WwKVFKPUDUCI3050/MbXEPCpG7B9LqGqSXeVHcfnRf2PE1SQXW93J2Dgks8Mgcr2AV2+cenSbtwcg+KX2vV9qCL7d3iQTpJ9Ec2jXaNT9pxkL8g66XZYu99RHdJMrimxU5oI4h9bdbJSriuHNlM7hQ2LBfGXZGC0bXN5plVUR+g4KmvRWl5Va9JjRaPG3oQ76Zn1LLcC8x8GmZorfs31s9hcONLqbpERnioOyEYJbon7CdrrKuEQDyBoDtZZdQAAAYEAAAAJJQZqESeEPJlMCHf/+qZYAAAfX24H/TsPEgWAg0rkBwG2kGyBvA59MxgAx53hViw+ESQhg7MiL2DIrrbEH6ChQsQh2FFEJSF5cXuzKibmM8NPPhVJVkV6HMxjx/u/8nu2Zgj9NBoVKcvRJndgQnv7E1kLsY2X/4Kw20V2akWNzp8lhSZBdc7jKFkIyjdoEsqL5qy/Hgh7N+aHVX6ugEjh4U55wLaumAFxqk/4Sw2S7vwpxfGQgbIPkGspfy+VxwNWNVJtwTlVDMMSWttYFnJLSqo/ydNPo5lSAKLGMyDNVf96aBZ5G/qniihqSKvACM3D8qGD+viSP5cKoullckvst0ZX8SL3umtJYuDKG5lpKYsbRxlp5UAXrfWoR2bPYAZFz3mZZAkJn78GQ80MAQs6s8vPKHObD+x00wrkY7mv1r4sG85BrG0Ld5YDNMd78LdwzE/qL79KGSSOIUfYzjRR67lFbraALu3aq1qDR2R1BBZXdiyTjxzKY8hKlar6hXXnU6adJOp4plx2lUgNTSavDfhNfqnaR+adyJs7aw87tuV+q6m6N/miHLK6hini8P+radMWaexasxpx7nJsb8vB/KP6w3QtgknBbhihIxg8o0Q+OG83z3H19vaRaakC0Sy9QzYH9VkCbBoG30yyLjsHRhXcQRDyjwwgKET9zvIZabm3iHAbgYG+8WQMAnmW3kGCvyyvb8YsyF4M2t4EOh3d1gVBzb4P+BJaLPoMGAgFC16amV8V4kGhz6ECG6aCrXHZoGAlAAAADAAE7AAACS0GapUnhDyZTAh3//qmWAAAGq9uB/07DxIFhIYlchyALe3x51s1FRqMA2xoDJiw+ESPsOE0O3j64ihYN4YqzbCfvph3BszX8GJMmkviqDQqTtSFN/yEfVtiB7h3WOWo13h6qqId/TRFT9o1gn1x84Ealo3/xbjfUG/597IXU3aYaRDwYvsLsW0n931Ap1ZK8vevS5mFHkU11H9zPITGNgh8YyzonYEz1HJd/QpTXR8BfeLM3caHxpKZTK8L3FWKV4Yal0XiNuL99uOdEejmMT78FknLTcRtU+/Cjfn/FmjVKPnWbJT5A4eiv917I1zO/nfrOlRMMVcb7EXtOM20yW8e5MvuG6eZhbuJIq0nASK1A9XQB7VO0XxcP0AF2OBWgFvbp6RVYv4f2RaCIxoPyQUDXmQZkpWxlNk6wGT5KwnpvZeu4jMh79c/j3IJIRMkoOLH5kKVEV5/8Ap9ZO1idMpPlgAH3A6jXjWMnjO33q/l7YYjeBNg+aQ97svG8dw0qXVEZ/Izb+CEA3WqNQG7zFrEVb7tbEZuoXwhPNc3pVZVFzTO7gpAHY1cl4tlZ7sFs9ot7CbIaUf/FA8dTNQhdJYBEko3A9zNKqn7/9oCgZeDUHPp+uez5cErjcVrobF4WSSWhz/t3DfYw2+rKAP7wAThHj62OMUmt1Ko9ABgsZ1Sgs4SkX7gWmaFmYwqIt7onmoxqB917LbQtP8v3YbsdAj/4XdyVUCjW2LXzM2LhP6J6czIZo9oAOqg/lBrVk6426RWKtIrkAAADAAEzAAACOkGaxknhDyZTAh3//qmWALHs/4KNfcAVqu9U2q0ZEfQOn/PENTtU3MMegp5sGi5jPCawZHvdGjXjCHD+mdcp3J7A6Hbe2TQwh6m69wVsWY30L89doeDYS7iVUOqMQ7bq3WMo0YzIwz8qzRjg1r5I86oRvSMmZsM2EfdZdZRZ8gmFWhIhMvXphJVlswyli9wnPOSvAQ6r32MUgUlTQZcraf3TzxsfW3JpdEjzeMxOFt7VMpB6QMbvqCo2+pSXXCxKUqsCSdfk63LfdwQbKF8QofQSvnOPqz+z1lOspNhynGKaijDQNcuLsk0NEqJCfZKr3kECbfTScaFO38oRzy3IOkrflmweOhj9oRJ0CZ+FySFga4yARBJ0MfI0Ey9mRTzoA+cvbqkXPHvtE3WiqY+9NWeC9huWwNRVLtji6ouf0y5LdtKTyXb3NMTga2C9H0fax91KGgL7l1BGL91W4K0e7gKKrDwKg9/ngvrlCPWHMoFqLrAyUMIOQXzDvBlugon4akTfutzMAfsTeNprCpcswwnLkJ95JukUZU5wawaJWr2d8vDVqadrApzDdeX1X1lh/j0cSrsX9xyB5U+HrKZXEkxBaW54ljkuiJvXX94EF+MCuWTQilmulZYkbfVmdBVwPH21w/P0U6XQJpS+Ms7Jk+lveKH8CxIxF+9KpdLVTGVu/cKuECIu9UCwwTmtFeezt0EXwac5duDT/9sQdWmlW3m+9D+WXQky4YAkomjDukClkI1hAAADAAAR8QAAAmhBmudJ4Q8mUwId//6plgCx+3A/v8+qseJAeMdmJBt50aepurQCl9wDRZ7KGpcXxVBoVtn3gX9b+3bBZ25A4Rpaskl8HChgY1lSFqtbBBJJBV9p5jCbVnH9srXRx8OrzqJPy3xTlNkmXosRjc8zqNkE5S1G67mKmEpjjBPJ/3z8nOKNDya3w60t2ODX7IEC8lDwn9fqNOU74JPxHzGWSR1Dp73e/HRk6/OSgTOHEfgBSEpjAFb08o3XsVknLAVMlNEkL9bg8QuvLl8EivldPVE7nqQ/Ia8xvmSCrnSOcowZVNN5jIR5rGLRCEpIQr0jcxF3DrUm6ABK5KW3X7dSj+kx152kZMdEwnzoSMhUUnoAJ0589hHrYcMmX5JAUDUGRLyMkKo3MLV7tcpy1Etmu61Q6SijCnHlNgARLyrlFx5GyDW8+kac05lG2PECwU2DraS19VCwuyl70AD7iwZwpKYfZdWqK3kB1ueqkkYbifb+6AJWqmC/ScIqmSvyNQqJbk1jb/oVXNU/femnH4UtT5c83nq3vlkvV8yP5brGr2gZknNwvKKtO+E77yg2zzmU4rIATtiFWgCYNqEbDYIfq1TshcT83TlE91SIa1M/mZSF3soExI6IOIQ5JP6CCKpBvMG7UWw5eJofvDMjRz31IOTDzPkziqh6I7UOqEeIAE9DROz7Jgt6iVgosiqA3RVXH1o26gDbecT/LfYlCA9X7p/jaw36fZVegF77W2TPIxO9OMB5gKyIwjvSZ8mG5GaeCMKx6G6j63ENZE+w7Z/eaweq3VoYdnQnduZtgeIF3+dQAAADAAADAAm5AAACNUGbCEnhDyZTAh3//qmWAJD8lGg/z67y7gDtXQC+4OA20g2QN4GtilGBBzw/z/ZOsFuo9UANP1jGQ/O8Y8AnuR+abaqQlGCM6vTmjTojBNxDpqcpLSBiUp5kkX35JALv3GdSGRTePp6f3yLi7FuSnohLdKy+z8PiuAy6C+z9pl5wp64Fyw1Gjc5qXlx5ZHxqs/9sGusKMdT+3cqwrXPP+z/5RbYF2Y0fSD9KH7w6ZUZ0DSZmQO2ezpDIJAtvLwXPbNnHaTIi7Cw5ZrQJEPhiOB/142HaH++b3B69EsRwOBFFaK/WkbhWp2miE1j7nlGFhfnGVd1vqcunp3x6uyG06bAmh/QFV4HsaMyIi8iacFlXUJ/vWur777KPrZbeKIP0SYrGSEuQbLCYpKgsTyc1IOeMk5BruheRD1DCDeKDsWOaWXZ/T6pMLXnxjqr5yf0LF9EEUMc4Q3y0ob/F5mI/VQBscD+ImxWdOGuScyyVMyIYkF3z8HH4Aa3MUNMwo+LJvzq4gjfTZ1r72bWyMGO4advINwk9I34yqAk1RcdpRVDYLHwH7y3RIzaThDU7rd44lEnFuWK5Idu+b1QaOG+eEP4VDMSDwJXhRwWyOSRj46xOtVuhgCRipjmBCFS3q1NNdmLaeVUpVdZLntvJHzMcYfH9jKPhv+6g0zvC4joqxqnFKZU9aCdwmoo8/DvnRAOp5Zbri8yEg2tpsihU7vwG4J4rYFqGbHqykWy3pkAAAAMAAAMA4IAAAAIjQZspSeEPJlMCHf/+qZYAd/24H9/n04hK4A+FBlEoW/DBGfjNClyd7vX5w/QVFHsBjL+cvmo9/+ZWUb53/9B2n/zW910Bym4WRYJyEkPtTnDKGJUj4c5c0EF0WyEYuqd0UjoBqbOCqWZ77CQxsoJJrvxmfVd93gm4uOsqwsWu+j60MoxSFxkrIHPg5+v0Z4V2DYOijwA5gnF/oh3Yi2lCV8GdFWx8XHRT5KCYzCLifDwM8KDAiGEuhl5tMeyTqb5qO4NxDoAxKyt9drjtwFGaX01rBEusKc4stun7v+ORzs4ddhBji/i6qrp3y8NQ17Ec1cXX/zqdaS+mW+1zmZzgK21sLAPijWKORygYAPbrok18n5e0ZaWOEYQU7ApRit4aMFvcwLUoqV89s8dleFMXgoU427YJzsEdKuQGsTWio5lJ79zXda17vScxZUnQKXKF0afL2l5wpAAjVqUU88Rk2ldgvKeokH5PG5/A0IIXSsVaAvFLg4a1c6k2CzFlHjhBo+68rhWg+xnR5MxVTxcFCL/aRBTlhYX7cN73PDNeac9QYjgZGAm8Rp/rXc3X5keBb2p2kiWb2OMBdk/Ct9gai4w62yCRMsdaKc+2AmhHFOAFi2NRe95IZsaP5VyeA49elG8klSa0NrgyOmf2Ki+7uPxoBKwOmIc9Ugn6WCoH4GjlakS6IgEBcYCb6DXM9aRJn478WdynABOkIAAAAwAAAwAl4AAAAlVBm0pJ4Q8mUwId//6plgBjPbQcwsPg+/+xKmymYK9mX50mQNmp0LVCx2VlU48Am8A3CGJXGLENOLqMfQD5iWYAMkjpLfDONowkULBlMegeefA+2/rbRdzVg9EDVgZvhrc+jOlc59AVCJtmQyd0n+P8/2SKznJAypA8ECFW/T2TRE69scllMzFej17P8NWS6wrMIdgXq/x4g+E8p5wYh+AsCMi5BTUfzwshQ4/UwqAvSuaJYDBHJT/9xZ+o5P5QOJEjQxRr7fIaPqSqucGeIt5Y7FFAd8w0FHUCTxB21H+adDQ0aGqUOAW4JN5XqaCBd+oH3iqbjQBj/1bZbz9WWu98mYrL2oLE1ACBzEVbKofx4L2aoLB+ellGendz3SHRlPaCcILNlNL+undniinderrmDjRZ+s1mf9QARceGopupiTvBQWUjR70HnTv+IDS7xO/In1Qga/LQXXFK+eVpTCTyU5uoDET2JKhO/+MAMPTdHu/VZqTwD/nec0pj1krZp9lhSdOzjJWQ1AvKw+o8AwMeTINBhEHCeahF7eLdK8TTT84q8PqU6XNTbWvgm7MxWzUHoVqvSIKYrvl91FA29lA1V4Kfth3P697xEPBpbYfis2JgzmFVYIy2xV4O0/dYXnnTYkSorl6/TwjRrf75DI5mv3agRhzTl32BDLKSMh4+S36BI6aYeG3LyXWBTMQlq+3aYS/TIzce8ZJcht8hJXLXwVgTxipYT+7lXVeXAjcxz5SwiOEGNJK6SIhfEeNAthn8EY6jznkp18SQAAAEWmHbssewdUEAAAIzQZtrSeEPJlMCHf/+qZYAAAMDLe3D/J912CcNdSPm9lt/ymNQi0CMQB8bzZwv8WMA0pwAs66AX2TsyeG3Xle9tiEFqu57eIkJ+czFdCtHUHq4L7ZgJVC+hVYDYzExMGp5r507BsvPxgk6I1fG1junZnWfMUOTEw+Dp6Mov1WHzE6Kb6JS1QO033/hdhiWiIeu4LiMMMGWunjlvq4qKmAnCJfRPwEnVYWD8Vlk19lOkWSD7seOCp10V5L4Co/U6uTuXPzlSEfZ8c+idq0fpO+0lfQIMhGdEOGKppn7IjZLUCXWdMWpv+Lf+V90286nVIVKLCnLtkLCd/Hh9vK5MNgH3qjhilQQObymwE47IhI2kHUGUHmWgB6mD7mSa0QBMiPyieXUJlMQAvLTBEplQYLt2eQSS0Oi/41Y/mH8XR8V5jxefrv7gncqO0Vhw7E8PZK3BJgN5XvbwjqDAuLFDrLBMF35aAbty0ELyYqWI6V1y/uRcOfQExft+8b3HAGiF2WlqtIYEFMLe7PI3L1SCv/xgomHEk1/2KcfIfQULoGwEeyVE+5dU2kzuvwp7SVTg2r25odhRQfwJBWYR4mR12Of4rPcCriYPgEUXF/WxPOHAyAnn6cf1LIUvEcMh09RADFg+oi1O0SB6X8rbIHNixZx99UjfeHhawmBCb6HrcYjL/hUPkn+4mrt+N9X2GuLKDFysBtb2N6Wh7zmYjEp1ESx5oFcT5/LXGmFab+SfnLREAAAXsAAAAJOQZuMSeEPJlMCHf/+qZYAAAMAAAdT2y7HIBc7mt9Sp0Z91CpxHLRPeAmcbVdW/wbrKACY6zEgvd2ZmDgsLVi6hBJr39hAP4MfyNBpikOnHXoW0PQHEFUmjOvwl91XtwxE91oMqzEtTHXX07HrSxaxtOnQt9nYe7r9hy/zVy/OvfXizLo7voowXorBswN/724335xmQCRoj+SFfb7vCwW887NOikaZdENvx6YXA4SV+dHDWyIL1CNDrcCno1h2yVJy5wnapLfkUseU8DZxxP+BGq40XhYqrEJG2If8n4rQFIdj8JdegvMFO1HD4tRjVdZBLRdFGtjxqd+j7Fw8MLSH+k33y1KFLe+mVbycJ2biEGPgAfWvN4fgibWeGfDp0Os3y4fJPB+oVLBlIM7ny7J1aXVtfKNj3ItPD9GMbsgFGRTHB3vRVKWcKZREdxOesaBoN+YnZ4Ll/kHVAP8fbh0Ist2BrMfsnpRRfWMGDs7VkA2IvKXRlSjXZCbZlyglW4e3F4ZZUvm2XBzVSLRhwvbi0tnubTguUunnalp0Lft+X90K9xLbuH3d1UxoDugJuQLiSI9sgzhhR4+3KqMZE6TysnbBvQ5PfLBUKnCxAiUTlFuHTdGUT6ta6u1VE638xgcODpcFCv+BTWNlRmTQYOWVWh8lPzMzqLNn+fYnEItOsYdskUwWCecy9M2uDpmuWpb20qC8MTYXEm35pqn7ZnzTPGxH4ai/RcI8iHz6wL90EPLeAuAfYsZYBhwAQ7XAAouWZejGdzOdajTpEHywFTAAAAI7QZutSeEPJlMCG//+p4QAAAMAAAMAAHc4TzJYgNiz9MLKQi16ai0cJtMIuLkNofK1nABG8jOVw8snhl13CaeKSvoMtVCtzXZtgbmM8JpEM8F4hrVTXThPbmYxlNbW2m5cUF98N3K1llsOrSGTGscA3tirGZGn8BCjJzZAUD+C7Hzp0vaA4EeBCLM39ZBgWqo3gmbOnYizmTm8IH9O5zhBbR4rrrmor27tl6gWhHSTFNKwfP1VlsEvH9Jh3vWcxwaQJxEIkSki5RG5DIWwMoSrucMiLssM6u6X2me7OeQiMtLyToxBpb1dG6IHKUFXXw3312B2lut2Y8xcxeZASlWThzHuA7g5vsCdgtD/Qt9BKqNycnkYIfP/qzsJNshx0SIqJscbSp6LWoMzY4LA+RM2oCqR0qGQozUWogtzjL7yWwBa9hj6AY4QvLf1ItuQnC7Wh/jL1EMQL8yOaNaimIQg3IDaqj7V0QNVRRM+kkQeKxYHm3liZYgfjz3pyR1GDC2VrfclMstHex7RNh/H73EhIinMx92BrLbI1HnFl4F8FTzmiP1BcBqoHyBKGmMatlfy3H7HqsBEkgIPziBAABQiytw80xM/4UzOJfQpHGvyKhEZktagqllXD4HUI6q9UZpMPlO13eQMAxhsHjzm459iVTGp9uYkaC/cUtlzD/+MWBJLP4w/y0I02AtkLq6P5IpPqHZK7ECBMd5VX23C9FuS+1awArPdZkdXN6ga1Ncv8SPdERA2jS1nC6W84QAAAhxBm89J4Q8mUwURPC///oywAAADAAADAAADACU8b/8itTuIABHa1HWah5N76frmZKNwDGCVxpt7Jco2deAsP42DBYgkq0nBlyeufuzAr0S8bF9uJErNqxxEcweXCvZo3utkDUdx3eb/BS4ymmga2S9Z1cijiIdQHPcibTRyyuuWfgvW+TTbM8UH/pIuzC/3A4eR7u7APOYny3u9hgCX56o6yaHsYUNOyX+UZbNGmGj+cznKtxMT0Yngv+M1L6ME+NBZkI2pWUFj9oX3C4+CBleVS2SUtb3pn7f1ZkI0d3ZQCKddTstZa8Ix4oj7EkmGI//DRHLCNvSioyWpbq+dnkDOsG5izTGHe2sqCjj+ulI5/vIf/B/s+p441cZ3gL7YB3guxH9KrquwV9r30BXaPZU6O+8K9Qx62MwNNYh5yLzduj5RjstSIuURvg1r2Qin+3yEwOs1h78t5WSaBAQwLGzRnF8Zx6HjN5gbQSE1aaLBbrXT34xfX7G6unb8GduIKOOTeW8SO/neu4DBthZIS/tDm6MA2fTDBP4QAeYfnx4nGoFdX1XSiZO3kQsknzEE2EbPWKjK6CndkHoytOXvG4h+gSgVjvIFqnJdkSchiQ8ZETKIGfACBAytMKe3WXO306cHobu+3zthT/4HMfjnJM47um8Svifgo0QG8+EPMRexi81i38UrDKieaAUckYQtfIwIK4YOI62an3ryIEEAAAJYAZ/uakL/AAAGYN/lGjb9tBrmyFQhl9n8lVwGlJ7dEYjWV63GjufkoAVm/LGCHgc/HSiNsVZdbEPKaiR02TGzC1IYwAdzCt+BXmbN9+X43IRB84QMqU+w+7IwClxBcX7Muxt+I6D++GOJvbLSE22D9ydiY/VFaKYV/lBjbSswFT0oH3h/gv0cUm7WUK54g3jaF0AIG6j4DxCAD5PuyUk6jealj0OK1qNVBvgCwSu3+4GSaVOADzpyE5soprgsCBMVeTwXEq8HdFt7bjNDuWNTVoZJlQ59vcvGI0UqdODsZ6fakF6rnCGCHBdsjZnJxXAmgGXMJZOIStirhFb4oeh2XmRw1Zw+aX0G8qOpKXgN51KKjFUvA7B/tzqZJqlyxzhjckYsJew2LmJ3GH2Dt9sxJoW/jshxpwMED5zBluRkUMzma9z7Ah5J6WvgsEgfK/43IVQ+8CrXAT8ViOyIyPh56MGlokjnHj8iof/WW7scHXBkbCCL9SIZpWLjpGdSAEqe/u8R9GhyrDg+T958AkT0FfsEV9rLgH042hvn7FEbGkn7za/R+o+VDK9f4+lKrFf77e7jselWm2dKHLf0eKM9hSL5PG8/ZSmsh8U1pV6j0KCDxD4iokX9K9iD/LOFKVG7bGvfaCXkYj4ck+tv6fUHod5pSbBlvR2ZIzb/uBvQhgkhC/FN/SNsqcw1kUw1769eNjSD2aIVSKFObMvE4l7A+85EnpTyvZ7wZ56yQ2Xxd11HxCr3D1KLKH4zmCaWweo3KViKVk8fTaxb4+l6NESIqEfDwajcgPKBAAADa21vb3YAAABsbXZoZAAAAAAAAAAAAAAAAAAAA+gAAAyAAAEAAAEAAAAAAAAAAAAAAAABAAAAAAAAAAAAAAAAAAAAAQAAAAAAAAAAAAAAAAAAQAAAAAAAAAAAAAAAAAAAAAAAAAAAAAAAAAAAAAAAAAIAAAKVdHJhawAAAFx0a2hkAAAAAwAAAAAAAAAAAAAAAQAAAAAAAAyAAAAAAAAAAAAAAAAAAAAAAAABAAAAAAAAAAAAAAAAAAAAAQAAAAAAAAAAAAAAAAAAQAAAAAMgAAACPAAAAAAAJGVkdHMAAAAcZWxzdAAAAAAAAAABAAAMgAAAEAAAAQAAAAACDW1kaWEAAAAgbWRoZAAAAAAAAAAAAAAAAAAAKAAAAIAAVcQAAAAAAC1oZGxyAAAAAAAAAAB2aWRlAAAAAAAAAAAAAAAAVmlkZW9IYW5kbGVyAAAAAbhtaW5mAAAAFHZtaGQAAAABAAAAAAAAAAAAAAAkZGluZgAAABxkcmVmAAAAAAAAAAEAAAAMdXJsIAAAAAEAAAF4c3RibAAAAJhzdHNkAAAAAAAAAAEAAACIYXZjMQAAAAAAAAABAAAAAAAAAAAAAAAAAAAAAAMgAjwASAAAAEgAAAAAAAAAAQAAAAAAAAAAAAAAAAAAAAAAAAAAAAAAAAAAAAAAAAAAABj//wAAADJhdmNDAWQAH//hABlnZAAfrNlAyBJ+4QAAAwABAAADAAoPGDGWAQAGaOvjyyLAAAAAGHN0dHMAAAAAAAAAAQAAABAAAAgAAAAAFHN0c3MAAAAAAAAAAQAAAAEAAAAoY3R0cwAAAAAAAAADAAAADgAAEAAAAAABAAAYAAAAAAEAAAgAAAAAHHN0c2MAAAAAAAAAAQAAAAEAAAAQAAAAAQAAAFRzdHN6AAAAAAAAAAAAAAAQAAAIWwAAAlkAAAJLAAACLQAAAk0AAAJPAAACPgAAAmwAAAI5AAACJwAAAlkAAAI3AAACUgAAAj8AAAIgAAACXAAAABRzdGNvAAAAAAAAAAEAAAAwAAAAYnVkdGEAAABabWV0YQAAAAAAAAAhaGRscgAAAAAAAAAAbWRpcmFwcGwAAAAAAAAAAAAAAAAtaWxzdAAAACWpdG9vAAAAHWRhdGEAAAABAAAAAExhdmY1Ny44My4xMDA=\" type=\"video/mp4\" />\n",
       "                 </video>"
      ],
      "text/plain": [
       "<IPython.core.display.HTML object>"
      ]
     },
     "metadata": {},
     "output_type": "display_data"
    },
    {
     "name": "stdout",
     "output_type": "stream",
     "text": [
      "Value Iteration Computing time: 0.032175540924072266\n",
      "Policy Iteration Computing time: 0.0034379959106445312\n"
     ]
    },
    {
     "data": {
      "image/png": "[encoded data removed]",
      "text/plain": [
       "<Figure size 432x288 with 1 Axes>"
      ]
     },
     "metadata": {
      "needs_background": "light"
     },
     "output_type": "display_data"
    }
   ],
   "source": [
    "# Comparison of computing time\n",
    "import time\n",
    "\"\"\"I chose to import the time module to calculate \n",
    "the different computation times of the algorithms \n",
    "in order to compare them. \"\"\"\n",
    "\n",
    "\n",
    "# Parameters\n",
    "tol = 1e-5\n",
    "gamma = 0.99\n",
    "\n",
    "# Environment\n",
    "env = get_env()\n",
    "\n",
    "# run value iteration to obtain Q-values\n",
    "start = time.time()\n",
    "VI_Q, VI_greedypol, all_qfunctions = value_iteration(env.P, env.R, gamma=gamma, tol=tol)\n",
    "end = time.time()\n",
    "VI_time = end - start\n",
    "\n",
    "# render the policy\n",
    "print(\"[VI]Greedy policy: \")\n",
    "render_policy(env, VI_greedypol)\n",
    "\n",
    "# compute the value function of the greedy policy using matrix inversion\n",
    "\"\"\"In my code, setting tol to 0 compute the value function \n",
    "using matrix inversion\"\"\"\n",
    "greedy_V = policy_evaluation(env.P, env.R, VI_greedypol, gamma, tol = 0)\n",
    "\n",
    "# show the error between the computed V-functions and the final V-function\n",
    "# (that should be the optimal one, if correctly implemented)\n",
    "# as a function of time\n",
    "final_V = all_qfunctions[-1].max(axis=1)\n",
    "norms = [ np.linalg.norm(q.max(axis=1) - final_V) for q in all_qfunctions]\n",
    "plt.plot(norms)\n",
    "plt.xlabel('Iteration')\n",
    "plt.ylabel('Error')\n",
    "plt.title(\"Value iteration: convergence\")\n",
    "\n",
    "#### POLICY ITERATION ####\n",
    "start = time.time()\n",
    "PI_policy, PI_V = policy_iteration(env.P, env.R, gamma=gamma, tol=0)\n",
    "\"\"\"I changed the value of tol setting it to 0 \n",
    "because greedy_V was calculated with a direct computation\n",
    "so the approximation error is 0 and so by setting tol to 0 \n",
    "each step of the \"policy evaluation\" is also with direct computation. \"\"\"\n",
    "end = time.time()\n",
    "PI_time = end - start\n",
    "\n",
    "print(\"\\n[PI]final policy: \")\n",
    "render_policy(env, PI_policy)\n",
    "\n",
    "print(\"Value Iteration Computing time:\", VI_time)\n",
    "print(\"Policy Iteration Computing time:\", PI_time)\n",
    "\n",
    "\n",
    "## Uncomment below to check that everything is correct\n",
    "assert np.allclose(PI_policy, VI_greedypol),\\\n",
    "    \"You should check the code, the greedy policy computed by VI is not equal to the solution of PI\"\n",
    "assert np.allclose(PI_V, greedy_V),\\\n",
    "   \"Since the policies are equal, even the value function should be\"\n",
    "\n",
    "plt.show()"
   ]
  },
  {
   "cell_type": "markdown",
   "metadata": {
    "id": "2V1QdoH-xFX0"
   },
   "source": [
    "# Part 2 - Tabular RL"
   ]
  },
  {
   "cell_type": "markdown",
   "metadata": {
    "id": "Qf51VhoPxbV4"
   },
   "source": [
    "## Question 2.1\n",
    "\n",
    "The code below collects two datasets of transitions (containing states, actions, rewards and next states) for a discrete MDP.\n",
    "\n",
    "For each of the datasets:\n",
    "\n",
    "1. Estimate the transitions and rewards, $\\hat{P}$ and $\\hat{R}$.\n",
    "2. Compute the optimal value function and the optimal policy with respect to the estimated MDP (defined by $\\hat{P}$ and $\\hat{R}$), which we denote by $\\hat{\\pi}$ and $\\hat{V}$.\n",
    "3. Numerically compare the performance of $\\hat{\\pi}$ and $\\pi^\\star$ (the true optimal policy), and the error between $\\hat{V}$ and $V^*$ (the true optimal value function).\n",
    "\n",
    "Which of the two data collection methods do you think is better? Why?"
   ]
  },
  {
   "cell_type": "markdown",
   "metadata": {
    "id": "eWSyewG2EZpJ"
   },
   "source": [
    "### **Answer**\n",
    "\n",
    "After several tests, I notice that using dataset 2 to estimate transitions and rewards allows to find a good approximation of the value function **each time**  (around 98-99%) while using dataset 1 gives a bad approximation in $L_{\\infty}$- norm. Moreover, when comparing the performance of the optimal policies with respect to the estimated MDPs, I notice that most of the time the policy from dataset 1 does not evolve because it does not find the goal while with the optimal policy from dataset 2 the goal is reached.\n",
    "\n",
    "The second method of data collection seems more suitable for this type of problem because it allows us to obtain, through a uniform sampling of states and actions, a set of data that seems to take the environment into account in a global way, whereas this is not the case with the first method of data collection, which allows us to obtain a set of data by following a random policy."
   ]
  },
  {
   "cell_type": "code",
   "execution_count": 10,
   "metadata": {
    "colab": {
     "base_uri": "https://localhost:8080/"
    },
    "id": "8lNPhB28EcGd",
    "outputId": "31fc542a-c70d-4346-b457-5f784319a93a"
   },
   "outputs": [
    {
     "name": "stdout",
     "output_type": "stream",
     "text": [
      "\n",
      " Policy iteration converges in 1 iterations\n",
      "\n",
      " Policy iteration converges in 14 iterations\n",
      "\n",
      " Policy iteration converges in 5 iterations\n"
     ]
    }
   ],
   "source": [
    "def get_random_policy_dataset(env, n_samples):\n",
    "  \"\"\"Get a dataset following a random policy to collect data.\"\"\"\n",
    "  states = []\n",
    "  actions = []\n",
    "  rewards = []\n",
    "  next_states = []\n",
    "  \n",
    "  state = env.reset()\n",
    "  for _ in range(n_samples):\n",
    "    action = env.action_space.sample()\n",
    "    next_state, reward, is_terminal, info = env.step(action)\n",
    "    states.append(state)\n",
    "    actions.append(action)\n",
    "    rewards.append(reward)\n",
    "    next_states.append(next_state)\n",
    "    # update state\n",
    "    state = next_state\n",
    "    if is_terminal:\n",
    "      state = env.reset()\n",
    "\n",
    "  dataset = (states, actions, rewards, next_states)\n",
    "  return dataset\n",
    "\n",
    "def get_uniform_dataset(env, n_samples):\n",
    "  \"\"\"Get a dataset by uniformly sampling states and actions.\"\"\"\n",
    "  states = []\n",
    "  actions = []\n",
    "  rewards = []\n",
    "  next_states = []\n",
    "  for _ in range(n_samples):\n",
    "    state = env.observation_space.sample()\n",
    "    action = env.action_space.sample()\n",
    "    next_state, reward, is_terminal, info = env.sample(state, action)\n",
    "    states.append(state)\n",
    "    actions.append(action)\n",
    "    rewards.append(reward)\n",
    "    next_states.append(next_state)\n",
    "\n",
    "  dataset = (states, actions, rewards, next_states)\n",
    "  return dataset\n",
    "\n",
    "\n",
    "# Collect two different datasets\n",
    "num_samples = 500\n",
    "env = get_env()\n",
    "dataset_1 = get_random_policy_dataset(env, num_samples)\n",
    "dataset_2 = get_uniform_dataset(env, num_samples)\n",
    "\n",
    "\n",
    "# Item 3: Estimate the MDP with the two datasets; compare the optimal value\n",
    "# functions in the true and in the estimated MDPs\n",
    "\n",
    "def N(env, states,actions, rewards, next_states):\n",
    "  \"\"\"\n",
    "    Args:\n",
    "        env : GridWorld\n",
    "              environment where to run the policy\n",
    "        states : list or np.array\n",
    "               states sampling (num_samples)\n",
    "        actions : list or np.array\n",
    "               actions sampling (num_samples)\n",
    "        rewards : list or np.array\n",
    "               rewards sampling (num_samples)\n",
    "        next_states : list or np.array\n",
    "               next_states sampling (num_samples)\n",
    "        \n",
    "    Return:\n",
    "        Nt : number of occurrences of transitions\n",
    "        P : empirical transitions\n",
    "        R : empirical rewards\n",
    "    \"\"\"\n",
    "\n",
    "  Ns = env.Ns\n",
    "  Na = env.Na\n",
    "  assert(len(states)==len(actions)==len(rewards)==len(next_states))\n",
    "  N_sample = len(states)\n",
    "\n",
    "  # Conversion to arrays for the computation of the empirical reward\n",
    "  states = np.array(states)\n",
    "  actions = np.array(actions)\n",
    "  rewards = np.array(rewards)\n",
    "  next_states = np.array(next_states)\n",
    "\n",
    "  P = np.zeros((Ns,Na,Ns))\n",
    "  R = np.zeros((Ns,Na))\n",
    "  Nt = np.zeros((Ns,Na,Ns))\n",
    "\n",
    "  # Initialisation of N(s,a,s')\n",
    "  for i in range(N_sample):\n",
    "    Nt[states[i],actions[i],next_states[i]] += 1\n",
    "\n",
    "  # Computation of N(s,a)\n",
    "  Nta = np.sum(Nt, axis = 2)\n",
    "\n",
    "  for s in np.unique(states):\n",
    "    for a in np.unique(actions):\n",
    "      for s_n in np.unique(next_states):\n",
    "\n",
    "        if (Nta[s,a] != 0):\n",
    "           P[s,a,s_n] = Nt[s,a,s_n]/Nta[s,a]\n",
    "\n",
    "      r = 0\n",
    "      for i in range(len(rewards)):\n",
    "        r += rewards[i]*int(states[i] == s)*int(actions[i] == a)\n",
    "      \n",
    "      if (Nta[s,a] != 0):\n",
    "        R[s,a] = r/Nta[s,a]\n",
    "\n",
    "  return Nt, P, R\n",
    "\n",
    "(states1, actions1, rewards1, next_states1) = dataset_1\n",
    "(states2, actions2, rewards2, next_states2) = dataset_2\n",
    "\n",
    "_, P1, R1 = N(env, states1, actions1, rewards1, next_states1)\n",
    "_, P2, R2 = N(env, states2, actions2, rewards2, next_states2)\n",
    "\n",
    "policy_Est1, V_Est1 = policy_iteration(P1, R1, gamma, 0)\n",
    "policy_Est2, V_Est2 = policy_iteration(P2, R2, gamma, 0)\n",
    "policy_True, V_True = policy_iteration(env.P, env.R, gamma, 0)"
   ]
  },
  {
   "cell_type": "code",
   "execution_count": 11,
   "metadata": {
    "colab": {
     "base_uri": "https://localhost:8080/",
     "height": 140
    },
    "id": "lNVWQ6bIECGG",
    "outputId": "7fe5300b-d94a-428d-fecd-4a2f389d280f"
   },
   "outputs": [
    {
     "data": {
      "text/html": [
       "<div>\n",
       "<style scoped>\n",
       "    .dataframe tbody tr th:only-of-type {\n",
       "        vertical-align: middle;\n",
       "    }\n",
       "\n",
       "    .dataframe tbody tr th {\n",
       "        vertical-align: top;\n",
       "    }\n",
       "\n",
       "    .dataframe thead th {\n",
       "        text-align: right;\n",
       "    }\n",
       "</style>\n",
       "<table border=\"1\" class=\"dataframe\">\n",
       "  <thead>\n",
       "    <tr style=\"text-align: right;\">\n",
       "      <th></th>\n",
       "      <th>Dataset 1</th>\n",
       "      <th>Dataset 2</th>\n",
       "    </tr>\n",
       "  </thead>\n",
       "  <tbody>\n",
       "    <tr>\n",
       "      <th>Difference of P</th>\n",
       "      <td>34.450716</td>\n",
       "      <td>29.638095</td>\n",
       "    </tr>\n",
       "    <tr>\n",
       "      <th>Difference of R</th>\n",
       "      <td>3.000000</td>\n",
       "      <td>0.000000</td>\n",
       "    </tr>\n",
       "    <tr>\n",
       "      <th>Value function error</th>\n",
       "      <td>100.000000</td>\n",
       "      <td>1.078724</td>\n",
       "    </tr>\n",
       "  </tbody>\n",
       "</table>\n",
       "</div>"
      ],
      "text/plain": [
       "                       Dataset 1  Dataset 2\n",
       "Difference of P        34.450716  29.638095\n",
       "Difference of R         3.000000   0.000000\n",
       "Value function error  100.000000   1.078724"
      ]
     },
     "execution_count": 11,
     "metadata": {},
     "output_type": "execute_result"
    }
   ],
   "source": [
    "# Comparison table\n",
    "import pandas as pd\n",
    "data = pd.DataFrame(index = ['Difference of P', 'Difference of R',\n",
    "                             'Value function error'], \n",
    "                    columns = ['Dataset 1','Dataset 2'])\n",
    "data['Dataset 1'] = [np.sum(abs(P1-env.P)), np.sum(abs(R1-env.R)), \n",
    "                     max(abs(V_Est1 - V_True))]\n",
    "data['Dataset 2'] = [np.sum(abs(P2-env.P)),np.sum(abs(R2-env.R)),\n",
    "                     max(abs(V_Est2 - V_True))]\n",
    "\n",
    "data"
   ]
  },
  {
   "cell_type": "code",
   "execution_count": 12,
   "metadata": {
    "colab": {
     "base_uri": "https://localhost:8080/",
     "height": 1000
    },
    "id": "bp9zNcZxJMCW",
    "outputId": "98d0b485-a9da-4c3c-fdb6-952a52ac103f"
   },
   "outputs": [
    {
     "name": "stdout",
     "output_type": "stream",
     "text": [
      "\n",
      "[PI]True optimal policy: \n"
     ]
    },
    {
     "data": {
      "text/html": [
       "<video alt=\"videos/gw.mp4\" autoplay\n",
       "                      loop controls style=\"height: 400px;\">\n",
       "                    <source src=\"data:video/mp4;base64,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\" type=\"video/mp4\" />\n",
       "                 </video>"
      ],
      "text/plain": [
       "<IPython.core.display.HTML object>"
      ]
     },
     "metadata": {},
     "output_type": "display_data"
    },
    {
     "name": "stdout",
     "output_type": "stream",
     "text": [
      "\n",
      "[PI]Policy estimated with dataset 1: \n"
     ]
    },
    {
     "data": {
      "text/html": [
       "<video alt=\"videos/gw.mp4\" autoplay\n",
       "                      loop controls style=\"height: 400px;\">\n",
       "                    <source src=\"data:video/mp4;base64,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\" type=\"video/mp4\" />\n",
       "                 </video>"
      ],
      "text/plain": [
       "<IPython.core.display.HTML object>"
      ]
     },
     "metadata": {},
     "output_type": "display_data"
    },
    {
     "name": "stdout",
     "output_type": "stream",
     "text": [
      "\n",
      "[PI]Policy estimated with dataset 2: \n"
     ]
    },
    {
     "data": {
      "text/html": [
       "<video alt=\"videos/gw.mp4\" autoplay\n",
       "                      loop controls style=\"height: 400px;\">\n",
       "                    <source src=\"data:video/mp4;base64,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\" type=\"video/mp4\" />\n",
       "                 </video>"
      ],
      "text/plain": [
       "<IPython.core.display.HTML object>"
      ]
     },
     "metadata": {},
     "output_type": "display_data"
    }
   ],
   "source": [
    "# Performance of policies\n",
    "print(\"\\n[PI]True optimal policy: \")\n",
    "render_policy(env, policy_True)\n",
    "print(\"\\n[PI]Policy estimated with dataset 1: \")\n",
    "render_policy(env, policy_Est1)\n",
    "print(\"\\n[PI]Policy estimated with dataset 2: \")\n",
    "render_policy(env, policy_Est2)"
   ]
  },
  {
   "cell_type": "markdown",
   "metadata": {
    "id": "UKINsa_yGLGL"
   },
   "source": [
    "## Question 2.2\n",
    "\n",
    "Suppose that $\\hat{P}$ and $\\hat{R}$ are estimated from a dataset of exactly $N$ i.i.d. samples from **each** state-action pair. This means that, for each $(s,a)$, we have $N$ samples $\\{(s_1',r_1, \\dots, s_N', r_N\\}$, where $s_i' \\sim P(\\cdot | s,a)$ and $r_i \\sim R(s,a)$ for $i=1,\\dots,N$, and\n",
    "$$ \\hat{P}(s'|s,a) = \\frac{1}{N}\\sum_{i=1}^N \\mathbb{1}(s_i' = s'), $$\n",
    "$$ \\hat{R}(s,a) = \\frac{1}{N}\\sum_{i=1}^N r_i.$$\n",
    "Suppose that $R$ is a distribution with support in $[0,1]$. Let $\\hat{V}$ be the optimal value function computed in the empirical MDP (i.e., the one with transitions $\\hat{P}$ and rewards $\\hat{R}$). For any $\\delta\\in(0,1)$, derive an upper bound to the error\n",
    "\n",
    "$$ \\| \\hat{V} - V^* \\|_\\infty $$\n",
    "\n",
    "which holds with probability at least $1-\\delta$.\n",
    "\n",
    "**Note** Your bound should only depend on deterministic quantities like $N$, $\\gamma$, $\\delta$, $S$, $A$. It should *not* dependent on the actual random samples.\n",
    "\n",
    "**Hint** The following two inequalities may be helpful.\n",
    "\n",
    "1. **A (simplified) simulation lemma**. For any state $\\bar{s}$,\n",
    "\n",
    "$$ |\\hat{V}(\\bar{s}) - V^*(\\bar{s})| \\leq \\frac{1}{1-\\gamma}\\max_{s,a} \\left| R(s,a) - \\hat{R}(s,a) + \\gamma \\sum_{s'}(P(s'|s,a) - \\hat{P}(s'|s,a)) V^*(s') \\right|$$\n",
    "\n",
    "2. **Hoeffding's inequality**. Let $X_1, \\dots X_N$ be $N$ i.i.d. random variables bounded in the interval $[0,b]$ for some $b>0$. Let $\\bar{X} = \\frac{1}{N}\\sum_{i=1}^N X_i$ be the empirical mean. Then, for any $\\epsilon > 0$,\n",
    "\n",
    "$$ \\mathbb{P}(|\\bar{X} - \\mathbb{E}[\\bar{X}]| > \\epsilon) \\leq 2e^{-\\frac{2N\\epsilon^2}{b^2}}.$$"
   ]
  },
  {
   "cell_type": "markdown",
   "metadata": {
    "id": "fKmdulLaMoiN"
   },
   "source": [
    "### **Answer**\n",
    "\n",
    "For any state $\\bar{s}$,\n",
    "\n",
    "$|\\hat{V}(\\bar{s}) - V^*(\\bar{s})| \\leq \\frac{1}{1-\\gamma}\\max_{s,a} \\left| R(s,a) - \\hat{R}(s,a) + \\gamma \\sum_{s'}(P(s'|s,a) - \\hat{P}(s'|s,a)) V^*(s') \\right|$ \n",
    "\n",
    "$\\\\ \\qquad \\qquad \\quad \\ \\leq  \\frac{1}{1-\\gamma}\\max_{s,a} \\left| R(s,a) - \\hat{R}(s,a) \\right| + \\frac{\\gamma}{1-\\gamma}\\max_{s,a} \\sum_{s'} \\left|(P(s'|s,a) - \\hat{P}(s'|s,a)) V^*(s') \\right|$\n",
    "\n",
    "If, we have :\n",
    "\n",
    "$$|\\hat{V}(\\bar{s}) - V^*(\\bar{s})| > \\epsilon \\quad \\text{necessairly} \\quad $$\n",
    "$$\\frac{1}{1-\\gamma}\\max_{s,a} \\left| R(s,a) - \\hat{R}(s,a) \\right| > \\frac{\\epsilon}{2} \\quad or \\quad \\frac{\\gamma}{1-\\gamma}\\max_{s,a} \\sum_{s'} \\left| (P(s'|s,a) - \\hat{P}(s'|s,a)) V^*(s') \\right| > \\frac{\\epsilon}{2} \\qquad \\textbf{(*)}$$ \n",
    "\n",
    "Then, \n",
    "\n",
    "$\\mathbb{P}(|\\hat{V}(\\bar{s}) - V^*(\\bar{s})| > \\epsilon) \\leq \\mathbb{P}(\\frac{1}{1-\\gamma}\\max_{s,a} \\left| R(s,a) - \\hat{R}(s,a) \\right| > \\frac{\\epsilon}{2}) + \\mathbb{P}(\\frac{\\gamma}{1-\\gamma}\\max_{s,a} \\sum_{s'} \\left| (P(s'|s,a) - \\hat{P}(s'|s,a)) V^*(s') \\right| > \\frac{\\epsilon}{2})$ \n",
    "$\\\\ \\qquad \\qquad \\qquad \\ \\leq \\mathbb{P}(\\cup_{s \\in S, a \\in A} \\{ \\left| R(s,a) - \\hat{R}(s,a) \\right| > \\frac{\\epsilon.(1-\\gamma)}{2} \\}) + \\mathbb{P}(\\cup_{s \\in S, a \\in A} \\{ \\sum_{s'} \\left| (P(s'|s,a) - \\hat{P}(s'|s,a)) V^*(s') \\right| > \\frac{\\epsilon.(1-\\gamma)}{2.\\gamma} \\})$ \n",
    "$\\\\ \\qquad \\qquad \\qquad \\ \\leq \\sum_{s \\in S, a \\in A}\\mathbb{P}( \\left| R(s,a) - \\hat{R}(s,a) \\right| > \\frac{\\epsilon.(1-\\gamma)}{2} ) + \\sum_{s \\in S, a \\in A} \\mathbb{P}(\\sum_{s'} \\left| (P(s'|s,a) - \\hat{P}(s'|s,a)) V^*(s') \\right| > \\frac{\\epsilon.(1-\\gamma)}{2.\\gamma})$ \n",
    "\n",
    "\n",
    "$\\hat{P}$ and $\\hat{R}$ are estimated from a dataset of exactly $N$ i.i.d. samples from **each** state-action pair.\n",
    "\n",
    "$r_1, ..., r_N$ are i.i.d random variables bounded in the interval $[0,1]$. $R(s,a)$ denotes both the distribution and the mean value of the reward distribution in $(s,a)$\n",
    "and $\\hat{R}(s,a)$ is the empirical mean. Then, for any $\\epsilon > 0$, the Hoeffding's inequality gives us : \n",
    "\n",
    "$$\\boxed{\\mathbb{P} \\left(| R(s,a) - \\hat{R}(s,a)| > \\frac{\\epsilon.(1-\\gamma)}{2} \\right) \\leq 2e^{\\frac{-2N(\\frac{\\epsilon.(1-\\gamma)}{2})^2}{1^2}} = 2e^{\\frac{-N.\\epsilon^2.(1-\\gamma)^2}{2}}}$$\n",
    "\n",
    "\n",
    "\n",
    "<br>\n",
    "\n",
    "Moreover,\n",
    "<br>\n",
    "We have that : for all policy $\\pi$ and for all  $s \\in S$, as $\\gamma \\geq 0$ and $R$ is a distribution with support in $[0,1]$  \n",
    "\n",
    "\n",
    "$0 \\leq V^{\\pi}(s) = \\mathbb{E}[\\sum_{t = 0}^{\\infty} \\gamma^{t}.R(s_t,d_t(s_t)) \\ \\vert s_0=s \\ ; \\pi \\ ]  \\leq \\mathbb{E}[\\sum_{t = 0}^{\\infty} \\gamma^{t}.1 \\ \\vert s_0=s \\ ; \\pi \\ ] \\leq  \\frac{1}{1-\\gamma}$\n",
    "\n",
    "Then, $$\\boxed{0 \\leq V^{*}(s) \\leq \\frac{1}{1-\\gamma}}$$\n",
    "\n",
    "\n",
    "\n",
    "<br> \n",
    "\n",
    "With the same idea in (*)\n",
    "\n",
    "<br>\n",
    "\n",
    "$$\\mathbb{P}\\left(\\sum_{s'} \\left| (P(s'|s,a) - \\hat{P}(s'|s,a)).V^*(s'))\\right| > \\frac{\\epsilon.(1-\\gamma)}{2.\\gamma}\\right) \\leq  \\sum_{s'} \\mathbb{P}\\left( \\left| P(s'|s,a) - \\hat{P}(s'|s,a)).V^*(s')\\right| > \\frac{\\epsilon.(1-\\gamma)}{2.\\gamma.|S|}\\right)$$\n",
    "\n",
    "Let $s$ be in $S$ and $a$ in $A$. Let $s'$ in $S$.\n",
    "\n",
    "From the assumption, $s_1, ..., s_N$ are i.i.d random variables then $\\mathbb{1}(s_i' = s').V^{*}(s')$ are also i.i.d random variables bounded in the interval $[0,\\frac{1}{1-\\gamma}]$ and with expectation $\\mathbb{E}[\\mathbb{1}(s_i' = s').V^{*}(s')] = P(s'|s,a).V^{*}(s')$\n",
    "\n",
    "\n",
    "Then, for any $\\epsilon > 0$, the Hoeffding's inequality gives us : \n",
    "$$\\mathbb{P}\\left(\\left|\\hat{P}(s'|s,a).V^*(s') - P(s'|s,a).V^*(s')\\right| > \\frac{\\epsilon.(1-\\gamma)}{2.\\gamma.|S|}\\right) \\leq 2e^{-\\frac{2N.\\left(\\frac{\\epsilon.(1-\\gamma)}{2.\\gamma.|S|}\\right)^2}{(\\frac{1}{1-\\gamma})^2}} = 2e^{\\frac{-N. \\epsilon^2 * ({1- \\gamma})^4}{2.\\gamma^2.|S|^2}}$$\n",
    "\n",
    "Then, \n",
    "$$\\boxed{\\mathbb{P}(\\sum_{s'} \\left| (P(s'|s,a) - \\hat{P}(s'|s,a)).\n",
    " V^*(s'))\\right| > \\frac{\\epsilon}{2}) \\leq \n",
    " 2.|S|e^{\\frac{-N. \\epsilon^2 * ({1- \\gamma})^4}{2.\\gamma^2.|S|^2}}}$$\n",
    "\n",
    "\n",
    "<br>\n",
    "\n",
    "Finally, \n",
    "\n",
    "$$\\mathbb{P}(|\\hat{V}(\\bar{s}) - V^*(\\bar{s})| > \\epsilon) \\leq |S|.|A|.\\left(2.e^{\\frac{-N.\\epsilon^2.(1-\\gamma)^2}{2}} + 2.|S|e^{\\frac{-N. \\epsilon^2 * ({1- \\gamma})^4}{2.\\gamma^2.|S|^2}}\\right) \n",
    "\\leq 4.|S|.|A|.max(e^{\\frac{-N.\\epsilon^2.(1-\\gamma)^2}{2}},|S|e^{\\frac{-N. \\epsilon^2 * ({1- \\gamma})^4}{2.\\gamma^2.|S|^2}})$$\n",
    "\n",
    "<br>\n",
    "with $\\boxed{\\epsilon(N,\\gamma,\\delta,S,A) = max\\left(\\sqrt{\\frac{2}{N.(1-\\gamma)^2}.log(\\frac{4.|S|.|A|}{\\delta})},\\sqrt{\\frac{2.\\gamma^2.|S|^2}{N.(1-\\gamma)^4}.log(\\frac{4.|S|^2.|A|}{\\delta})}\\right)}$.  (less restrictive than the min)\n",
    "\n",
    "$$\\mathbb{P}\\left(|\\hat{V}(\\bar{s}) - V^*(\\bar{s})| > \\epsilon(N,\\gamma,\\delta,S,A)\\right) \\leq \\delta$$\n",
    "\n",
    "Finally, \n",
    "\n",
    "$$\\boxed{\\| \\hat{V} - V^* \\|_\\infty < \\epsilon(N,\\gamma,\\delta,S,A)} \\text{ with probability at least } 1-\\delta.$$\n",
    "\n",
    "Here, what is important is that with $\\delta$  close enough to 0 one has quite favorably (i.e. with probability at least $1-\\delta$) that the approximation error is in $O(\\frac{1}{\\sqrt{N}})$."
   ]
  },
  {
   "cell_type": "markdown",
   "metadata": {
    "id": "tpqwCBG2MwxO"
   },
   "source": [
    "## Question 2.3\n",
    "\n",
    "Suppose once again that we are given a dataset of $N$ samples in the form of tuples $(s_i,a_i,s_i',r_i)$. We know that each tuple contains a valid transition from the true MDP, i.e., $s_i' \\sim P(\\cdot | s_i, a_i)$ and $r_i \\sim R(s_i,a_i)$, while the state-action pairs $(s_i,a_i)$ from which the transition started can be arbitrary.\n",
    "\n",
    "Suppose we want to apply Q-learning to this MDP. Can you think of a way to leverage this offline data to improve the sample-efficiency of the algorithm? What if we were using SARSA instead?"
   ]
  },
  {
   "cell_type": "markdown",
   "metadata": {
    "id": "mbYTKetHOYU_"
   },
   "source": [
    "### **Answer**\n",
    "\n",
    "### Q-Learning\n",
    "\n",
    "Q-learning is a model-free reinforcement learning algorithm that seeks to find the best action to take given the current state. A way to leverage this offline data to improve the sample-efficiency of the algorithm is to take integrating a world model and to use planning. **I suggest to use Dyna-Q learning** which includes all of the following processes: planning, action, model learning and direct RL, all of which occur continuously.\n",
    "\n",
    "\n",
    "### Sarsa\n",
    "\n",
    "Sarsa is on-policy and it updates its Q-values using the Q-value of the next state and the action of the current policy. Here, the update of Q is based on the sample of the dataset and it is necessairly off-policy.\n",
    "In this case, **SARSA** would not work."
   ]
  },
  {
   "cell_type": "markdown",
   "metadata": {
    "id": "542QxKsSOs21"
   },
   "source": [
    "# Part 3 - RL with Function Approximation"
   ]
  },
  {
   "cell_type": "markdown",
   "metadata": {
    "id": "OiGZBiJ4PiIE"
   },
   "source": [
    "## Question 3.1\n",
    "\n",
    "Given a datset $(s_i, a_i, r_i, s_i')$ of (states, actions, rewards, next states), the Fitted Q-Iteration (FQI) algorithm proceeds as follows:\n",
    "\n",
    "\n",
    "* We start from a $Q$ function $Q_0 \\in \\mathcal{F}$, where $\\mathcal{F}$ is a function space;\n",
    "* At every iteration $k$, we compute $Q_{k+1}$ as:\n",
    "\n",
    "$$\n",
    "Q_{k+1}\\in\\arg\\min_{f\\in\\mathcal{F}} \\frac{1}{2}\\sum_{i=1}^N\n",
    "\\left(\n",
    "  f(s_i, a_i) - y_i^k\n",
    "\\right)^2 + \\lambda \\Omega(f)\n",
    "$$\n",
    "where $y_i^k = r_i + \\gamma \\max_{a'}Q_k(s_i', a')$, $\\Omega(f)$ is a regularization term and $\\lambda > 0$ is the regularization coefficient.\n",
    "\n",
    "\n",
    "Consider FQI with *linear* function approximation. That is, for a given feature map $\\phi : S \\rightarrow \\mathbb{R}^d$, we consider a parametric family of $Q$ functions $Q_\\theta(s,a) = \\phi(s)^T\\theta_a$ for $\\theta_a\\in\\mathbb{R}^d$. Suppose we are applying FQI on a given dataset of $N$ tuples of the form $(s_i, a_i, r_i, s_i')$ and we are at the $k$-th iteration. Let $\\theta_k \\in\\mathbb{R}^{d \\times A}$ be our current parameter. Derive the *closed-form* update to find $\\theta_{k+1}$, using $\\frac{1}{2}\\sum_a ||\\theta_a||_2^2$ as regularization."
   ]
  },
  {
   "cell_type": "markdown",
   "metadata": {
    "id": "7jx7aE41DkEM"
   },
   "source": [
    "### **Answer**\n",
    "\n",
    "We consider a parametric family of $Q$ functions $Q_\\theta(s,a) = \\phi(s)^T\\theta_a = \\phi(s)^T\\theta E_a$ with $E_a = (\\delta_{ia})_{1 \\leq i \\leq A}$\n",
    "in $\\mathbb{R}^A$. Suppose we are applying FQI on a given dataset of $N$ tuples of the form $(s_i, a_i, r_i, s_i')$ and we are at the $k$-th iteration. Let $\\theta_k \\in\\mathbb{R}^{d \\times A}$ be our current parameter. We use $\\frac{1}{2}\\sum_a ||\\theta_a||_2^2$ as regularization.\n",
    "We want to find one minimizer of : \n",
    "$$ f : \\theta \\mapsto \\frac{1}{2}\\sum_{i=1}^N \\left(\\phi(s_i)^T\\theta E_{a_i} - y_i^k \\right)^2 + \\frac{\\lambda}{2}\\sum_{a \\in A} ||\\theta_a||_2^2$$\n",
    "\n",
    "By noticing that : \n",
    "$||\\theta_a||_2^2 = \\theta_a^{T}.\\theta_a = E_{a}^{T}\\theta^{T}.\\theta E_a$ \n",
    "\n",
    "The considered function is thus convex and coercive. There is then at least one minimizer and the gradient at this point (and all the other minimizers) is zero.\n",
    "\n",
    "\n",
    "I will use the following equations : \n",
    "$$\\frac{\\partial (a^{T}X^{T}CXb)}{\\partial X} = C^{T}Xab^{T} + CXba^{T}$$\n",
    "\n",
    "$$\\frac{\\partial (a^{T}Xb)}{\\partial X} = ab^{T}$$\n",
    "\n",
    "By deriving, I then obtain:\n",
    "\n",
    "$\\nabla f(\\theta) = \\sum_{i=1}^N \\frac{\\partial (\\phi(s_i)^T\\theta E_{a_i})}{\\partial \\theta} \\left(\\phi(s_i)^T\\theta E_{a_i} - y_i^k \\right) + \\lambda \\sum_{a \\in A} \\theta E_a.E_{a}^{T} = \\sum_{i=1}^N \\phi(s_i)E_{a_i}^T \\left(\\phi(s_i)^T\\theta E_{a_i} - y_i^k \\right) + \\lambda \\theta \\sum_{a \\in A}  E_{aa}  \\\\ $ \n",
    "$\\boxed{\\nabla f(\\theta)  = \\sum_{i=1}^N \\phi(s_i)E_{a_i}^T \\left(\\phi(s_i)^T\\theta E_{a_i} - y_i^k \\right) + \\lambda \\theta} \\qquad \\text{because} \\, \\sum_{a \\in A}  E_{aa} = I_A$\n",
    "\n",
    "<br>\n",
    "\n",
    "If we want $\\theta_{k+1}$ to be a minimizer, then it must satisfy : \n",
    "$\\quad \\sum_{i=1}^N \\phi(s_i)E_{a_i}^T \\left(\\phi(s_i)^T\\theta_{k+1} E_{a_i} - y_i^k \\right) + \\lambda \\theta_{k+1} = 0$ \n",
    "\n",
    "i.e $$\\lambda \\theta_{k+1} + \\sum_{i=1}^N \\phi(s_i)E_{a_i}^T \\phi(s_i)^T\\theta_{k+1} E_{a_i} = \\sum_{i=1}^N y_i^k \\phi(s_i)E_{a_i}^T$$\n",
    "\n",
    "<br>\n",
    "\n",
    "Multiplying by $E_a$, it follows : \n",
    "\n",
    "$\\qquad \\ \\ \\  \\lambda (\\theta_{k+1})_a+ \\sum_{i=1}^N \\left(\\phi(s_i)^T\\theta_{k+1} E_{a_i}\\right)\\phi(s_i)E_{a_i}^T E_a = \\sum_{i=1}^N y_i^k \\phi(s_i)E_{a_i}^T E_a \\\\$ \n",
    "\n",
    "$\\Leftrightarrow \\lambda (\\theta_{k+1})_a+ \\sum_{i=1}^N \\left(\\phi(s_i)^T(\\theta_{k+1})_{a_i}\\right)\\phi(s_i)\\mathbb{1}_{\\{a_i = a\\}} = \\sum_{i=1}^N y_i^k \\phi(s_i) \\mathbb{1}_{\\{a_i = a\\}} \\qquad$ (*) \n",
    "\n",
    "$\\Leftrightarrow \\lambda (\\theta_{k+1})_a+ \\sum_{i=1}^N \\mathbb{1}_{\\{a_i = a\\}}\\phi(s_i)\\left(\\phi(s_i)^T(\\theta_{k+1})_{a}\\right) = \\sum_{i=1}^N \\mathbb{1}_{\\{a_i = a\\}} y_i^k \\phi(s_i) \\qquad$ (*) \n",
    "\n",
    "$\\Leftrightarrow \\left(\\lambda I_d + \\sum_{i=1}^N \\mathbb{1}_{\\{a_i = a\\}}\\phi(s_i)\\phi(s_i)^T\\right)(\\theta_{k+1})_{a} = \\sum_{i=1}^N \\mathbb{1}_{\\{a_i = a\\}} y_i^k \\phi(s_i)$\n",
    "\n",
    "\n",
    "(*) I use the fact that if $X \\in \\mathbb{R}^d$ and $\\mu \\in \\mathbb{R}$, then $\\mu.X = X.\\mu$ \n",
    "\n",
    "Since $\\left(\\lambda I_d + \\sum_{i=1}^N \\mathbb{1}_{\\{a_i = a\\}}\\phi(s_i)\\phi(s_i)^T\\right)$ is invertible except for a finite number of values of $\\lambda$, I obtain this:  \n",
    "$$\\boxed{(\\theta_{k+1})_{a} = \\left(\\lambda I_d + \\sum_{i=1}^N \\mathbb{1}_{\\{a_i = a\\}}\\phi(s_i)\\phi(s_i)^T\\right)^{-1}\\sum_{i=1}^N \\mathbb{1}_{\\{a_i = a\\}} y_i^k \\phi(s_i)}$$ \n"
   ]
  },
  {
   "cell_type": "markdown",
   "metadata": {
    "id": "ewHzjm7MVGBg"
   },
   "source": [
    "## Question 3.2\n",
    "\n",
    "The code below creates a larger gridworld (with more states than the one used in the previous questions), and defines a feature map. Implement linear FQI to this environment (in the function `linear_fqi()` below), and compare the approximated $Q$ function to the optimal $Q$ function computed with value iteration.\n",
    "\n",
    "Can you improve the feature map in order to reduce the approximation error?"
   ]
  },
  {
   "cell_type": "markdown",
   "metadata": {
    "id": "Tu4g-HSnEcBs"
   },
   "source": [
    "### **Answer**\n",
    "\n",
    "I used the dataset by uniformly sampling the states and actions, which leads to better results. For a fixed number of samples, **increasing the  feature dimension** and **decreasing the bandwidth** of the RBF kernel through which the feature map is established leads to better results.\n",
    "\n",
    "I used also other feature maps by replacing the similarity matrix by :  \n",
    "- dist : goal reached in about 7 seconds even with smaller dimensions (∼ 100) and without considering the \"sigma\" parameter.\n",
    "- (abs(x_jj - x_ii)<5)* (abs(y_jj - y_ii)<5) : not good"
   ]
  },
  {
   "cell_type": "code",
   "execution_count": 13,
   "metadata": {
    "id": "ZovF3VXOVfCs"
   },
   "outputs": [],
   "source": [
    "def get_large_gridworld():\n",
    "  \"\"\"Creates an instance of a grid-world MDP with more states.\"\"\"\n",
    "  walls = [(ii, 10) for ii in range(15) if (ii != 7 and ii != 8)]\n",
    "  env = GridWorld(\n",
    "      nrows=15,\n",
    "      ncols=15,\n",
    "      reward_at = {(14, 14):1.0},\n",
    "      walls=tuple(walls),\n",
    "      success_probability=0.9,\n",
    "      terminal_states=((14, 14),)\n",
    "  )\n",
    "  return env\n",
    "\n",
    "\n",
    "class GridWorldFeatureMap:\n",
    "  \"\"\"Create features for state-action pairs\n",
    "  \n",
    "  Args:\n",
    "    dim: int\n",
    "      Feature dimension\n",
    "    sigma: float\n",
    "      RBF kernel bandwidth\n",
    "  \"\"\"\n",
    "  def __init__(self, env, dim=15, sigma=0.25):\n",
    "    self.index2coord = env.index2coord\n",
    "    self.n_states = env.Ns\n",
    "    self.n_actions = env.Na\n",
    "    self.dim = dim\n",
    "    self.sigma = sigma\n",
    "\n",
    "    n_rows = env.nrows\n",
    "    n_cols = env.ncols\n",
    "\n",
    "    # build similarity matrix\n",
    "    sim_matrix = np.zeros((self.n_states, self.n_states))\n",
    "    for ii in range(self.n_states):\n",
    "        row_ii, col_ii = self.index2coord[ii]\n",
    "        x_ii = row_ii / n_rows\n",
    "        y_ii = col_ii / n_cols\n",
    "        for jj in range(self.n_states):\n",
    "            row_jj, col_jj = self.index2coord[jj]\n",
    "            x_jj = row_jj / n_rows\n",
    "            y_jj = col_jj / n_cols\n",
    "            dist = np.sqrt((x_jj - x_ii) ** 2.0 + (y_jj - y_ii) ** 2.0)\n",
    "            sim_matrix[ii, jj] = np.exp(-(dist / sigma) ** 2.0)\n",
    "            \n",
    "            \"\"\" Test of other feature maps \"\"\"\n",
    "            #sim_matrix[ii, jj] = dist\n",
    "            #sim_matrix[ii, jj] = (abs(x_jj - x_ii)<5)*(abs(y_jj - y_ii)<5)\n",
    "\n",
    "\n",
    "    # factorize similarity matrix to obtain features\n",
    "    uu, ss, vh = np.linalg.svd(sim_matrix, hermitian=True)\n",
    "    self.feats = vh[:dim, :]\n",
    "\n",
    "  def map(self, observation):\n",
    "    feat = self.feats[:, observation].copy()\n",
    "    return feat"
   ]
  },
  {
   "cell_type": "code",
   "execution_count": 14,
   "metadata": {
    "colab": {
     "base_uri": "https://localhost:8080/",
     "height": 502
    },
    "id": "InCfu7F9-TbS",
    "outputId": "376c11b7-0e85-4333-a043-335c1b2a5ff4"
   },
   "outputs": [
    {
     "data": {
      "text/html": [
       "<video alt=\"videos/gw.mp4\" autoplay\n",
       "                      loop controls style=\"height: 400px;\">\n",
       "                    <source src=\"data:video/mp4;base64,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\" type=\"video/mp4\" />\n",
       "                 </video>"
      ],
      "text/plain": [
       "<IPython.core.display.HTML object>"
      ]
     },
     "metadata": {},
     "output_type": "display_data"
    },
    {
     "name": "stdout",
     "output_type": "stream",
     "text": [
      "[-0.02850699  0.063555   -0.02169407 -0.06441918  0.04505794 -0.07537777\n",
      "  0.08506473 -0.09325287  0.09644275 -0.00535101  0.11632395 -0.13074085\n",
      "  0.00921342 -0.13853662  0.07118419]\n",
      "(15, 4)\n",
      "[0. 0. 0. 0.]\n"
     ]
    }
   ],
   "source": [
    "env = get_large_gridworld()\n",
    "feat_map = GridWorldFeatureMap(env)\n",
    "\n",
    "# Visualize large gridworld\n",
    "render_policy(env)\n",
    "\n",
    "# The features have dimension (feature_dim).\n",
    "feature_example = feat_map.map(1) # feature representation of s=1\n",
    "print(feature_example)\n",
    "\n",
    "# Initial vector theta representing the Q function\n",
    "theta = np.zeros((feat_map.dim, env.action_space.n))\n",
    "print(theta.shape)\n",
    "print(feature_example @ theta) # approximation of Q(s=1, a)"
   ]
  },
  {
   "cell_type": "code",
   "execution_count": 15,
   "metadata": {
    "colab": {
     "base_uri": "https://localhost:8080/",
     "height": 667
    },
    "id": "p21KMmruugO1",
    "outputId": "20a01b00-8228-44dd-950b-a1494eeba7f7"
   },
   "outputs": [
    {
     "data": {
      "text/html": [
       "<video alt=\"videos/gw.mp4\" autoplay\n",
       "                      loop controls style=\"height: 400px;\">\n",
       "                    <source src=\"data:video/mp4;base64,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\" type=\"video/mp4\" />\n",
       "                 </video>"
      ],
      "text/plain": [
       "<IPython.core.display.HTML object>"
      ]
     },
     "metadata": {},
     "output_type": "display_data"
    },
    {
     "data": {
      "image/png": "[encoded data removed]",
      "text/plain": [
       "<Figure size 432x288 with 1 Axes>"
      ]
     },
     "metadata": {
      "needs_background": "light"
     },
     "output_type": "display_data"
    }
   ],
   "source": [
    "def linear_fqi(env, feat_map, num_iterations, lambd=0.1, gamma=0.95):\n",
    "  \"\"\"\n",
    "  Args:\n",
    "    env: GridWorld\n",
    "        environment where to run the policy\n",
    "    feat_map: np.array\n",
    "        feature map\n",
    "    num_iterations: int\n",
    "        number of iterations \n",
    "    lambd: float\n",
    "        regularization coefficient\n",
    "    gamma: float\n",
    "        discount factor\n",
    "  \"\"\"\n",
    "\n",
    "  # get a dataset\n",
    "  #    dataset = get_uniform_dataset(env, n_samples=...)\n",
    "  # OR dataset = get_random_policy_dataset(env, n_samples=...)\n",
    "  \n",
    "  theta = np.zeros((feat_map.dim, env.Na))\n",
    "  \n",
    "  # get a dataset of 1000 samples\n",
    "  (states, actions, rewards, next_states) = get_uniform_dataset(env, n_samples = 2000) \n",
    "  A = np.unique(actions)\n",
    "  for it in range(num_iterations):\n",
    "    \n",
    "    Q = feat_map.map(next_states).T @ theta\n",
    "    Y = rewards + gamma * np.max(Q, axis = 1)\n",
    "\n",
    "    for a in A :  \n",
    "     indic = np.array((actions == a), dtype = int)\n",
    "     intermediate = lambd * np.eye(feat_map.dim) + (feat_map.map(states) * indic)@feat_map.map(states).T \n",
    "\n",
    "     theta[:,a]  = np.linalg.inv(intermediate) @ (feat_map.map(states)@(Y * indic)).T \n",
    "  return theta\n",
    "\n",
    "# ----------------------------\n",
    "# Environment and feature map\n",
    "# ----------------------------\n",
    "env = get_large_gridworld()\n",
    "# you can change the parameters of the feature map, and even try other maps!\n",
    "feat_map = GridWorldFeatureMap(env, dim=200, sigma=0.10)\n",
    "\n",
    "# -------\n",
    "# Run FQI\n",
    "# -------\n",
    "theta = linear_fqi(env, feat_map, num_iterations=100)\n",
    "\n",
    "# Compute and run greedy policy\n",
    "Q_fqi = np.zeros((env.Ns, env.Na))\n",
    "for ss in range(env.Ns):\n",
    "  state_feat = feat_map.map(ss)\n",
    "  Q_fqi[ss, :] = state_feat @ theta\n",
    "\n",
    "V_fqi = Q_fqi.max(axis=1)\n",
    "policy_fqi = Q_fqi.argmax(axis=1)\n",
    "render_policy(env, policy_fqi, horizon=100)\n",
    "\n",
    "# Visualize the approximate value function in the gridworld.\n",
    "img = env.get_layout_img(V_fqi)    \n",
    "plt.imshow(img)\n",
    "plt.show()"
   ]
  }
 ],
 "metadata": {
  "colab": {
   "collapsed_sections": [],
   "name": "Copie de RL-MVA_2021-Homework_1.ipynb",
   "provenance": []
  },
  "kernelspec": {
   "display_name": "Python 3",
   "language": "python",
   "name": "python3"
  },
  "language_info": {
   "codemirror_mode": {
    "name": "ipython",
    "version": 3
   },
   "file_extension": ".py",
   "mimetype": "text/x-python",
   "name": "python",
   "nbconvert_exporter": "python",
   "pygments_lexer": "ipython3",
   "version": "3.8.8"
  }
 },
 "nbformat": 4,
 "nbformat_minor": 1
}
